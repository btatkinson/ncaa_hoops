{
 "cells": [
  {
   "cell_type": "code",
   "execution_count": 1,
   "metadata": {},
   "outputs": [],
   "source": [
    "import pandas as pd\n",
    "import numpy as np\n",
    "from scipy.stats import beta\n",
    "import seaborn as sns\n",
    "import matplotlib.pyplot as plt\n",
    "import gc\n",
    "from tqdm import tqdm\n",
    "\n",
    "\n",
    "path = './data/'\n",
    "output = './output/'\n",
    "figs = './figs/'\n"
   ]
  },
  {
   "cell_type": "code",
   "execution_count": 2,
   "metadata": {},
   "outputs": [
    {
     "data": {
      "text/plain": [
       "7"
      ]
     },
     "execution_count": 2,
     "metadata": {},
     "output_type": "execute_result"
    }
   ],
   "source": [
    "df = pd.read_csv(path+'RegularSeasonDetailedResults.csv')\n",
    "df2 = pd.read_csv(path+'Prelim2019_RegularSeasonDetailedResults.csv')\n",
    "df = pd.concat([df,df2],axis=0)\n",
    "del df2\n",
    "gc.collect()"
   ]
  },
  {
   "cell_type": "code",
   "execution_count": 3,
   "metadata": {},
   "outputs": [
    {
     "name": "stdout",
     "output_type": "stream",
     "text": [
      "169407\n",
      "87366\n"
     ]
    }
   ],
   "source": [
    "print(len(df))\n",
    "# for some reason df has duplicate rows\n",
    "df = df.drop_duplicates()\n",
    "print(len(df))\n",
    "teams = pd.read_csv(path+'Teams.csv')"
   ]
  },
  {
   "cell_type": "markdown",
   "metadata": {},
   "source": [
    "### This is an experiment on bayesian updating and graphing. I'll probably end up making a medium post about it.\n",
    "### Ultimately I want it to be the basis for a college basketball model and compare it to my Elo model\n",
    "\n",
    "First goal:\n",
    "\n",
    "College basketball can be thought of as a combination of three stats. Offensive efficiency, defensive efficiency, and pace. Let's say Kentucky is playing Louisville in December. The Vegas line looks off to me, and I want to predict the final score.\n",
    "\n",
    "If I know both team's pace stats, I can predict how many possessions will happen in a game. In further work I will explore how scoring differential impacts pace and efficiency.\n",
    "\n",
    "Let's say I know that both teams will have 70 possessions. If I also know how efficient the teams will be on those possessions, I can predict the final score. If Kentucky scores 1.1 points per possession, and Louisville scores 1.05, the final score will be somewhere around 77-74.\n",
    "\n",
    "To start, I'm going to assume every team is average in terms of shooting efficiency, pace, etc. Then, game by game, I'll use bayesian updating to adjust those priors and hopefully by the end of the season we can be relatively certain how efficient teams are.\n"
   ]
  },
  {
   "cell_type": "code",
   "execution_count": 4,
   "metadata": {},
   "outputs": [
    {
     "data": {
      "text/html": [
       "<div>\n",
       "<style scoped>\n",
       "    .dataframe tbody tr th:only-of-type {\n",
       "        vertical-align: middle;\n",
       "    }\n",
       "\n",
       "    .dataframe tbody tr th {\n",
       "        vertical-align: top;\n",
       "    }\n",
       "\n",
       "    .dataframe thead th {\n",
       "        text-align: right;\n",
       "    }\n",
       "</style>\n",
       "<table border=\"1\" class=\"dataframe\">\n",
       "  <thead>\n",
       "    <tr style=\"text-align: right;\">\n",
       "      <th></th>\n",
       "      <th>Season</th>\n",
       "      <th>DayNum</th>\n",
       "      <th>WTeamID</th>\n",
       "      <th>WScore</th>\n",
       "      <th>LTeamID</th>\n",
       "      <th>LScore</th>\n",
       "      <th>WLoc</th>\n",
       "      <th>NumOT</th>\n",
       "      <th>WFGM</th>\n",
       "      <th>WFGA</th>\n",
       "      <th>...</th>\n",
       "      <th>LFGA3</th>\n",
       "      <th>LFTM</th>\n",
       "      <th>LFTA</th>\n",
       "      <th>LOR</th>\n",
       "      <th>LDR</th>\n",
       "      <th>LAst</th>\n",
       "      <th>LTO</th>\n",
       "      <th>LStl</th>\n",
       "      <th>LBlk</th>\n",
       "      <th>LPF</th>\n",
       "    </tr>\n",
       "  </thead>\n",
       "  <tbody>\n",
       "    <tr>\n",
       "      <th>0</th>\n",
       "      <td>2003</td>\n",
       "      <td>10</td>\n",
       "      <td>1104</td>\n",
       "      <td>68</td>\n",
       "      <td>1328</td>\n",
       "      <td>62</td>\n",
       "      <td>N</td>\n",
       "      <td>0</td>\n",
       "      <td>27</td>\n",
       "      <td>58</td>\n",
       "      <td>...</td>\n",
       "      <td>10</td>\n",
       "      <td>16</td>\n",
       "      <td>22</td>\n",
       "      <td>10</td>\n",
       "      <td>22</td>\n",
       "      <td>8</td>\n",
       "      <td>18</td>\n",
       "      <td>9</td>\n",
       "      <td>2</td>\n",
       "      <td>20</td>\n",
       "    </tr>\n",
       "    <tr>\n",
       "      <th>1</th>\n",
       "      <td>2003</td>\n",
       "      <td>10</td>\n",
       "      <td>1272</td>\n",
       "      <td>70</td>\n",
       "      <td>1393</td>\n",
       "      <td>63</td>\n",
       "      <td>N</td>\n",
       "      <td>0</td>\n",
       "      <td>26</td>\n",
       "      <td>62</td>\n",
       "      <td>...</td>\n",
       "      <td>24</td>\n",
       "      <td>9</td>\n",
       "      <td>20</td>\n",
       "      <td>20</td>\n",
       "      <td>25</td>\n",
       "      <td>7</td>\n",
       "      <td>12</td>\n",
       "      <td>8</td>\n",
       "      <td>6</td>\n",
       "      <td>16</td>\n",
       "    </tr>\n",
       "    <tr>\n",
       "      <th>2</th>\n",
       "      <td>2003</td>\n",
       "      <td>11</td>\n",
       "      <td>1266</td>\n",
       "      <td>73</td>\n",
       "      <td>1437</td>\n",
       "      <td>61</td>\n",
       "      <td>N</td>\n",
       "      <td>0</td>\n",
       "      <td>24</td>\n",
       "      <td>58</td>\n",
       "      <td>...</td>\n",
       "      <td>26</td>\n",
       "      <td>14</td>\n",
       "      <td>23</td>\n",
       "      <td>31</td>\n",
       "      <td>22</td>\n",
       "      <td>9</td>\n",
       "      <td>12</td>\n",
       "      <td>2</td>\n",
       "      <td>5</td>\n",
       "      <td>23</td>\n",
       "    </tr>\n",
       "    <tr>\n",
       "      <th>3</th>\n",
       "      <td>2003</td>\n",
       "      <td>11</td>\n",
       "      <td>1296</td>\n",
       "      <td>56</td>\n",
       "      <td>1457</td>\n",
       "      <td>50</td>\n",
       "      <td>N</td>\n",
       "      <td>0</td>\n",
       "      <td>18</td>\n",
       "      <td>38</td>\n",
       "      <td>...</td>\n",
       "      <td>22</td>\n",
       "      <td>8</td>\n",
       "      <td>15</td>\n",
       "      <td>17</td>\n",
       "      <td>20</td>\n",
       "      <td>9</td>\n",
       "      <td>19</td>\n",
       "      <td>4</td>\n",
       "      <td>3</td>\n",
       "      <td>23</td>\n",
       "    </tr>\n",
       "    <tr>\n",
       "      <th>4</th>\n",
       "      <td>2003</td>\n",
       "      <td>11</td>\n",
       "      <td>1400</td>\n",
       "      <td>77</td>\n",
       "      <td>1208</td>\n",
       "      <td>71</td>\n",
       "      <td>N</td>\n",
       "      <td>0</td>\n",
       "      <td>30</td>\n",
       "      <td>61</td>\n",
       "      <td>...</td>\n",
       "      <td>16</td>\n",
       "      <td>17</td>\n",
       "      <td>27</td>\n",
       "      <td>21</td>\n",
       "      <td>15</td>\n",
       "      <td>12</td>\n",
       "      <td>10</td>\n",
       "      <td>7</td>\n",
       "      <td>1</td>\n",
       "      <td>14</td>\n",
       "    </tr>\n",
       "  </tbody>\n",
       "</table>\n",
       "<p>5 rows × 34 columns</p>\n",
       "</div>"
      ],
      "text/plain": [
       "   Season  DayNum  WTeamID  WScore  LTeamID  LScore WLoc  NumOT  WFGM  WFGA  \\\n",
       "0    2003      10     1104      68     1328      62    N      0    27    58   \n",
       "1    2003      10     1272      70     1393      63    N      0    26    62   \n",
       "2    2003      11     1266      73     1437      61    N      0    24    58   \n",
       "3    2003      11     1296      56     1457      50    N      0    18    38   \n",
       "4    2003      11     1400      77     1208      71    N      0    30    61   \n",
       "\n",
       "   ...  LFGA3  LFTM  LFTA  LOR  LDR  LAst  LTO  LStl  LBlk  LPF  \n",
       "0  ...     10    16    22   10   22     8   18     9     2   20  \n",
       "1  ...     24     9    20   20   25     7   12     8     6   16  \n",
       "2  ...     26    14    23   31   22     9   12     2     5   23  \n",
       "3  ...     22     8    15   17   20     9   19     4     3   23  \n",
       "4  ...     16    17    27   21   15    12   10     7     1   14  \n",
       "\n",
       "[5 rows x 34 columns]"
      ]
     },
     "execution_count": 4,
     "metadata": {},
     "output_type": "execute_result"
    }
   ],
   "source": [
    "df.head()"
   ]
  },
  {
   "cell_type": "code",
   "execution_count": 5,
   "metadata": {},
   "outputs": [],
   "source": [
    "def team_by_team(df):\n",
    "    # preprocessing \n",
    "#     df = df.loc[df.Season>=2009]\n",
    "    print(len(df))\n",
    "    new_cols = []\n",
    "    for column in list(df):\n",
    "        if column == 'WLoc':\n",
    "            new_cols.append('WLoc')\n",
    "        else:\n",
    "            column = column.replace(\"W\",\"\")\n",
    "            column = column.replace(\"L\",\"Opp\")\n",
    "            new_cols.append(column)\n",
    "\n",
    "    print(new_cols)\n",
    "    df.columns=new_cols\n",
    "    opp_df = df.copy()\n",
    "    opp_cols = list(opp_df)\n",
    "\n",
    "    static_cols = ['Season','DayNum','WLoc','NumOT']\n",
    "    new_oc = []\n",
    "\n",
    "    for col in opp_cols:\n",
    "        if col in static_cols:\n",
    "            new_oc.append(col)\n",
    "        elif \"Opp\" in col:\n",
    "            new_oc.append(col.replace(\"Opp\",\"\"))\n",
    "        else:\n",
    "            new_oc.append('Opp'+col)\n",
    "\n",
    "    print(new_oc)\n",
    "\n",
    "    opp_df.columns=new_oc\n",
    "    # adjust location\n",
    "    reverse = {\n",
    "        'H':'A',\n",
    "        'A':'H',\n",
    "        'N':'N'\n",
    "    }\n",
    "\n",
    "    opp_df['WLoc'] = opp_df['WLoc'].replace(reverse)\n",
    "    opp_df = opp_df[new_cols]\n",
    "    df = pd.concat([opp_df,df],axis=0)\n",
    "\n",
    "    df = df.rename(columns={'WLoc':'Loc'})\n",
    "    return df\n",
    "\n"
   ]
  },
  {
   "cell_type": "code",
   "execution_count": 6,
   "metadata": {},
   "outputs": [
    {
     "name": "stdout",
     "output_type": "stream",
     "text": [
      "87366\n",
      "['Season', 'DayNum', 'TeamID', 'Score', 'OppTeamID', 'OppScore', 'WLoc', 'NumOT', 'FGM', 'FGA', 'FGM3', 'FGA3', 'FTM', 'FTA', 'OR', 'DR', 'Ast', 'TO', 'Stl', 'Blk', 'PF', 'OppFGM', 'OppFGA', 'OppFGM3', 'OppFGA3', 'OppFTM', 'OppFTA', 'OppOR', 'OppDR', 'OppAst', 'OppTO', 'OppStl', 'OppBlk', 'OppPF']\n",
      "['Season', 'DayNum', 'OppTeamID', 'OppScore', 'TeamID', 'Score', 'WLoc', 'NumOT', 'OppFGM', 'OppFGA', 'OppFGM3', 'OppFGA3', 'OppFTM', 'OppFTA', 'OppOR', 'OppDR', 'OppAst', 'OppTO', 'OppStl', 'OppBlk', 'OppPF', 'FGM', 'FGA', 'FGM3', 'FGA3', 'FTM', 'FTA', 'OR', 'DR', 'Ast', 'TO', 'Stl', 'Blk', 'PF']\n"
     ]
    }
   ],
   "source": [
    "df = team_by_team(df)\n"
   ]
  },
  {
   "cell_type": "code",
   "execution_count": 7,
   "metadata": {},
   "outputs": [],
   "source": [
    "df = df.sort_values(by=['Season','DayNum','TeamID'])\n",
    "# df.groupby(['Season','TeamID'])['Score'].cumcount()"
   ]
  },
  {
   "cell_type": "code",
   "execution_count": 8,
   "metadata": {},
   "outputs": [
    {
     "name": "stdout",
     "output_type": "stream",
     "text": [
      "1150666\n",
      "3328187\n"
     ]
    }
   ],
   "source": [
    "# let's start with a binomial 3 point distribution\n",
    "\n",
    "# total 3 pointers made \n",
    "FGM3 = df.FGM3.sum()\n",
    "FGA3 = df.FGA3.sum()\n",
    "\n",
    "base_rate = np.round(FGM3/FGA3, 5)\n",
    "# team by team average\n",
    "#34.3\n",
    "\n",
    "print(FGM3)\n",
    "print(FGA3)\n",
    "\n"
   ]
  },
  {
   "cell_type": "code",
   "execution_count": 9,
   "metadata": {},
   "outputs": [
    {
     "name": "stdout",
     "output_type": "stream",
     "text": [
      "0.09333985245976696\n"
     ]
    }
   ],
   "source": [
    "# Method 1: let's see per game error if we predict 34.51% every game\n",
    "df['3Pt%'] = np.round(df['FGM3']/df['FGA3'],4)\n",
    "df['Proj1'] = base_rate\n",
    "df['Error1'] = np.sqrt(np.square(df['3Pt%']-df['Proj1']))\n",
    "\n",
    "print(df['Error1'].mean())\n"
   ]
  },
  {
   "cell_type": "code",
   "execution_count": 10,
   "metadata": {},
   "outputs": [
    {
     "name": "stdout",
     "output_type": "stream",
     "text": [
      "174732\n",
      "174732\n"
     ]
    }
   ],
   "source": [
    "# X games in, predict Total - X games\n",
    "print(len(df))\n",
    "df = df.sort_values(by=['Season','DayNum'])\n",
    "df['SoFar_3M'] = df.groupby(['Season','TeamID'])['FGM3'].cumsum()\n",
    "df['SoFar_3A'] = df.groupby(['Season','TeamID'])['FGA3'].cumsum()\n",
    "\n",
    "print(len(df))\n",
    "\n",
    "# get reverse\n",
    "df = df.sort_values(by=['Season','DayNum'], ascending=False)\n",
    "df['ToGo_3M'] = df.groupby(['Season','TeamID'])['FGM3'].cumsum()\n",
    "df['ToGo_3A'] = df.groupby(['Season','TeamID'])['FGA3'].cumsum()\n",
    "df = df.sort_values(by=['Season','DayNum'])\n"
   ]
  },
  {
   "cell_type": "code",
   "execution_count": 11,
   "metadata": {},
   "outputs": [
    {
     "data": {
      "text/html": [
       "<div>\n",
       "<style scoped>\n",
       "    .dataframe tbody tr th:only-of-type {\n",
       "        vertical-align: middle;\n",
       "    }\n",
       "\n",
       "    .dataframe tbody tr th {\n",
       "        vertical-align: top;\n",
       "    }\n",
       "\n",
       "    .dataframe thead th {\n",
       "        text-align: right;\n",
       "    }\n",
       "</style>\n",
       "<table border=\"1\" class=\"dataframe\">\n",
       "  <thead>\n",
       "    <tr style=\"text-align: right;\">\n",
       "      <th></th>\n",
       "      <th>Season</th>\n",
       "      <th>DayNum</th>\n",
       "      <th>TeamID</th>\n",
       "      <th>Score</th>\n",
       "      <th>OppTeamID</th>\n",
       "      <th>OppScore</th>\n",
       "      <th>Loc</th>\n",
       "      <th>NumOT</th>\n",
       "      <th>FGM</th>\n",
       "      <th>FGA</th>\n",
       "      <th>...</th>\n",
       "      <th>3Pt%</th>\n",
       "      <th>Proj1</th>\n",
       "      <th>Error1</th>\n",
       "      <th>SoFar_3M</th>\n",
       "      <th>SoFar_3A</th>\n",
       "      <th>ToGo_3M</th>\n",
       "      <th>ToGo_3A</th>\n",
       "      <th>SoFar3Pt%</th>\n",
       "      <th>ToGo3Pt%</th>\n",
       "      <th>GameNumber</th>\n",
       "    </tr>\n",
       "  </thead>\n",
       "  <tbody>\n",
       "    <tr>\n",
       "      <th>0</th>\n",
       "      <td>2003</td>\n",
       "      <td>10</td>\n",
       "      <td>1104</td>\n",
       "      <td>68</td>\n",
       "      <td>1328</td>\n",
       "      <td>62</td>\n",
       "      <td>N</td>\n",
       "      <td>0</td>\n",
       "      <td>27</td>\n",
       "      <td>58</td>\n",
       "      <td>...</td>\n",
       "      <td>0.2143</td>\n",
       "      <td>0.34573</td>\n",
       "      <td>0.13143</td>\n",
       "      <td>3</td>\n",
       "      <td>14</td>\n",
       "      <td>175</td>\n",
       "      <td>542</td>\n",
       "      <td>0.214286</td>\n",
       "      <td>0.322878</td>\n",
       "      <td>1</td>\n",
       "    </tr>\n",
       "    <tr>\n",
       "      <th>1</th>\n",
       "      <td>2003</td>\n",
       "      <td>10</td>\n",
       "      <td>1272</td>\n",
       "      <td>70</td>\n",
       "      <td>1393</td>\n",
       "      <td>63</td>\n",
       "      <td>N</td>\n",
       "      <td>0</td>\n",
       "      <td>26</td>\n",
       "      <td>62</td>\n",
       "      <td>...</td>\n",
       "      <td>0.4000</td>\n",
       "      <td>0.34573</td>\n",
       "      <td>0.05427</td>\n",
       "      <td>8</td>\n",
       "      <td>20</td>\n",
       "      <td>195</td>\n",
       "      <td>562</td>\n",
       "      <td>0.400000</td>\n",
       "      <td>0.346975</td>\n",
       "      <td>1</td>\n",
       "    </tr>\n",
       "    <tr>\n",
       "      <th>0</th>\n",
       "      <td>2003</td>\n",
       "      <td>10</td>\n",
       "      <td>1328</td>\n",
       "      <td>62</td>\n",
       "      <td>1104</td>\n",
       "      <td>68</td>\n",
       "      <td>N</td>\n",
       "      <td>0</td>\n",
       "      <td>22</td>\n",
       "      <td>53</td>\n",
       "      <td>...</td>\n",
       "      <td>0.2000</td>\n",
       "      <td>0.34573</td>\n",
       "      <td>0.14573</td>\n",
       "      <td>2</td>\n",
       "      <td>10</td>\n",
       "      <td>222</td>\n",
       "      <td>559</td>\n",
       "      <td>0.200000</td>\n",
       "      <td>0.397138</td>\n",
       "      <td>1</td>\n",
       "    </tr>\n",
       "    <tr>\n",
       "      <th>1</th>\n",
       "      <td>2003</td>\n",
       "      <td>10</td>\n",
       "      <td>1393</td>\n",
       "      <td>63</td>\n",
       "      <td>1272</td>\n",
       "      <td>70</td>\n",
       "      <td>N</td>\n",
       "      <td>0</td>\n",
       "      <td>24</td>\n",
       "      <td>67</td>\n",
       "      <td>...</td>\n",
       "      <td>0.2500</td>\n",
       "      <td>0.34573</td>\n",
       "      <td>0.09573</td>\n",
       "      <td>6</td>\n",
       "      <td>24</td>\n",
       "      <td>146</td>\n",
       "      <td>436</td>\n",
       "      <td>0.250000</td>\n",
       "      <td>0.334862</td>\n",
       "      <td>1</td>\n",
       "    </tr>\n",
       "    <tr>\n",
       "      <th>5</th>\n",
       "      <td>2003</td>\n",
       "      <td>11</td>\n",
       "      <td>1186</td>\n",
       "      <td>55</td>\n",
       "      <td>1458</td>\n",
       "      <td>81</td>\n",
       "      <td>A</td>\n",
       "      <td>0</td>\n",
       "      <td>20</td>\n",
       "      <td>46</td>\n",
       "      <td>...</td>\n",
       "      <td>0.2727</td>\n",
       "      <td>0.34573</td>\n",
       "      <td>0.07303</td>\n",
       "      <td>3</td>\n",
       "      <td>11</td>\n",
       "      <td>133</td>\n",
       "      <td>376</td>\n",
       "      <td>0.272727</td>\n",
       "      <td>0.353723</td>\n",
       "      <td>1</td>\n",
       "    </tr>\n",
       "    <tr>\n",
       "      <th>4</th>\n",
       "      <td>2003</td>\n",
       "      <td>11</td>\n",
       "      <td>1208</td>\n",
       "      <td>71</td>\n",
       "      <td>1400</td>\n",
       "      <td>77</td>\n",
       "      <td>N</td>\n",
       "      <td>0</td>\n",
       "      <td>24</td>\n",
       "      <td>62</td>\n",
       "      <td>...</td>\n",
       "      <td>0.3750</td>\n",
       "      <td>0.34573</td>\n",
       "      <td>0.02927</td>\n",
       "      <td>6</td>\n",
       "      <td>16</td>\n",
       "      <td>175</td>\n",
       "      <td>460</td>\n",
       "      <td>0.375000</td>\n",
       "      <td>0.380435</td>\n",
       "      <td>1</td>\n",
       "    </tr>\n",
       "    <tr>\n",
       "      <th>2</th>\n",
       "      <td>2003</td>\n",
       "      <td>11</td>\n",
       "      <td>1266</td>\n",
       "      <td>73</td>\n",
       "      <td>1437</td>\n",
       "      <td>61</td>\n",
       "      <td>N</td>\n",
       "      <td>0</td>\n",
       "      <td>24</td>\n",
       "      <td>58</td>\n",
       "      <td>...</td>\n",
       "      <td>0.4444</td>\n",
       "      <td>0.34573</td>\n",
       "      <td>0.09867</td>\n",
       "      <td>8</td>\n",
       "      <td>18</td>\n",
       "      <td>154</td>\n",
       "      <td>409</td>\n",
       "      <td>0.444444</td>\n",
       "      <td>0.376528</td>\n",
       "      <td>1</td>\n",
       "    </tr>\n",
       "    <tr>\n",
       "      <th>3</th>\n",
       "      <td>2003</td>\n",
       "      <td>11</td>\n",
       "      <td>1296</td>\n",
       "      <td>56</td>\n",
       "      <td>1457</td>\n",
       "      <td>50</td>\n",
       "      <td>N</td>\n",
       "      <td>0</td>\n",
       "      <td>18</td>\n",
       "      <td>38</td>\n",
       "      <td>...</td>\n",
       "      <td>0.3333</td>\n",
       "      <td>0.34573</td>\n",
       "      <td>0.01243</td>\n",
       "      <td>3</td>\n",
       "      <td>9</td>\n",
       "      <td>192</td>\n",
       "      <td>500</td>\n",
       "      <td>0.333333</td>\n",
       "      <td>0.384000</td>\n",
       "      <td>1</td>\n",
       "    </tr>\n",
       "    <tr>\n",
       "      <th>4</th>\n",
       "      <td>2003</td>\n",
       "      <td>11</td>\n",
       "      <td>1400</td>\n",
       "      <td>77</td>\n",
       "      <td>1208</td>\n",
       "      <td>71</td>\n",
       "      <td>N</td>\n",
       "      <td>0</td>\n",
       "      <td>30</td>\n",
       "      <td>61</td>\n",
       "      <td>...</td>\n",
       "      <td>0.4286</td>\n",
       "      <td>0.34573</td>\n",
       "      <td>0.08287</td>\n",
       "      <td>6</td>\n",
       "      <td>14</td>\n",
       "      <td>158</td>\n",
       "      <td>456</td>\n",
       "      <td>0.428571</td>\n",
       "      <td>0.346491</td>\n",
       "      <td>1</td>\n",
       "    </tr>\n",
       "    <tr>\n",
       "      <th>2</th>\n",
       "      <td>2003</td>\n",
       "      <td>11</td>\n",
       "      <td>1437</td>\n",
       "      <td>61</td>\n",
       "      <td>1266</td>\n",
       "      <td>73</td>\n",
       "      <td>N</td>\n",
       "      <td>0</td>\n",
       "      <td>22</td>\n",
       "      <td>73</td>\n",
       "      <td>...</td>\n",
       "      <td>0.1154</td>\n",
       "      <td>0.34573</td>\n",
       "      <td>0.23033</td>\n",
       "      <td>3</td>\n",
       "      <td>26</td>\n",
       "      <td>197</td>\n",
       "      <td>547</td>\n",
       "      <td>0.115385</td>\n",
       "      <td>0.360146</td>\n",
       "      <td>1</td>\n",
       "    </tr>\n",
       "  </tbody>\n",
       "</table>\n",
       "<p>10 rows × 44 columns</p>\n",
       "</div>"
      ],
      "text/plain": [
       "   Season  DayNum  TeamID  Score  OppTeamID  OppScore Loc  NumOT  FGM  FGA  \\\n",
       "0    2003      10    1104     68       1328        62   N      0   27   58   \n",
       "1    2003      10    1272     70       1393        63   N      0   26   62   \n",
       "0    2003      10    1328     62       1104        68   N      0   22   53   \n",
       "1    2003      10    1393     63       1272        70   N      0   24   67   \n",
       "5    2003      11    1186     55       1458        81   A      0   20   46   \n",
       "4    2003      11    1208     71       1400        77   N      0   24   62   \n",
       "2    2003      11    1266     73       1437        61   N      0   24   58   \n",
       "3    2003      11    1296     56       1457        50   N      0   18   38   \n",
       "4    2003      11    1400     77       1208        71   N      0   30   61   \n",
       "2    2003      11    1437     61       1266        73   N      0   22   73   \n",
       "\n",
       "   ...    3Pt%    Proj1   Error1  SoFar_3M  SoFar_3A  ToGo_3M  ToGo_3A  \\\n",
       "0  ...  0.2143  0.34573  0.13143         3        14      175      542   \n",
       "1  ...  0.4000  0.34573  0.05427         8        20      195      562   \n",
       "0  ...  0.2000  0.34573  0.14573         2        10      222      559   \n",
       "1  ...  0.2500  0.34573  0.09573         6        24      146      436   \n",
       "5  ...  0.2727  0.34573  0.07303         3        11      133      376   \n",
       "4  ...  0.3750  0.34573  0.02927         6        16      175      460   \n",
       "2  ...  0.4444  0.34573  0.09867         8        18      154      409   \n",
       "3  ...  0.3333  0.34573  0.01243         3         9      192      500   \n",
       "4  ...  0.4286  0.34573  0.08287         6        14      158      456   \n",
       "2  ...  0.1154  0.34573  0.23033         3        26      197      547   \n",
       "\n",
       "   SoFar3Pt%  ToGo3Pt%  GameNumber  \n",
       "0   0.214286  0.322878           1  \n",
       "1   0.400000  0.346975           1  \n",
       "0   0.200000  0.397138           1  \n",
       "1   0.250000  0.334862           1  \n",
       "5   0.272727  0.353723           1  \n",
       "4   0.375000  0.380435           1  \n",
       "2   0.444444  0.376528           1  \n",
       "3   0.333333  0.384000           1  \n",
       "4   0.428571  0.346491           1  \n",
       "2   0.115385  0.360146           1  \n",
       "\n",
       "[10 rows x 44 columns]"
      ]
     },
     "execution_count": 11,
     "metadata": {},
     "output_type": "execute_result"
    }
   ],
   "source": [
    "df['ToGo_3M'] = df['ToGo_3M']-df['FGM3']\n",
    "df['ToGo_3A'] = df['ToGo_3A']-df['FGA3']\n",
    "\n",
    "df['SoFar3Pt%'] = df['SoFar_3M']/df['SoFar_3A']\n",
    "\n",
    "df['ToGo3Pt%'] = df['ToGo_3M']/df['ToGo_3A']\n",
    "\n",
    "df['GameNumber'] = df.groupby(['Season','TeamID'])['Score'].cumcount()\n",
    "\n",
    "df['GameNumber'] += 1\n",
    "\n",
    "df.head(10)"
   ]
  },
  {
   "cell_type": "code",
   "execution_count": 12,
   "metadata": {},
   "outputs": [
    {
     "name": "stdout",
     "output_type": "stream",
     "text": [
      "585\n"
     ]
    },
    {
     "data": {
      "text/html": [
       "<div>\n",
       "<style scoped>\n",
       "    .dataframe tbody tr th:only-of-type {\n",
       "        vertical-align: middle;\n",
       "    }\n",
       "\n",
       "    .dataframe tbody tr th {\n",
       "        vertical-align: top;\n",
       "    }\n",
       "\n",
       "    .dataframe thead th {\n",
       "        text-align: right;\n",
       "    }\n",
       "</style>\n",
       "<table border=\"1\" class=\"dataframe\">\n",
       "  <thead>\n",
       "    <tr style=\"text-align: right;\">\n",
       "      <th></th>\n",
       "      <th>Season</th>\n",
       "      <th>DayNum</th>\n",
       "      <th>TeamID</th>\n",
       "      <th>Score</th>\n",
       "      <th>OppTeamID</th>\n",
       "      <th>OppScore</th>\n",
       "      <th>Loc</th>\n",
       "      <th>NumOT</th>\n",
       "      <th>FGM</th>\n",
       "      <th>FGA</th>\n",
       "      <th>...</th>\n",
       "      <th>3Pt%</th>\n",
       "      <th>Proj1</th>\n",
       "      <th>Error1</th>\n",
       "      <th>SoFar_3M</th>\n",
       "      <th>SoFar_3A</th>\n",
       "      <th>ToGo_3M</th>\n",
       "      <th>ToGo_3A</th>\n",
       "      <th>SoFar3Pt%</th>\n",
       "      <th>ToGo3Pt%</th>\n",
       "      <th>GameNumber</th>\n",
       "    </tr>\n",
       "  </thead>\n",
       "  <tbody>\n",
       "    <tr>\n",
       "      <th>0</th>\n",
       "      <td>2003</td>\n",
       "      <td>10</td>\n",
       "      <td>1104</td>\n",
       "      <td>68</td>\n",
       "      <td>1328</td>\n",
       "      <td>62</td>\n",
       "      <td>N</td>\n",
       "      <td>0</td>\n",
       "      <td>27</td>\n",
       "      <td>58</td>\n",
       "      <td>...</td>\n",
       "      <td>0.2143</td>\n",
       "      <td>0.34573</td>\n",
       "      <td>0.13143</td>\n",
       "      <td>3</td>\n",
       "      <td>14</td>\n",
       "      <td>175</td>\n",
       "      <td>542</td>\n",
       "      <td>0.214286</td>\n",
       "      <td>0.322878</td>\n",
       "      <td>1</td>\n",
       "    </tr>\n",
       "    <tr>\n",
       "      <th>1</th>\n",
       "      <td>2003</td>\n",
       "      <td>10</td>\n",
       "      <td>1272</td>\n",
       "      <td>70</td>\n",
       "      <td>1393</td>\n",
       "      <td>63</td>\n",
       "      <td>N</td>\n",
       "      <td>0</td>\n",
       "      <td>26</td>\n",
       "      <td>62</td>\n",
       "      <td>...</td>\n",
       "      <td>0.4000</td>\n",
       "      <td>0.34573</td>\n",
       "      <td>0.05427</td>\n",
       "      <td>8</td>\n",
       "      <td>20</td>\n",
       "      <td>195</td>\n",
       "      <td>562</td>\n",
       "      <td>0.400000</td>\n",
       "      <td>0.346975</td>\n",
       "      <td>1</td>\n",
       "    </tr>\n",
       "    <tr>\n",
       "      <th>0</th>\n",
       "      <td>2003</td>\n",
       "      <td>10</td>\n",
       "      <td>1328</td>\n",
       "      <td>62</td>\n",
       "      <td>1104</td>\n",
       "      <td>68</td>\n",
       "      <td>N</td>\n",
       "      <td>0</td>\n",
       "      <td>22</td>\n",
       "      <td>53</td>\n",
       "      <td>...</td>\n",
       "      <td>0.2000</td>\n",
       "      <td>0.34573</td>\n",
       "      <td>0.14573</td>\n",
       "      <td>2</td>\n",
       "      <td>10</td>\n",
       "      <td>222</td>\n",
       "      <td>559</td>\n",
       "      <td>0.200000</td>\n",
       "      <td>0.397138</td>\n",
       "      <td>1</td>\n",
       "    </tr>\n",
       "    <tr>\n",
       "      <th>1</th>\n",
       "      <td>2003</td>\n",
       "      <td>10</td>\n",
       "      <td>1393</td>\n",
       "      <td>63</td>\n",
       "      <td>1272</td>\n",
       "      <td>70</td>\n",
       "      <td>N</td>\n",
       "      <td>0</td>\n",
       "      <td>24</td>\n",
       "      <td>67</td>\n",
       "      <td>...</td>\n",
       "      <td>0.2500</td>\n",
       "      <td>0.34573</td>\n",
       "      <td>0.09573</td>\n",
       "      <td>6</td>\n",
       "      <td>24</td>\n",
       "      <td>146</td>\n",
       "      <td>436</td>\n",
       "      <td>0.250000</td>\n",
       "      <td>0.334862</td>\n",
       "      <td>1</td>\n",
       "    </tr>\n",
       "    <tr>\n",
       "      <th>5</th>\n",
       "      <td>2003</td>\n",
       "      <td>11</td>\n",
       "      <td>1186</td>\n",
       "      <td>55</td>\n",
       "      <td>1458</td>\n",
       "      <td>81</td>\n",
       "      <td>A</td>\n",
       "      <td>0</td>\n",
       "      <td>20</td>\n",
       "      <td>46</td>\n",
       "      <td>...</td>\n",
       "      <td>0.2727</td>\n",
       "      <td>0.34573</td>\n",
       "      <td>0.07303</td>\n",
       "      <td>3</td>\n",
       "      <td>11</td>\n",
       "      <td>133</td>\n",
       "      <td>376</td>\n",
       "      <td>0.272727</td>\n",
       "      <td>0.353723</td>\n",
       "      <td>1</td>\n",
       "    </tr>\n",
       "  </tbody>\n",
       "</table>\n",
       "<p>5 rows × 44 columns</p>\n",
       "</div>"
      ],
      "text/plain": [
       "   Season  DayNum  TeamID  Score  OppTeamID  OppScore Loc  NumOT  FGM  FGA  \\\n",
       "0    2003      10    1104     68       1328        62   N      0   27   58   \n",
       "1    2003      10    1272     70       1393        63   N      0   26   62   \n",
       "0    2003      10    1328     62       1104        68   N      0   22   53   \n",
       "1    2003      10    1393     63       1272        70   N      0   24   67   \n",
       "5    2003      11    1186     55       1458        81   A      0   20   46   \n",
       "\n",
       "   ...    3Pt%    Proj1   Error1  SoFar_3M  SoFar_3A  ToGo_3M  ToGo_3A  \\\n",
       "0  ...  0.2143  0.34573  0.13143         3        14      175      542   \n",
       "1  ...  0.4000  0.34573  0.05427         8        20      195      562   \n",
       "0  ...  0.2000  0.34573  0.14573         2        10      222      559   \n",
       "1  ...  0.2500  0.34573  0.09573         6        24      146      436   \n",
       "5  ...  0.2727  0.34573  0.07303         3        11      133      376   \n",
       "\n",
       "   SoFar3Pt%  ToGo3Pt%  GameNumber  \n",
       "0   0.214286  0.322878           1  \n",
       "1   0.400000  0.346975           1  \n",
       "0   0.200000  0.397138           1  \n",
       "1   0.250000  0.334862           1  \n",
       "5   0.272727  0.353723           1  \n",
       "\n",
       "[5 rows x 44 columns]"
      ]
     },
     "execution_count": 12,
     "metadata": {},
     "output_type": "execute_result"
    }
   ],
   "source": [
    "print(df.loc[(df['Season']==2010)&(df['TeamID']==1107)].FGA3.sum())\n",
    "# cumulative sum includes current game, so subract that\n",
    "\n",
    "df.head()"
   ]
  },
  {
   "cell_type": "code",
   "execution_count": null,
   "metadata": {},
   "outputs": [],
   "source": [
    "\n"
   ]
  },
  {
   "cell_type": "code",
   "execution_count": 13,
   "metadata": {},
   "outputs": [],
   "source": [
    "df['Proj1'] = 0.34573\n",
    "df['Baseline'] = np.sqrt(np.square(df['ToGo3Pt%']-df['Proj1']))\n",
    "df['Error1'] = np.sqrt(np.square(df['SoFar3Pt%']-df['ToGo3Pt%']))\n",
    "\n",
    "# also do average\n",
    "df['Avg'] = (0.5*df['SoFar3Pt%']+0.5*df['Proj1'])\n",
    "df['Error2'] = np.sqrt(np.square(df['Avg']-df['ToGo3Pt%']))"
   ]
  },
  {
   "cell_type": "code",
   "execution_count": 14,
   "metadata": {},
   "outputs": [
    {
     "name": "stdout",
     "output_type": "stream",
     "text": [
      "0\n",
      "1\n"
     ]
    }
   ],
   "source": [
    "print(df['ToGo_3A'].min())\n",
    "\n",
    "test = df.loc[df['ToGo_3A'] > 0]\n",
    "print(test['ToGo_3A'].min())"
   ]
  },
  {
   "cell_type": "code",
   "execution_count": 15,
   "metadata": {},
   "outputs": [
    {
     "data": {
      "image/png": "[encoded data removed]",
      "text/plain": [
       "<Figure size 864x360 with 1 Axes>"
      ]
     },
     "metadata": {
      "needs_background": "light"
     },
     "output_type": "display_data"
    }
   ],
   "source": [
    "\n",
    "test.groupby(['GameNumber'])['Error2'].count()\n",
    "# let's do 32 or less games because of sample size\n",
    "test = test.loc[test['GameNumber']<=32]\n",
    "\n",
    "x = test.GameNumber.unique()\n",
    "y1 = test.groupby(['GameNumber'])['Baseline'].mean().values\n",
    "y2 = test.groupby(['GameNumber'])['Error1'].mean().values\n",
    "y3 = test.groupby(['GameNumber'])['Error2'].mean().values\n",
    "\n",
    "fig, ax = plt.subplots(1,1,figsize=(12,5))\n",
    "sns.lineplot(x,y1,label='Baseline', legend='full')\n",
    "sns.lineplot(x,y2, label='So Far', legend='full')\n",
    "sns.lineplot(x,y3, label='So Far W/ Prior', legend='full')\n",
    "\n",
    "# new_labels = ['label 1', 'label 2','label 3']\n",
    "# for t, l in zip(ax.legend, new_labels): t.set_text(l)\n",
    "    \n",
    "# ax.axhline(0.09245,color='r')\n",
    "ax.set_title('Given 3Pt% through X games, error predicting ROS 3Pt%')\n",
    "ax.legend()\n",
    "plt.savefig(figs+'3PTXGames.png')"
   ]
  },
  {
   "cell_type": "code",
   "execution_count": null,
   "metadata": {},
   "outputs": [],
   "source": []
  },
  {
   "cell_type": "code",
   "execution_count": 35,
   "metadata": {},
   "outputs": [
    {
     "name": "stdout",
     "output_type": "stream",
     "text": [
      "['Season', 'DayNum', 'TeamID', 'Score', 'OppTeamID', 'OppScore', 'Loc', 'NumOT', 'FGM', 'FGA', 'FGM3', 'FGA3', 'FTM', 'FTA', 'OR', 'DR', 'Ast', 'TO', 'Stl', 'Blk', 'PF', 'OppFGM', 'OppFGA', 'OppFGM3', 'OppFGA3', 'OppFTM', 'OppFTA', 'OppOR', 'OppDR', 'OppAst', 'OppTO', 'OppStl', 'OppBlk', 'OppPF', '3Pt%', 'Proj1', 'GameNumber', 'Baseline', 'Avg']\n"
     ]
    }
   ],
   "source": [
    "\n",
    "df = df.drop(columns=['SoFar_3M','SoFar_3A','SoFar3Pt%','ToGo_3M','ToGo_3A','ToGo3Pt%','Error1','Error2'])\n",
    "print(list(df))\n"
   ]
  },
  {
   "cell_type": "code",
   "execution_count": 36,
   "metadata": {},
   "outputs": [],
   "source": [
    "df['SeaTID'] = df['Season'].astype(str) + df['TeamID'].astype(str)"
   ]
  },
  {
   "cell_type": "code",
   "execution_count": 37,
   "metadata": {},
   "outputs": [
    {
     "name": "stdout",
     "output_type": "stream",
     "text": [
      "['Season', 'DayNum', 'TeamID', 'Score', 'OppTeamID', 'OppScore', 'Loc', 'NumOT', 'FGM', 'FGA', 'FGM3', 'FGA3', 'FTM', 'FTA', 'OR', 'DR', 'Ast', 'TO', 'Stl', 'Blk', 'PF', 'OppFGM', 'OppFGA', 'OppFGM3', 'OppFGA3', 'OppFTM', 'OppFTA', 'OppOR', 'OppDR', 'OppAst', 'OppTO', 'OppStl', 'OppBlk', 'OppPF', '3Pt%', 'Proj1', 'GameNumber', 'Baseline', 'Avg', 'SeaTID']\n"
     ]
    }
   ],
   "source": [
    "print(list(df))"
   ]
  },
  {
   "cell_type": "code",
   "execution_count": 42,
   "metadata": {},
   "outputs": [
    {
     "name": "stderr",
     "output_type": "stream",
     "text": [
      "100%|██████████| 30/30 [02:14<00:00,  4.62s/it]"
     ]
    },
    {
     "name": "stdout",
     "output_type": "stream",
     "text": [
      "[1, 2, 3, 4, 5, 6, 7, 8, 9, 10, 11, 12, 13, 14, 15, 16, 17, 18, 19, 20, 21, 22, 23, 24, 25, 26, 27, 28, 29, 30] [0.13010294734099873, 0.11279580502134132, 0.1062538427780958, 0.10279360600676372, 0.10064610008106513, 0.09914012331100422, 0.09806423215379331, 0.09731763597141964, 0.09671677639054793, 0.09616416987421816, 0.09587040888904237, 0.09547828627402302, 0.09517802573384712, 0.09487464739328925, 0.09461553295884444, 0.09447309682125309, 0.09422274277325493, 0.09388472001172558, 0.09360526068750849, 0.09349319589581144, 0.09336055507413168, 0.0930694819319332, 0.09265616843142083, 0.09264112754114694, 0.09263867787616718, 0.09237965431276401, 0.09275839524825032, 0.09233652735740533, 0.0923036634607124, 0.09338368235930736]\n"
     ]
    },
    {
     "name": "stderr",
     "output_type": "stream",
     "text": [
      "\n"
     ]
    }
   ],
   "source": [
    "# Simple Moving Average\n",
    "\n",
    "test = None\n",
    "\n",
    "windows = list(range(30))\n",
    "windows = [x + 1 for x in windows]\n",
    "\n",
    "x = []\n",
    "y1 = []\n",
    "y2 = []\n",
    "y3 = []\n",
    "# windows = [20]\n",
    "for w in tqdm(windows):\n",
    "    del test\n",
    "    gc.collect()\n",
    "    test = df.copy()\n",
    "    test['SMA'] = test.groupby(['SeaTID'])['3Pt%'].transform(lambda x: x.rolling(w, w).mean().shift(1))\n",
    "    \n",
    "    test = test.dropna()\n",
    "    \n",
    "    test['Avg'] = 0.5*test['SMA'] + 0.5*test['Proj1']\n",
    "    test['error1'] = np.sqrt(np.square(test['3Pt%']-test['SMA']))\n",
    "    test['error2'] = np.sqrt(np.square(test['3Pt%']-test['Proj1']))\n",
    "    test['error3'] = np.sqrt(np.square(test['3Pt%']-test['Avg']))\n",
    "    \n",
    "    x.append(w)\n",
    "    y1.append(test['error1'].mean())\n",
    "    y2.append(test['error2'].mean())\n",
    "    y3.append(test['error3'].mean())\n",
    "\n",
    "    \n",
    "print(x,y1)\n",
    "    "
   ]
  },
  {
   "cell_type": "code",
   "execution_count": 43,
   "metadata": {},
   "outputs": [],
   "source": [
    "sma_x = x\n",
    "sma_y1 = y1\n",
    "sma_y2 = y2\n",
    "sma_y3 = y3\n"
   ]
  },
  {
   "cell_type": "code",
   "execution_count": 44,
   "metadata": {},
   "outputs": [
    {
     "data": {
      "image/png": "[encoded data removed]",
      "text/plain": [
       "<Figure size 864x360 with 1 Axes>"
      ]
     },
     "metadata": {
      "needs_background": "light"
     },
     "output_type": "display_data"
    }
   ],
   "source": [
    "\n",
    "fig, ax = plt.subplots(1,1,figsize=(12,6))\n",
    "sns.lineplot(sma_x,sma_y2,label='Baseline')\n",
    "sns.lineplot(sma_x,sma_y1,label='SMA')\n",
    "sns.lineplot(sma_x,sma_y3,label='Avg')\n",
    "ax.legend()\n",
    "# ax.axhline(base_rate,color='r')\n",
    "ax.set_title('Error Using SMA of Last X Games')\n",
    "plt.savefig(figs+'SMAXGames.png')"
   ]
  },
  {
   "cell_type": "code",
   "execution_count": 45,
   "metadata": {},
   "outputs": [
    {
     "name": "stdout",
     "output_type": "stream",
     "text": [
      "0.0923036634607124\n"
     ]
    }
   ],
   "source": [
    "print(np.min(sma_y1))\n"
   ]
  },
  {
   "cell_type": "code",
   "execution_count": 46,
   "metadata": {},
   "outputs": [
    {
     "name": "stderr",
     "output_type": "stream",
     "text": [
      "\r",
      "  0%|          | 0/31 [00:00<?, ?it/s]"
     ]
    },
    {
     "name": "stdout",
     "output_type": "stream",
     "text": [
      "[0.01  0.043 0.076 0.109 0.142 0.175 0.208 0.241 0.274 0.307 0.34  0.373\n",
      " 0.406 0.439 0.472 0.505 0.538 0.571 0.604 0.637 0.67  0.703 0.736 0.769\n",
      " 0.802 0.835 0.868 0.901 0.934 0.967 1.   ]\n"
     ]
    },
    {
     "name": "stderr",
     "output_type": "stream",
     "text": [
      "100%|██████████| 31/31 [02:00<00:00,  3.81s/it]\n"
     ]
    }
   ],
   "source": [
    "# Exponential Weighted Average\n",
    "\n",
    "test = None\n",
    "\n",
    "x = []\n",
    "y = []\n",
    "\n",
    "alphas = np.linspace(0.01,1,31)\n",
    "print(alphas)\n",
    "\n",
    "for a in tqdm(alphas):\n",
    "    del test\n",
    "    gc.collect()\n",
    "    test = df.copy()\n",
    "    test.reset_index(inplace=True,drop=True)\n",
    "\n",
    "    test = test.assign(\n",
    "        Proj=test.groupby('SeaTID')['3Pt%'].apply(\n",
    "            lambda x: x.ewm(alpha=a, adjust=False).mean().shift(1)))\n",
    "    \n",
    "    test = test.loc[test['GameNumber']>=29]\n",
    "    test = test.dropna(subset=['Proj'])\n",
    "    test['Error'] = np.sqrt(np.square(test['3Pt%']-test['Proj']))\n",
    "    \n",
    "    x.append(a)\n",
    "    y.append(test['Error'].mean())\n",
    "\n",
    "\n",
    "ema_x = x\n",
    "ema_y = y\n",
    "    \n",
    "    "
   ]
  },
  {
   "cell_type": "code",
   "execution_count": 47,
   "metadata": {},
   "outputs": [
    {
     "data": {
      "image/png": "[encoded data removed]",
      "text/plain": [
       "<Figure size 864x360 with 1 Axes>"
      ]
     },
     "metadata": {
      "needs_background": "light"
     },
     "output_type": "display_data"
    }
   ],
   "source": [
    "gc.collect()\n",
    "\n",
    "fig, ax = plt.subplots(1,1,figsize=(12,5))\n",
    "sns.lineplot(ema_x,ema_y)\n",
    "ax.axhline(0.09245,color='r')\n",
    "ax.set_title('Error Using EMA of Diff Alpha (29 Games)')\n",
    "plt.savefig(figs+'EMAAlpha.png')"
   ]
  },
  {
   "cell_type": "code",
   "execution_count": 48,
   "metadata": {},
   "outputs": [
    {
     "name": "stdout",
     "output_type": "stream",
     "text": [
      "[0.01, 0.043000000000000003, 0.076, 0.109, 0.14200000000000002, 0.17500000000000002, 0.20800000000000002, 0.24100000000000002, 0.274, 0.30700000000000005, 0.34, 0.373, 0.406, 0.43900000000000006, 0.47200000000000003, 0.505, 0.538, 0.5710000000000001, 0.6040000000000001, 0.637, 0.67, 0.7030000000000001, 0.736, 0.769, 0.802, 0.8350000000000001, 0.8680000000000001, 0.901, 0.934, 0.9670000000000001, 1.0]\n",
      "[0.11432712653710292, 0.0956902951452421, 0.09323500219722157, 0.09358726502628588, 0.09441740929812298, 0.09532877646630213, 0.09625568079599818, 0.09719604315572275, 0.09815981785175669, 0.09915277461813504, 0.10017292406613314, 0.10123019875427436, 0.10232819173449985, 0.10347171304317246, 0.10464772724793348, 0.1058622470615371, 0.10710628915052581, 0.10838408510709056, 0.10971042928522033, 0.11107531561967576, 0.11249399523987672, 0.1139632837286707, 0.11547307700429839, 0.11703602844383543, 0.11867165266286892, 0.12036899732134469, 0.12213845358845947, 0.12398092534843885, 0.12590139076300863, 0.127892380315373, 0.1299613165506997]\n"
     ]
    }
   ],
   "source": [
    "print(list(ema_x))\n",
    "print(list(ema_y))\n",
    "# .043 - .175"
   ]
  },
  {
   "cell_type": "code",
   "execution_count": 49,
   "metadata": {},
   "outputs": [
    {
     "name": "stderr",
     "output_type": "stream",
     "text": [
      "100%|██████████| 25/25 [01:40<00:00,  3.57s/it]\n"
     ]
    }
   ],
   "source": [
    "# do again with better alphas\n",
    "test = None\n",
    "\n",
    "x = []\n",
    "y = []\n",
    "\n",
    "alphas = np.linspace(.043,.175,25)\n",
    "\n",
    "for a in tqdm(alphas):\n",
    "    del test\n",
    "    gc.collect()\n",
    "    test = df.copy()\n",
    "    test.reset_index(inplace=True,drop=True)\n",
    "\n",
    "    test = test.assign(\n",
    "        Proj=test.groupby('SeaTID')['3Pt%'].apply(\n",
    "            lambda x: x.ewm(alpha=a, adjust=False).mean().shift(1)))\n",
    "    \n",
    "    test = test.loc[test['GameNumber']>=29]\n",
    "    test = test.dropna(subset=['Proj'])\n",
    "    test['Error'] = np.sqrt(np.square(test['3Pt%']-test['Proj']))\n",
    "    \n",
    "    x.append(a)\n",
    "    y.append(test['Error'].mean())\n",
    "\n",
    "\n",
    "ema_x1 = x\n",
    "ema_y1 = y\n",
    "    "
   ]
  },
  {
   "cell_type": "code",
   "execution_count": 105,
   "metadata": {},
   "outputs": [
    {
     "data": {
      "image/png": "[encoded data removed]",
      "text/plain": [
       "<Figure size 864x360 with 1 Axes>"
      ]
     },
     "metadata": {
      "needs_background": "light"
     },
     "output_type": "display_data"
    }
   ],
   "source": [
    "gc.collect()\n",
    "\n",
    "fig, ax = plt.subplots(1,1,figsize=(12,5))\n",
    "sns.lineplot(ema_x1,ema_y1)\n",
    "ax.axhline(0.09245,color='r')\n",
    "ax.set_title('Error Using EMA of Diff Alpha (29 Games)')\n",
    "plt.savefig(figs+'EMAAlpha1.png')"
   ]
  },
  {
   "cell_type": "code",
   "execution_count": 50,
   "metadata": {},
   "outputs": [
    {
     "data": {
      "text/plain": [
       "0.09321076040257165"
      ]
     },
     "execution_count": 50,
     "metadata": {},
     "output_type": "execute_result"
    }
   ],
   "source": [
    "np.min(ema_y1)"
   ]
  },
  {
   "cell_type": "code",
   "execution_count": 107,
   "metadata": {},
   "outputs": [
    {
     "name": "stdout",
     "output_type": "stream",
     "text": [
      "174732\n",
      "163951\n"
     ]
    }
   ],
   "source": [
    "# what if we use the previous season's 3pt average as a prior?\n",
    "\n",
    "test = df.copy()\n",
    "test['PrevYear'] = test['Season'] - 1\n",
    "test['PrevTID'] = test['PrevYear'].astype(str) + test['TeamID'].astype(str)\n",
    "\n",
    "tgb = test.groupby(['PrevTID'])['3Pt%'].mean().reset_index()\n",
    "tgb = tgb.rename(columns={'PrevTID':'SeaTID','3Pt%':'Prev3Pt%'})\n",
    "test = test.drop(columns=['PrevYear','PrevTID'])\n",
    "\n",
    "test = pd.merge(test, tgb, how='left', on=['SeaTID','SeaTID'])\n",
    "print(len(test))\n",
    "test = test.dropna(subset=['Prev3Pt%'])\n",
    "print(len(test))"
   ]
  },
  {
   "cell_type": "code",
   "execution_count": 108,
   "metadata": {},
   "outputs": [
    {
     "name": "stdout",
     "output_type": "stream",
     "text": [
      "0.09449422559788605\n",
      "0.09337947276767011\n",
      "0.09337947276767011\n",
      "0.0969260027642786\n",
      "0.09386445328177322\n"
     ]
    }
   ],
   "source": [
    "\n",
    "\n",
    "test['Avg'] = (test['Prev3Pt%'] + 0.34484)/2\n",
    "\n",
    "rand = test['Prev3Pt%'].copy().values\n",
    "np.random.shuffle(rand)\n",
    "test['Rand'] = rand\n",
    "\n",
    "\n",
    "test['WeightedAvg'] = ((0.5*test['Prev3Pt%']) + (0.5*0.34484))\n",
    "\n",
    "test['error1'] = np.sqrt(np.square(test['3Pt%']-test['Prev3Pt%']))\n",
    "test['error2'] = np.sqrt(np.square(test['3Pt%']-test['Avg']))\n",
    "test['error3'] = np.sqrt(np.square(test['3Pt%']-test['WeightedAvg']))\n",
    "test['error4'] = np.sqrt(np.square(test['3Pt%']-test['Rand']))\n",
    "test['error5'] = np.sqrt(np.square(test['3Pt%']-0.34484))\n",
    "\n",
    "print(test.error1.mean())\n",
    "print(test.error2.mean())\n",
    "print(test.error3.mean())\n",
    "print(test.error4.mean())\n",
    "print(test.error5.mean())\n",
    "\n"
   ]
  },
  {
   "cell_type": "code",
   "execution_count": 157,
   "metadata": {},
   "outputs": [
    {
     "name": "stdout",
     "output_type": "stream",
     "text": [
      "17\n",
      "1 9964 0.0901025574889576 0.09394767883287237 0.0038451213439147786\n",
      "2 19895 0.08995243288610416 0.09315248470937831 0.0032000518232741526\n",
      "3 29925 0.08986334093498825 0.09290101945814293 0.0030376785231546743\n",
      "4 40006 0.08975206596265464 0.09272398357448298 0.0029719176118283425\n",
      "5 50562 0.08971693429439084 0.09262565321797277 0.002908718923581924\n",
      "6 61210 0.08961222410104151 0.09251512707015215 0.002902902969110638\n",
      "7 71789 0.08934615445420335 0.09223617320151598 0.0028900187473126226\n",
      "8 82322 0.08879902048739938 0.09164857555731731 0.002849555069917936\n",
      "9 92842 0.08835872784804427 0.09116493205393232 0.0028062042058880493\n",
      "10 103379 0.08746692724348702 0.09021419173577043 0.0027472644922834077\n",
      "11 113971 0.0867871743962511 0.0894491522445407 0.002661977848289601\n",
      "12 124405 0.08582257537107456 0.08846420676869564 0.0026416313976210803\n",
      "13 134635 0.08439851742911005 0.08709254813971888 0.0026940307106088357\n",
      "14 144841 0.0836668807050976 0.08627315824404037 0.0026062775389427695\n",
      "15 154960 0.08289317568612684 0.08549377438315305 0.00260059869702621\n",
      "16 164950 0.08181585917842067 0.08477924521719707 0.002963386038776397\n"
     ]
    }
   ],
   "source": [
    "\n",
    "\n",
    "print(len(df.Season.unique()))\n",
    "windows = list(range(16))\n",
    "windows = [x+1 for x in windows]\n",
    "for window in windows:\n",
    "    del test\n",
    "    gc.collect()\n",
    "    test = df.copy()\n",
    "    tgb = test.groupby(['Season','TeamID'])['3Pt%'].mean().reset_index()\n",
    "    tgb['Rolling'] = tgb.groupby(['TeamID'])['3Pt%'].transform(lambda x: x.rolling(window, window).mean().shift(1))\n",
    "    tgb = tgb.dropna(subset=['Rolling'])\n",
    "    tgb['SeaTID'] = tgb['Season'].astype(str) + tgb['TeamID'].astype(str)\n",
    "\n",
    "    tgb = tgb.rename(columns={'3Pt%':'Sea3Pt%'})\n",
    "    tgb = tgb[['SeaTID','Sea3Pt%','Rolling']]\n",
    "    \n",
    "    test = pd.merge(test,tgb,how='left',on=['SeaTID','SeaTID'])\n",
    "    \n",
    "    start = len(test)\n",
    "    test = test.dropna(subset=['Rolling'])\n",
    "    end = len(test)\n",
    "\n",
    "    test['error1'] = np.sqrt(np.square(test['3Pt%']-test['Sea3Pt%']))\n",
    "    test['error2'] = np.sqrt(np.square(test['3Pt%']-test['Rolling'])) \n",
    "\n",
    "    print(window, start-end, test['error1'].mean(),test['error2'].mean(), test['error2'].mean()-test['error1'].mean())\n"
   ]
  },
  {
   "cell_type": "code",
   "execution_count": 155,
   "metadata": {},
   "outputs": [
    {
     "name": "stdout",
     "output_type": "stream",
     "text": [
      "[1, 2, 3, 4, 5, 6, 7, 8, 9, 10, 11, 12, 13, 14, 15, 16]\n",
      "1 0.09010255748895761 0.09292066199625576 0.09460162309344304\n",
      "2 0.08995243288610416 0.09273308953560176 0.09440717561214354\n",
      "3 0.08986334093498825 0.09261288157915155 0.09442719486779284\n",
      "4 0.08975206596265466 0.09251505217161311 0.09456860923085045\n",
      "5 0.08971693429439086 0.09244178062226745 0.09449912882877956\n",
      "6 0.08961222410104147 0.09234924273852847 0.09436067979116268\n",
      "7 0.08934615445420335 0.09203157092108499 0.09431779772526219\n",
      "8 0.08879902048739938 0.09144524853748451 0.09441825341282176\n",
      "9 0.08835872784804427 0.09098485749200425 0.09417402032901369\n",
      "10 0.08746692724348701 0.09004271914179211 0.09466043966980603\n",
      "11 0.08678717439625108 0.08931546877049193 0.09405872943904055\n",
      "12 0.08582257537107456 0.08834077449738269 0.09426085912423443\n",
      "13 0.08439851742911005 0.0869611475988267 0.09424539558598252\n",
      "14 0.08366688070509762 0.08617349395550321 0.09458633986091995\n",
      "15 0.08289317568612685 0.08536099957235159 0.09397758760282333\n",
      "16 0.08181585917842066 0.08465337681726372 0.09382724250656899\n"
     ]
    }
   ],
   "source": [
    "\n",
    "spans = list(range(16))\n",
    "spans = [x+1 for x in spans]\n",
    "print(spans)\n",
    "for s in spans:\n",
    "    del test\n",
    "    gc.collect()\n",
    "    test = df.copy()\n",
    "    tgb = test.groupby(['Season','TeamID'])['3Pt%'].mean().reset_index()\n",
    "#     tgb['Rolling'] = tgb.groupby(['TeamID'])['3Pt%'].transform(lambda x: x.rolling(window, window).mean().shift(1))\n",
    "    tgb['Rolling'] = tgb.groupby(['TeamID'])['3Pt%'].apply(lambda x: x.ewm(alpha=0.25,min_periods=s).mean().shift(1))\n",
    "    tgb = tgb.dropna(subset=['Rolling'])\n",
    "    tgb['SeaTID'] = tgb['Season'].astype(str) + tgb['TeamID'].astype(str)\n",
    "\n",
    "    tgb = tgb.rename(columns={'3Pt%':'Sea3Pt%'})\n",
    "    tgb = tgb[['SeaTID','Sea3Pt%','Rolling']]\n",
    "\n",
    "    test = pd.merge(test,tgb,how='left',on=['SeaTID','SeaTID'])\n",
    "    \n",
    "    rand = test.Rolling.copy().values\n",
    "    np.random.shuffle(rand)\n",
    "    test['Rand'] = rand\n",
    "\n",
    "    test['error1'] = np.sqrt(np.square(test['3Pt%']-test['Sea3Pt%']))\n",
    "    test['error2'] = np.sqrt(np.square(test['3Pt%']-test['Rolling'])) \n",
    "    test['error3'] = np.sqrt(np.square(test['3Pt%']-test['Rand'])) \n",
    "\n",
    "    print(s, test['error1'].mean(),test['error2'].mean(), test['error3'].mean())#test['error2'].mean()-test['error1'].mean())\n",
    "\n"
   ]
  },
  {
   "cell_type": "code",
   "execution_count": null,
   "metadata": {},
   "outputs": [],
   "source": []
  },
  {
   "cell_type": "code",
   "execution_count": 26,
   "metadata": {},
   "outputs": [
    {
     "data": {
      "text/plain": [
       "[<matplotlib.lines.Line2D at 0x11a7dc290>]"
      ]
     },
     "execution_count": 26,
     "metadata": {},
     "output_type": "execute_result"
    },
    {
     "data": {
      "image/png": "[encoded data removed]",
      "text/plain": [
       "<Figure size 432x288 with 1 Axes>"
      ]
     },
     "metadata": {
      "needs_background": "light"
     },
     "output_type": "display_data"
    }
   ],
   "source": [
    "# so, how 'sticky' the prior will be depends on how many samples you use\n",
    "# if we said the team made 633K/1.8M shots, then the prior wouldn't move\n",
    "# instead, since we expect variability, we can say the team made 35/100 shots. \n",
    "# This is a compromise between not sticky enough and too sticky, and can be adjusted\n",
    "\n",
    "from scipy.stats import beta\n",
    "import matplotlib.pyplot as plt\n",
    "import numpy as np\n",
    "a =  35\n",
    "b = 100\n",
    "x = np.linspace(0, 1.0, 100)\n",
    "y1 = beta.pdf(x, a, b)\n",
    "# y2 = beta.pdf(x, 3.25, 3.25)\n",
    "# y3 = beta.pdf(x, 3, 3)\n",
    "plt.plot(x, y1, \"-\")# x, y2, \"r--\", x, y3, \"g--\")\n",
    "\n"
   ]
  },
  {
   "cell_type": "code",
   "execution_count": 42,
   "metadata": {},
   "outputs": [
    {
     "data": {
      "text/plain": [
       "['Season',\n",
       " 'DayNum',\n",
       " 'TeamID',\n",
       " 'Score',\n",
       " 'OppTeamID',\n",
       " 'OppScore',\n",
       " 'Loc',\n",
       " 'NumOT',\n",
       " 'FGM',\n",
       " 'FGA',\n",
       " 'FGM3',\n",
       " 'FGA3',\n",
       " 'FTM',\n",
       " 'FTA',\n",
       " 'OR',\n",
       " 'DR',\n",
       " 'Ast',\n",
       " 'TO',\n",
       " 'Stl',\n",
       " 'Blk',\n",
       " 'PF',\n",
       " 'OppFGM',\n",
       " 'OppFGA',\n",
       " 'OppFGM3',\n",
       " 'OppFGA3',\n",
       " 'OppFTM',\n",
       " 'OppFTA',\n",
       " 'OppOR',\n",
       " 'OppDR',\n",
       " 'OppAst',\n",
       " 'OppTO',\n",
       " 'OppStl',\n",
       " 'OppBlk',\n",
       " 'OppPF']"
      ]
     },
     "execution_count": 42,
     "metadata": {},
     "output_type": "execute_result"
    }
   ],
   "source": []
  },
  {
   "cell_type": "code",
   "execution_count": 71,
   "metadata": {},
   "outputs": [
    {
     "data": {
      "text/plain": [
       "0.3436479095074456"
      ]
     },
     "execution_count": 71,
     "metadata": {},
     "output_type": "execute_result"
    }
   ],
   "source": [
    "# find worst and best 3pt shooting teams\n",
    "gb = df.groupby(['Season','TeamID'])['FGM3','FGA3'].sum().reset_index()\n",
    "gb['3Pt%'] = np.round(gb['FGM3']/gb['FGA3'],4)\n",
    "gb = gb.sort_values(by='3Pt%')\n",
    "\n",
    "teams = teams[['TeamID','TeamName']]\n",
    "gb = pd.merge(gb, teams, how='left', on=['TeamID','TeamID'])\n",
    "gb['3Pt%'].mean()\n"
   ]
  },
  {
   "cell_type": "code",
   "execution_count": 52,
   "metadata": {},
   "outputs": [
    {
     "data": {
      "text/plain": [
       "68"
      ]
     },
     "execution_count": 52,
     "metadata": {},
     "output_type": "execute_result"
    }
   ],
   "source": [
    "# Duke (team code 1181) was bad at 3 point shooting in 2019. \n",
    "#Let's see how the distribution evolves over the course of the season\n",
    "\n",
    "# msu = df.loc[df.TeamID==1277]\n",
    "# msu = msu.loc[msu.Season==2016]\n",
    "# len(msu)\n"
   ]
  },
  {
   "cell_type": "code",
   "execution_count": 53,
   "metadata": {},
   "outputs": [
    {
     "data": {
      "text/html": [
       "<div>\n",
       "<style scoped>\n",
       "    .dataframe tbody tr th:only-of-type {\n",
       "        vertical-align: middle;\n",
       "    }\n",
       "\n",
       "    .dataframe tbody tr th {\n",
       "        vertical-align: top;\n",
       "    }\n",
       "\n",
       "    .dataframe thead th {\n",
       "        text-align: right;\n",
       "    }\n",
       "</style>\n",
       "<table border=\"1\" class=\"dataframe\">\n",
       "  <thead>\n",
       "    <tr style=\"text-align: right;\">\n",
       "      <th></th>\n",
       "      <th>FGM3</th>\n",
       "      <th>FGMiss3</th>\n",
       "      <th>3Pt%</th>\n",
       "    </tr>\n",
       "  </thead>\n",
       "  <tbody>\n",
       "    <tr>\n",
       "      <th>65924</th>\n",
       "      <td>5</td>\n",
       "      <td>8</td>\n",
       "      <td>0.384615</td>\n",
       "    </tr>\n",
       "    <tr>\n",
       "      <th>66133</th>\n",
       "      <td>9</td>\n",
       "      <td>12</td>\n",
       "      <td>0.428571</td>\n",
       "    </tr>\n",
       "    <tr>\n",
       "      <th>66257</th>\n",
       "      <td>9</td>\n",
       "      <td>17</td>\n",
       "      <td>0.346154</td>\n",
       "    </tr>\n",
       "    <tr>\n",
       "      <th>66432</th>\n",
       "      <td>9</td>\n",
       "      <td>11</td>\n",
       "      <td>0.450000</td>\n",
       "    </tr>\n",
       "    <tr>\n",
       "      <th>66579</th>\n",
       "      <td>11</td>\n",
       "      <td>10</td>\n",
       "      <td>0.523810</td>\n",
       "    </tr>\n",
       "    <tr>\n",
       "      <th>66629</th>\n",
       "      <td>10</td>\n",
       "      <td>13</td>\n",
       "      <td>0.434783</td>\n",
       "    </tr>\n",
       "    <tr>\n",
       "      <th>66755</th>\n",
       "      <td>7</td>\n",
       "      <td>15</td>\n",
       "      <td>0.318182</td>\n",
       "    </tr>\n",
       "    <tr>\n",
       "      <th>66876</th>\n",
       "      <td>9</td>\n",
       "      <td>14</td>\n",
       "      <td>0.391304</td>\n",
       "    </tr>\n",
       "    <tr>\n",
       "      <th>67011</th>\n",
       "      <td>7</td>\n",
       "      <td>19</td>\n",
       "      <td>0.269231</td>\n",
       "    </tr>\n",
       "    <tr>\n",
       "      <th>67169</th>\n",
       "      <td>12</td>\n",
       "      <td>10</td>\n",
       "      <td>0.545455</td>\n",
       "    </tr>\n",
       "    <tr>\n",
       "      <th>67245</th>\n",
       "      <td>5</td>\n",
       "      <td>20</td>\n",
       "      <td>0.200000</td>\n",
       "    </tr>\n",
       "    <tr>\n",
       "      <th>67495</th>\n",
       "      <td>6</td>\n",
       "      <td>7</td>\n",
       "      <td>0.461538</td>\n",
       "    </tr>\n",
       "    <tr>\n",
       "      <th>67654</th>\n",
       "      <td>10</td>\n",
       "      <td>7</td>\n",
       "      <td>0.588235</td>\n",
       "    </tr>\n",
       "    <tr>\n",
       "      <th>67986</th>\n",
       "      <td>4</td>\n",
       "      <td>9</td>\n",
       "      <td>0.307692</td>\n",
       "    </tr>\n",
       "    <tr>\n",
       "      <th>68210</th>\n",
       "      <td>6</td>\n",
       "      <td>9</td>\n",
       "      <td>0.400000</td>\n",
       "    </tr>\n",
       "  </tbody>\n",
       "</table>\n",
       "</div>"
      ],
      "text/plain": [
       "       FGM3  FGMiss3      3Pt%\n",
       "65924     5        8  0.384615\n",
       "66133     9       12  0.428571\n",
       "66257     9       17  0.346154\n",
       "66432     9       11  0.450000\n",
       "66579    11       10  0.523810\n",
       "66629    10       13  0.434783\n",
       "66755     7       15  0.318182\n",
       "66876     9       14  0.391304\n",
       "67011     7       19  0.269231\n",
       "67169    12       10  0.545455\n",
       "67245     5       20  0.200000\n",
       "67495     6        7  0.461538\n",
       "67654    10        7  0.588235\n",
       "67986     4        9  0.307692\n",
       "68210     6        9  0.400000"
      ]
     },
     "execution_count": 53,
     "metadata": {},
     "output_type": "execute_result"
    }
   ],
   "source": [
    "# msu['FGMiss3'] = msu['FGA3'] - msu['FGM3']\n",
    "# msu['3Pt%'] = msu['FGM3']/msu['FGA3']\n",
    "\n",
    "# msu[['FGM3','FGMiss3','3Pt%']].head(15)"
   ]
  },
  {
   "cell_type": "code",
   "execution_count": 54,
   "metadata": {},
   "outputs": [
    {
     "name": "stdout",
     "output_type": "stream",
     "text": [
      "0.4326241134751773\n"
     ]
    }
   ],
   "source": [
    "# made = msu.FGM3.values\n",
    "# missed = msu.FGMiss3.values\n",
    "# attempts = msu.FGA3.values\n",
    "\n",
    "# sample_games = 20\n",
    "# sample_made = made[:sample_games]\n",
    "# sample_missed = missed[:sample_games]\n",
    "# sample_attempts = attempts[:sample_games]\n",
    "\n",
    "# print(np.sum(sample_made)/np.sum(sample_attempts))\n",
    "# print(sample_made)\n",
    "\n",
    "\n"
   ]
  },
  {
   "cell_type": "code",
   "execution_count": 60,
   "metadata": {},
   "outputs": [
    {
     "name": "stdout",
     "output_type": "stream",
     "text": [
      "0.43\n",
      "0.41\n",
      "0.4\n",
      "0.43\n",
      "0.45\n",
      "0.44\n"
     ]
    },
    {
     "data": {
      "image/png": "[encoded data removed]",
      "text/plain": [
       "<Figure size 1080x504 with 6 Axes>"
      ]
     },
     "metadata": {
      "needs_background": "light"
     },
     "output_type": "display_data"
    }
   ],
   "source": [
    "\n",
    "# a =  35\n",
    "# b = 100\n",
    "# x = np.linspace(0, 1.0, 100)\n",
    "# y1 = beta.pdf(x, a, b)\n",
    "# # y2 = beta.pdf(x, 3.25, 3.25)\n",
    "# # y3 = beta.pdf(x, 3, 3)\n",
    "# # plt.plot(x, y1, \"-\")# x, y2, \"r--\", x, y3, \"g--\")\n",
    "\n",
    "# fig, axs = plt.subplots(2,3, figsize=(15,7))\n",
    "# fig.tight_layout()\n",
    "\n",
    "# sample = 0\n",
    "# grid = {\n",
    "#     1:[0,0],\n",
    "#     2:[0,1],\n",
    "#     3:[0,2],\n",
    "#     4:[1,0],\n",
    "#     5:[1,1],\n",
    "#     6:[1,2]\n",
    "# }\n",
    "\n",
    "# for i in range(6):\n",
    "#     idx = i+1\n",
    "#     sample += 5\n",
    "#     low_bound = max(0, sample-25)\n",
    "#     sample_made = made[low_bound:sample]\n",
    "#     sample_attempts = attempts[low_bound:sample]\n",
    "#     pltx, plty = grid[idx]\n",
    "    \n",
    "#     c = sample_made.sum()\n",
    "#     d = sample_attempts.sum()\n",
    "#     print(np.round(c/d,2))\n",
    "    \n",
    "#     y1 = beta.pdf(x, a, b)\n",
    "#     y2 = beta.pdf(x, c, d)\n",
    "    \n",
    "#     axs[pltx,plty].plot(x, y1, \"-\", x, y2, \"g--\")\n",
    "#     axs[pltx,plty].set_title('After {} games'.format(sample))\n",
    "    \n",
    "    "
   ]
  },
  {
   "cell_type": "code",
   "execution_count": null,
   "metadata": {},
   "outputs": [],
   "source": [
    "df['3Pt%'] = df['FGM3']/df['FGA3']\n",
    "df['FG%'] = df['FGM']/df['FGA']\n"
   ]
  },
  {
   "cell_type": "code",
   "execution_count": 69,
   "metadata": {},
   "outputs": [
    {
     "name": "stdout",
     "output_type": "stream",
     "text": [
      "0.3436479095074456\n",
      "0.02859023293520763\n",
      "Statistics=0.736, p=0.692\n"
     ]
    },
    {
     "data": {
      "image/png": "[encoded data removed]",
      "text/plain": [
       "<Figure size 432x288 with 1 Axes>"
      ]
     },
     "metadata": {
      "needs_background": "light"
     },
     "output_type": "display_data"
    }
   ],
   "source": [
    "sns.distplot(data)\n",
    "\n",
    "print(gb['3Pt%'].mean())\n",
    "print(gb['3Pt%'].std())\n",
    "\n",
    "from scipy.stats import normaltest\n",
    "stat, p = normaltest(gb['3Pt%'].values)\n",
    "print('Statistics=%.3f, p=%.3f' % (stat, p))"
   ]
  },
  {
   "cell_type": "code",
   "execution_count": 63,
   "metadata": {},
   "outputs": [
    {
     "data": {
      "text/plain": [
       "<matplotlib.axes._subplots.AxesSubplot at 0x11fb9c990>"
      ]
     },
     "execution_count": 63,
     "metadata": {},
     "output_type": "execute_result"
    },
    {
     "data": {
      "image/png": "[encoded data removed]",
      "text/plain": [
       "<Figure size 864x360 with 1 Axes>"
      ]
     },
     "metadata": {
      "needs_background": "light"
     },
     "output_type": "display_data"
    }
   ],
   "source": [
    "import seaborn as sns\n",
    "\n",
    "fig, ax = plt.subplots(1,1,figsize=(12, 5))\n",
    "\n",
    "sns.lineplot(msu['DayNum'].values,msu['3Pt%'])\n"
   ]
  },
  {
   "cell_type": "code",
   "execution_count": null,
   "metadata": {},
   "outputs": [],
   "source": []
  }
 ],
 "metadata": {
  "kernelspec": {
   "display_name": "Python 3",
   "language": "python",
   "name": "python3"
  },
  "language_info": {
   "codemirror_mode": {
    "name": "ipython",
    "version": 3
   },
   "file_extension": ".py",
   "mimetype": "text/x-python",
   "name": "python",
   "nbconvert_exporter": "python",
   "pygments_lexer": "ipython3",
   "version": "3.7.4"
  }
 },
 "nbformat": 4,
 "nbformat_minor": 2
}
