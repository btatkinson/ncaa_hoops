{
 "cells": [
  {
   "cell_type": "code",
   "execution_count": 12,
   "metadata": {},
   "outputs": [],
   "source": [
    "import numpy as np\n",
    "import pandas as pd\n",
    "import gc\n",
    "gc.collect()\n",
    "\n",
    "\n",
    "\n",
    "path = './data/'\n",
    "player_ext = 'Players_2019.csv'\n",
    "event_ext = 'Events_2019.csv'\n",
    "\n",
    "events = pd.read_csv(path+event_ext)"
   ]
  },
  {
   "cell_type": "code",
   "execution_count": 2,
   "metadata": {},
   "outputs": [
    {
     "data": {
      "text/html": [
       "<div>\n",
       "<style scoped>\n",
       "    .dataframe tbody tr th:only-of-type {\n",
       "        vertical-align: middle;\n",
       "    }\n",
       "\n",
       "    .dataframe tbody tr th {\n",
       "        vertical-align: top;\n",
       "    }\n",
       "\n",
       "    .dataframe thead th {\n",
       "        text-align: right;\n",
       "    }\n",
       "</style>\n",
       "<table border=\"1\" class=\"dataframe\">\n",
       "  <thead>\n",
       "    <tr style=\"text-align: right;\">\n",
       "      <th></th>\n",
       "      <th>EventID</th>\n",
       "      <th>Season</th>\n",
       "      <th>DayNum</th>\n",
       "      <th>WTeamID</th>\n",
       "      <th>LTeamID</th>\n",
       "      <th>WPoints</th>\n",
       "      <th>LPoints</th>\n",
       "      <th>ElapsedSeconds</th>\n",
       "      <th>EventTeamID</th>\n",
       "      <th>EventPlayerID</th>\n",
       "      <th>EventType</th>\n",
       "    </tr>\n",
       "  </thead>\n",
       "  <tbody>\n",
       "    <tr>\n",
       "      <th>0</th>\n",
       "      <td>30099809</td>\n",
       "      <td>2019</td>\n",
       "      <td>1</td>\n",
       "      <td>1104</td>\n",
       "      <td>1380</td>\n",
       "      <td>0</td>\n",
       "      <td>0</td>\n",
       "      <td>18</td>\n",
       "      <td>1380</td>\n",
       "      <td>657441</td>\n",
       "      <td>assist</td>\n",
       "    </tr>\n",
       "    <tr>\n",
       "      <th>1</th>\n",
       "      <td>30099810</td>\n",
       "      <td>2019</td>\n",
       "      <td>1</td>\n",
       "      <td>1104</td>\n",
       "      <td>1380</td>\n",
       "      <td>0</td>\n",
       "      <td>2</td>\n",
       "      <td>18</td>\n",
       "      <td>1380</td>\n",
       "      <td>657447</td>\n",
       "      <td>made2_jump</td>\n",
       "    </tr>\n",
       "    <tr>\n",
       "      <th>2</th>\n",
       "      <td>30099811</td>\n",
       "      <td>2019</td>\n",
       "      <td>1</td>\n",
       "      <td>1104</td>\n",
       "      <td>1380</td>\n",
       "      <td>2</td>\n",
       "      <td>2</td>\n",
       "      <td>42</td>\n",
       "      <td>1104</td>\n",
       "      <td>653561</td>\n",
       "      <td>made2_jump</td>\n",
       "    </tr>\n",
       "    <tr>\n",
       "      <th>3</th>\n",
       "      <td>30099812</td>\n",
       "      <td>2019</td>\n",
       "      <td>1</td>\n",
       "      <td>1104</td>\n",
       "      <td>1380</td>\n",
       "      <td>0</td>\n",
       "      <td>0</td>\n",
       "      <td>58</td>\n",
       "      <td>1380</td>\n",
       "      <td>657437</td>\n",
       "      <td>turnover</td>\n",
       "    </tr>\n",
       "    <tr>\n",
       "      <th>4</th>\n",
       "      <td>30099813</td>\n",
       "      <td>2019</td>\n",
       "      <td>1</td>\n",
       "      <td>1104</td>\n",
       "      <td>1380</td>\n",
       "      <td>0</td>\n",
       "      <td>0</td>\n",
       "      <td>63</td>\n",
       "      <td>1104</td>\n",
       "      <td>653565</td>\n",
       "      <td>assist</td>\n",
       "    </tr>\n",
       "  </tbody>\n",
       "</table>\n",
       "</div>"
      ],
      "text/plain": [
       "    EventID  Season  DayNum  WTeamID  LTeamID  WPoints  LPoints  \\\n",
       "0  30099809    2019       1     1104     1380        0        0   \n",
       "1  30099810    2019       1     1104     1380        0        2   \n",
       "2  30099811    2019       1     1104     1380        2        2   \n",
       "3  30099812    2019       1     1104     1380        0        0   \n",
       "4  30099813    2019       1     1104     1380        0        0   \n",
       "\n",
       "   ElapsedSeconds  EventTeamID  EventPlayerID   EventType  \n",
       "0              18         1380         657441      assist  \n",
       "1              18         1380         657447  made2_jump  \n",
       "2              42         1104         653561  made2_jump  \n",
       "3              58         1380         657437    turnover  \n",
       "4              63         1104         653565      assist  "
      ]
     },
     "execution_count": 2,
     "metadata": {},
     "output_type": "execute_result"
    }
   ],
   "source": [
    "events.head()"
   ]
  },
  {
   "cell_type": "code",
   "execution_count": 3,
   "metadata": {},
   "outputs": [
    {
     "data": {
      "text/plain": [
       "2543316"
      ]
     },
     "execution_count": 3,
     "metadata": {},
     "output_type": "execute_result"
    }
   ],
   "source": [
    "len(events)"
   ]
  },
  {
   "cell_type": "code",
   "execution_count": 4,
   "metadata": {},
   "outputs": [
    {
     "data": {
      "text/plain": [
       "['EventID',\n",
       " 'Season',\n",
       " 'DayNum',\n",
       " 'WTeamID',\n",
       " 'LTeamID',\n",
       " 'WPoints',\n",
       " 'LPoints',\n",
       " 'ElapsedSeconds',\n",
       " 'EventTeamID',\n",
       " 'EventPlayerID',\n",
       " 'EventType']"
      ]
     },
     "execution_count": 4,
     "metadata": {},
     "output_type": "execute_result"
    }
   ],
   "source": [
    "list(events)"
   ]
  },
  {
   "cell_type": "markdown",
   "metadata": {},
   "source": [
    "### Validation"
   ]
  },
  {
   "cell_type": "code",
   "execution_count": 7,
   "metadata": {},
   "outputs": [
    {
     "data": {
      "text/plain": [
       "EventID           0\n",
       "Season            0\n",
       "DayNum            0\n",
       "WTeamID           0\n",
       "LTeamID           0\n",
       "WPoints           0\n",
       "LPoints           0\n",
       "ElapsedSeconds    0\n",
       "EventTeamID       0\n",
       "EventPlayerID     0\n",
       "EventType         0\n",
       "dtype: int64"
      ]
     },
     "execution_count": 7,
     "metadata": {},
     "output_type": "execute_result"
    }
   ],
   "source": [
    "# beautiful\n",
    "events.isna().sum()"
   ]
  },
  {
   "cell_type": "markdown",
   "metadata": {},
   "source": [
    "### Feature Engineering\n",
    "\n",
    "To add:\n",
    "- game id\n",
    "- current OT\n",
    "\n",
    "Need: \n",
    "- possession time\n",
    "- time remaining in game (including factoring OT)"
   ]
  },
  {
   "cell_type": "code",
   "execution_count": 14,
   "metadata": {},
   "outputs": [],
   "source": [
    "# load compact results\n",
    "# cr_path = './data/RegularSeasonCompactResults.csv'\n",
    "# cr = pd.read_csv(cr_path)\n",
    "\n",
    "# cr_path = './data/Prelim2019_RegularSeasonCompactResults.csv'\n",
    "# cr = pd.read_csv(cr_path)\n",
    "\n"
   ]
  },
  {
   "cell_type": "code",
   "execution_count": 27,
   "metadata": {},
   "outputs": [],
   "source": [
    "events['GameID'] = events['Season'].astype(str) + events['DayNum'].astype(str) + events['WTeamID'].astype(str) + events['LTeamID'].astype(str)\n",
    "events['OT'] = (events['ElapsedSeconds'] - 2400)/300\n",
    "events['OT'] = np.where(events['OT'] < 0, 0, np.ceil(events['OT'])).astype(int)\n"
   ]
  },
  {
   "cell_type": "code",
   "execution_count": 28,
   "metadata": {},
   "outputs": [],
   "source": [
    "events['TimeRemain'] = 2400 + (events['OT'] * 300) - events['ElapsedSeconds']\n"
   ]
  },
  {
   "cell_type": "code",
   "execution_count": 31,
   "metadata": {},
   "outputs": [
    {
     "data": {
      "text/plain": [
       "0"
      ]
     },
     "execution_count": 31,
     "metadata": {},
     "output_type": "execute_result"
    }
   ],
   "source": []
  },
  {
   "cell_type": "code",
   "execution_count": null,
   "metadata": {},
   "outputs": [],
   "source": []
  }
 ],
 "metadata": {
  "kernelspec": {
   "display_name": "Python 3",
   "language": "python",
   "name": "python3"
  },
  "language_info": {
   "codemirror_mode": {
    "name": "ipython",
    "version": 3
   },
   "file_extension": ".py",
   "mimetype": "text/x-python",
   "name": "python",
   "nbconvert_exporter": "python",
   "pygments_lexer": "ipython3",
   "version": "3.7.4"
  }
 },
 "nbformat": 4,
 "nbformat_minor": 2
}
