{
 "cells": [
  {
   "cell_type": "code",
   "execution_count": 1,
   "metadata": {},
   "outputs": [],
   "source": [
    "import pandas as pd\n",
    "import numpy as np\n",
    "from scipy.stats import beta\n",
    "import seaborn as sns\n",
    "import matplotlib.pyplot as plt\n",
    "import gc\n",
    "from tqdm import tqdm\n",
    "\n",
    "\n",
    "path = './data/'\n",
    "output = './output/'\n",
    "figs = './figs/'\n"
   ]
  },
  {
   "cell_type": "code",
   "execution_count": 2,
   "metadata": {},
   "outputs": [
    {
     "data": {
      "text/plain": [
       "7"
      ]
     },
     "execution_count": 2,
     "metadata": {},
     "output_type": "execute_result"
    }
   ],
   "source": [
    "df = pd.read_csv(path+'RegularSeasonDetailedResults.csv')\n",
    "df2 = pd.read_csv(path+'Prelim2019_RegularSeasonDetailedResults.csv')\n",
    "df = pd.concat([df,df2],axis=0)\n",
    "del df2\n",
    "gc.collect()"
   ]
  },
  {
   "cell_type": "code",
   "execution_count": 3,
   "metadata": {},
   "outputs": [
    {
     "name": "stdout",
     "output_type": "stream",
     "text": [
      "169407\n",
      "87366\n"
     ]
    }
   ],
   "source": [
    "print(len(df))\n",
    "# for some reason df has duplicate rows\n",
    "df = df.drop_duplicates()\n",
    "print(len(df))\n",
    "teams = pd.read_csv(path+'Teams.csv')"
   ]
  },
  {
   "cell_type": "markdown",
   "metadata": {},
   "source": [
    "### This is an experiment on bayesian updating and graphing. I'll probably end up making a medium post about it.\n",
    "### Ultimately I want it to be the basis for a college basketball model and compare it to my Elo model\n",
    "\n",
    "First goal:\n",
    "\n",
    "College basketball can be thought of as a combination of three stats. Offensive efficiency, defensive efficiency, and pace. Let's say Kentucky is playing Louisville in December. The Vegas line looks off to me, and I want to predict the final score.\n",
    "\n",
    "If I know both team's pace stats, I can predict how many possessions will happen in a game. In further work I will explore how scoring differential impacts pace and efficiency.\n",
    "\n",
    "Let's say I know that both teams will have 70 possessions. If I also know how efficient the teams will be on those possessions, I can predict the final score. If Kentucky scores 1.1 points per possession, and Louisville scores 1.05, the final score will be somewhere around 77-74.\n",
    "\n",
    "To start, I'm going to assume every team is average in terms of shooting efficiency, pace, etc. Then, game by game, I'll use bayesian updating to adjust those priors and hopefully by the end of the season we can be relatively certain how efficient teams are.\n"
   ]
  },
  {
   "cell_type": "code",
   "execution_count": 4,
   "metadata": {},
   "outputs": [
    {
     "data": {
      "text/html": [
       "<div>\n",
       "<style scoped>\n",
       "    .dataframe tbody tr th:only-of-type {\n",
       "        vertical-align: middle;\n",
       "    }\n",
       "\n",
       "    .dataframe tbody tr th {\n",
       "        vertical-align: top;\n",
       "    }\n",
       "\n",
       "    .dataframe thead th {\n",
       "        text-align: right;\n",
       "    }\n",
       "</style>\n",
       "<table border=\"1\" class=\"dataframe\">\n",
       "  <thead>\n",
       "    <tr style=\"text-align: right;\">\n",
       "      <th></th>\n",
       "      <th>Season</th>\n",
       "      <th>DayNum</th>\n",
       "      <th>WTeamID</th>\n",
       "      <th>WScore</th>\n",
       "      <th>LTeamID</th>\n",
       "      <th>LScore</th>\n",
       "      <th>WLoc</th>\n",
       "      <th>NumOT</th>\n",
       "      <th>WFGM</th>\n",
       "      <th>WFGA</th>\n",
       "      <th>...</th>\n",
       "      <th>LFGA3</th>\n",
       "      <th>LFTM</th>\n",
       "      <th>LFTA</th>\n",
       "      <th>LOR</th>\n",
       "      <th>LDR</th>\n",
       "      <th>LAst</th>\n",
       "      <th>LTO</th>\n",
       "      <th>LStl</th>\n",
       "      <th>LBlk</th>\n",
       "      <th>LPF</th>\n",
       "    </tr>\n",
       "  </thead>\n",
       "  <tbody>\n",
       "    <tr>\n",
       "      <th>0</th>\n",
       "      <td>2003</td>\n",
       "      <td>10</td>\n",
       "      <td>1104</td>\n",
       "      <td>68</td>\n",
       "      <td>1328</td>\n",
       "      <td>62</td>\n",
       "      <td>N</td>\n",
       "      <td>0</td>\n",
       "      <td>27</td>\n",
       "      <td>58</td>\n",
       "      <td>...</td>\n",
       "      <td>10</td>\n",
       "      <td>16</td>\n",
       "      <td>22</td>\n",
       "      <td>10</td>\n",
       "      <td>22</td>\n",
       "      <td>8</td>\n",
       "      <td>18</td>\n",
       "      <td>9</td>\n",
       "      <td>2</td>\n",
       "      <td>20</td>\n",
       "    </tr>\n",
       "    <tr>\n",
       "      <th>1</th>\n",
       "      <td>2003</td>\n",
       "      <td>10</td>\n",
       "      <td>1272</td>\n",
       "      <td>70</td>\n",
       "      <td>1393</td>\n",
       "      <td>63</td>\n",
       "      <td>N</td>\n",
       "      <td>0</td>\n",
       "      <td>26</td>\n",
       "      <td>62</td>\n",
       "      <td>...</td>\n",
       "      <td>24</td>\n",
       "      <td>9</td>\n",
       "      <td>20</td>\n",
       "      <td>20</td>\n",
       "      <td>25</td>\n",
       "      <td>7</td>\n",
       "      <td>12</td>\n",
       "      <td>8</td>\n",
       "      <td>6</td>\n",
       "      <td>16</td>\n",
       "    </tr>\n",
       "    <tr>\n",
       "      <th>2</th>\n",
       "      <td>2003</td>\n",
       "      <td>11</td>\n",
       "      <td>1266</td>\n",
       "      <td>73</td>\n",
       "      <td>1437</td>\n",
       "      <td>61</td>\n",
       "      <td>N</td>\n",
       "      <td>0</td>\n",
       "      <td>24</td>\n",
       "      <td>58</td>\n",
       "      <td>...</td>\n",
       "      <td>26</td>\n",
       "      <td>14</td>\n",
       "      <td>23</td>\n",
       "      <td>31</td>\n",
       "      <td>22</td>\n",
       "      <td>9</td>\n",
       "      <td>12</td>\n",
       "      <td>2</td>\n",
       "      <td>5</td>\n",
       "      <td>23</td>\n",
       "    </tr>\n",
       "    <tr>\n",
       "      <th>3</th>\n",
       "      <td>2003</td>\n",
       "      <td>11</td>\n",
       "      <td>1296</td>\n",
       "      <td>56</td>\n",
       "      <td>1457</td>\n",
       "      <td>50</td>\n",
       "      <td>N</td>\n",
       "      <td>0</td>\n",
       "      <td>18</td>\n",
       "      <td>38</td>\n",
       "      <td>...</td>\n",
       "      <td>22</td>\n",
       "      <td>8</td>\n",
       "      <td>15</td>\n",
       "      <td>17</td>\n",
       "      <td>20</td>\n",
       "      <td>9</td>\n",
       "      <td>19</td>\n",
       "      <td>4</td>\n",
       "      <td>3</td>\n",
       "      <td>23</td>\n",
       "    </tr>\n",
       "    <tr>\n",
       "      <th>4</th>\n",
       "      <td>2003</td>\n",
       "      <td>11</td>\n",
       "      <td>1400</td>\n",
       "      <td>77</td>\n",
       "      <td>1208</td>\n",
       "      <td>71</td>\n",
       "      <td>N</td>\n",
       "      <td>0</td>\n",
       "      <td>30</td>\n",
       "      <td>61</td>\n",
       "      <td>...</td>\n",
       "      <td>16</td>\n",
       "      <td>17</td>\n",
       "      <td>27</td>\n",
       "      <td>21</td>\n",
       "      <td>15</td>\n",
       "      <td>12</td>\n",
       "      <td>10</td>\n",
       "      <td>7</td>\n",
       "      <td>1</td>\n",
       "      <td>14</td>\n",
       "    </tr>\n",
       "  </tbody>\n",
       "</table>\n",
       "<p>5 rows × 34 columns</p>\n",
       "</div>"
      ],
      "text/plain": [
       "   Season  DayNum  WTeamID  WScore  LTeamID  LScore WLoc  NumOT  WFGM  WFGA  \\\n",
       "0    2003      10     1104      68     1328      62    N      0    27    58   \n",
       "1    2003      10     1272      70     1393      63    N      0    26    62   \n",
       "2    2003      11     1266      73     1437      61    N      0    24    58   \n",
       "3    2003      11     1296      56     1457      50    N      0    18    38   \n",
       "4    2003      11     1400      77     1208      71    N      0    30    61   \n",
       "\n",
       "   ...  LFGA3  LFTM  LFTA  LOR  LDR  LAst  LTO  LStl  LBlk  LPF  \n",
       "0  ...     10    16    22   10   22     8   18     9     2   20  \n",
       "1  ...     24     9    20   20   25     7   12     8     6   16  \n",
       "2  ...     26    14    23   31   22     9   12     2     5   23  \n",
       "3  ...     22     8    15   17   20     9   19     4     3   23  \n",
       "4  ...     16    17    27   21   15    12   10     7     1   14  \n",
       "\n",
       "[5 rows x 34 columns]"
      ]
     },
     "execution_count": 4,
     "metadata": {},
     "output_type": "execute_result"
    }
   ],
   "source": [
    "df.head()"
   ]
  },
  {
   "cell_type": "code",
   "execution_count": 5,
   "metadata": {},
   "outputs": [],
   "source": [
    "def team_by_team(df):\n",
    "    # preprocessing \n",
    "#     df = df.loc[df.Season>=2009]\n",
    "    print(len(df))\n",
    "    new_cols = []\n",
    "    for column in list(df):\n",
    "        if column == 'WLoc':\n",
    "            new_cols.append('WLoc')\n",
    "        else:\n",
    "            column = column.replace(\"W\",\"\")\n",
    "            column = column.replace(\"L\",\"Opp\")\n",
    "            new_cols.append(column)\n",
    "\n",
    "    print(new_cols)\n",
    "    df.columns=new_cols\n",
    "    opp_df = df.copy()\n",
    "    opp_cols = list(opp_df)\n",
    "\n",
    "    static_cols = ['Season','DayNum','WLoc','NumOT']\n",
    "    new_oc = []\n",
    "\n",
    "    for col in opp_cols:\n",
    "        if col in static_cols:\n",
    "            new_oc.append(col)\n",
    "        elif \"Opp\" in col:\n",
    "            new_oc.append(col.replace(\"Opp\",\"\"))\n",
    "        else:\n",
    "            new_oc.append('Opp'+col)\n",
    "\n",
    "    print(new_oc)\n",
    "\n",
    "    opp_df.columns=new_oc\n",
    "    # adjust location\n",
    "    reverse = {\n",
    "        'H':'A',\n",
    "        'A':'H',\n",
    "        'N':'N'\n",
    "    }\n",
    "\n",
    "    opp_df['WLoc'] = opp_df['WLoc'].replace(reverse)\n",
    "    opp_df = opp_df[new_cols]\n",
    "    df = pd.concat([opp_df,df],axis=0)\n",
    "\n",
    "    df = df.rename(columns={'WLoc':'Loc'})\n",
    "    return df\n",
    "\n"
   ]
  },
  {
   "cell_type": "code",
   "execution_count": 6,
   "metadata": {},
   "outputs": [
    {
     "name": "stdout",
     "output_type": "stream",
     "text": [
      "87366\n",
      "['Season', 'DayNum', 'TeamID', 'Score', 'OppTeamID', 'OppScore', 'WLoc', 'NumOT', 'FGM', 'FGA', 'FGM3', 'FGA3', 'FTM', 'FTA', 'OR', 'DR', 'Ast', 'TO', 'Stl', 'Blk', 'PF', 'OppFGM', 'OppFGA', 'OppFGM3', 'OppFGA3', 'OppFTM', 'OppFTA', 'OppOR', 'OppDR', 'OppAst', 'OppTO', 'OppStl', 'OppBlk', 'OppPF']\n",
      "['Season', 'DayNum', 'OppTeamID', 'OppScore', 'TeamID', 'Score', 'WLoc', 'NumOT', 'OppFGM', 'OppFGA', 'OppFGM3', 'OppFGA3', 'OppFTM', 'OppFTA', 'OppOR', 'OppDR', 'OppAst', 'OppTO', 'OppStl', 'OppBlk', 'OppPF', 'FGM', 'FGA', 'FGM3', 'FGA3', 'FTM', 'FTA', 'OR', 'DR', 'Ast', 'TO', 'Stl', 'Blk', 'PF']\n"
     ]
    }
   ],
   "source": [
    "df = team_by_team(df)\n"
   ]
  },
  {
   "cell_type": "code",
   "execution_count": 7,
   "metadata": {},
   "outputs": [],
   "source": [
    "df = df.sort_values(by=['Season','DayNum','TeamID'])\n",
    "# df.groupby(['Season','TeamID'])['Score'].cumcount()"
   ]
  },
  {
   "cell_type": "code",
   "execution_count": 8,
   "metadata": {},
   "outputs": [
    {
     "name": "stdout",
     "output_type": "stream",
     "text": [
      "4255370\n",
      "9746769\n"
     ]
    }
   ],
   "source": [
    "# let's start with a binomial 3 point distribution\n",
    "\n",
    "# total 3 pointers made \n",
    "FGM = df.FGM.sum()\n",
    "FGA = df.FGA.sum()\n",
    "\n",
    "base_rate = np.round(FGM/FGA, 5)\n",
    "# team by team average\n",
    "#34.3\n",
    "\n",
    "print(FGM)\n",
    "print(FGA)\n",
    "\n"
   ]
  },
  {
   "cell_type": "code",
   "execution_count": 9,
   "metadata": {},
   "outputs": [
    {
     "name": "stdout",
     "output_type": "stream",
     "text": [
      "0.05980918618226772\n"
     ]
    }
   ],
   "source": [
    "# Method 1: let's see per game error if we predict 34.51% every game\n",
    "df['FG%'] = np.round(df['FGM']/df['FGA'],4)\n",
    "df['Proj1'] = base_rate\n",
    "df['Error1'] = np.sqrt(np.square(df['FG%']-df['Proj1']))\n",
    "\n",
    "print(df['Error1'].mean())\n"
   ]
  },
  {
   "cell_type": "code",
   "execution_count": 10,
   "metadata": {},
   "outputs": [
    {
     "name": "stdout",
     "output_type": "stream",
     "text": [
      "174732\n",
      "174732\n"
     ]
    }
   ],
   "source": [
    "# X games in, predict Total - X games\n",
    "print(len(df))\n",
    "df = df.sort_values(by=['Season','DayNum'])\n",
    "df['SoFar_FGM'] = df.groupby(['Season','TeamID'])['FGM'].cumsum()\n",
    "df['SoFar_FGA'] = df.groupby(['Season','TeamID'])['FGA'].cumsum()\n",
    "\n",
    "print(len(df))\n",
    "\n",
    "# get reverse\n",
    "df = df.sort_values(by=['Season','DayNum'], ascending=False)\n",
    "df['ToGo_FGM'] = df.groupby(['Season','TeamID'])['FGM'].cumsum()\n",
    "df['ToGo_FGA'] = df.groupby(['Season','TeamID'])['FGA'].cumsum()\n",
    "df = df.sort_values(by=['Season','DayNum'])\n"
   ]
  },
  {
   "cell_type": "code",
   "execution_count": null,
   "metadata": {},
   "outputs": [],
   "source": []
  },
  {
   "cell_type": "code",
   "execution_count": 11,
   "metadata": {},
   "outputs": [
    {
     "name": "stdout",
     "output_type": "stream",
     "text": [
      "585\n"
     ]
    },
    {
     "data": {
      "text/html": [
       "<div>\n",
       "<style scoped>\n",
       "    .dataframe tbody tr th:only-of-type {\n",
       "        vertical-align: middle;\n",
       "    }\n",
       "\n",
       "    .dataframe tbody tr th {\n",
       "        vertical-align: top;\n",
       "    }\n",
       "\n",
       "    .dataframe thead th {\n",
       "        text-align: right;\n",
       "    }\n",
       "</style>\n",
       "<table border=\"1\" class=\"dataframe\">\n",
       "  <thead>\n",
       "    <tr style=\"text-align: right;\">\n",
       "      <th></th>\n",
       "      <th>Season</th>\n",
       "      <th>DayNum</th>\n",
       "      <th>TeamID</th>\n",
       "      <th>Score</th>\n",
       "      <th>OppTeamID</th>\n",
       "      <th>OppScore</th>\n",
       "      <th>Loc</th>\n",
       "      <th>NumOT</th>\n",
       "      <th>FGM</th>\n",
       "      <th>FGA</th>\n",
       "      <th>...</th>\n",
       "      <th>FG%</th>\n",
       "      <th>Proj1</th>\n",
       "      <th>Error1</th>\n",
       "      <th>SoFar_FGM</th>\n",
       "      <th>SoFar_FGA</th>\n",
       "      <th>ToGo_FGM</th>\n",
       "      <th>ToGo_FGA</th>\n",
       "      <th>SoFarFG%</th>\n",
       "      <th>ToGoFG%</th>\n",
       "      <th>GameNumber</th>\n",
       "    </tr>\n",
       "  </thead>\n",
       "  <tbody>\n",
       "    <tr>\n",
       "      <th>0</th>\n",
       "      <td>2003</td>\n",
       "      <td>10</td>\n",
       "      <td>1104</td>\n",
       "      <td>68</td>\n",
       "      <td>1328</td>\n",
       "      <td>62</td>\n",
       "      <td>N</td>\n",
       "      <td>0</td>\n",
       "      <td>27</td>\n",
       "      <td>58</td>\n",
       "      <td>...</td>\n",
       "      <td>0.4655</td>\n",
       "      <td>0.43659</td>\n",
       "      <td>0.02891</td>\n",
       "      <td>27</td>\n",
       "      <td>58</td>\n",
       "      <td>646</td>\n",
       "      <td>1543</td>\n",
       "      <td>0.465517</td>\n",
       "      <td>0.418665</td>\n",
       "      <td>1</td>\n",
       "    </tr>\n",
       "    <tr>\n",
       "      <th>1</th>\n",
       "      <td>2003</td>\n",
       "      <td>10</td>\n",
       "      <td>1272</td>\n",
       "      <td>70</td>\n",
       "      <td>1393</td>\n",
       "      <td>63</td>\n",
       "      <td>N</td>\n",
       "      <td>0</td>\n",
       "      <td>26</td>\n",
       "      <td>62</td>\n",
       "      <td>...</td>\n",
       "      <td>0.4194</td>\n",
       "      <td>0.43659</td>\n",
       "      <td>0.01719</td>\n",
       "      <td>26</td>\n",
       "      <td>62</td>\n",
       "      <td>736</td>\n",
       "      <td>1678</td>\n",
       "      <td>0.419355</td>\n",
       "      <td>0.438617</td>\n",
       "      <td>1</td>\n",
       "    </tr>\n",
       "    <tr>\n",
       "      <th>0</th>\n",
       "      <td>2003</td>\n",
       "      <td>10</td>\n",
       "      <td>1328</td>\n",
       "      <td>62</td>\n",
       "      <td>1104</td>\n",
       "      <td>68</td>\n",
       "      <td>N</td>\n",
       "      <td>0</td>\n",
       "      <td>22</td>\n",
       "      <td>53</td>\n",
       "      <td>...</td>\n",
       "      <td>0.4151</td>\n",
       "      <td>0.43659</td>\n",
       "      <td>0.02149</td>\n",
       "      <td>22</td>\n",
       "      <td>53</td>\n",
       "      <td>736</td>\n",
       "      <td>1643</td>\n",
       "      <td>0.415094</td>\n",
       "      <td>0.447961</td>\n",
       "      <td>1</td>\n",
       "    </tr>\n",
       "    <tr>\n",
       "      <th>1</th>\n",
       "      <td>2003</td>\n",
       "      <td>10</td>\n",
       "      <td>1393</td>\n",
       "      <td>63</td>\n",
       "      <td>1272</td>\n",
       "      <td>70</td>\n",
       "      <td>N</td>\n",
       "      <td>0</td>\n",
       "      <td>24</td>\n",
       "      <td>67</td>\n",
       "      <td>...</td>\n",
       "      <td>0.3582</td>\n",
       "      <td>0.43659</td>\n",
       "      <td>0.07839</td>\n",
       "      <td>24</td>\n",
       "      <td>67</td>\n",
       "      <td>824</td>\n",
       "      <td>1737</td>\n",
       "      <td>0.358209</td>\n",
       "      <td>0.474381</td>\n",
       "      <td>1</td>\n",
       "    </tr>\n",
       "    <tr>\n",
       "      <th>5</th>\n",
       "      <td>2003</td>\n",
       "      <td>11</td>\n",
       "      <td>1186</td>\n",
       "      <td>55</td>\n",
       "      <td>1458</td>\n",
       "      <td>81</td>\n",
       "      <td>A</td>\n",
       "      <td>0</td>\n",
       "      <td>20</td>\n",
       "      <td>46</td>\n",
       "      <td>...</td>\n",
       "      <td>0.4348</td>\n",
       "      <td>0.43659</td>\n",
       "      <td>0.00179</td>\n",
       "      <td>20</td>\n",
       "      <td>46</td>\n",
       "      <td>673</td>\n",
       "      <td>1439</td>\n",
       "      <td>0.434783</td>\n",
       "      <td>0.467686</td>\n",
       "      <td>1</td>\n",
       "    </tr>\n",
       "    <tr>\n",
       "      <th>4</th>\n",
       "      <td>2003</td>\n",
       "      <td>11</td>\n",
       "      <td>1208</td>\n",
       "      <td>71</td>\n",
       "      <td>1400</td>\n",
       "      <td>77</td>\n",
       "      <td>N</td>\n",
       "      <td>0</td>\n",
       "      <td>24</td>\n",
       "      <td>62</td>\n",
       "      <td>...</td>\n",
       "      <td>0.3871</td>\n",
       "      <td>0.43659</td>\n",
       "      <td>0.04949</td>\n",
       "      <td>24</td>\n",
       "      <td>62</td>\n",
       "      <td>746</td>\n",
       "      <td>1597</td>\n",
       "      <td>0.387097</td>\n",
       "      <td>0.467126</td>\n",
       "      <td>1</td>\n",
       "    </tr>\n",
       "    <tr>\n",
       "      <th>2</th>\n",
       "      <td>2003</td>\n",
       "      <td>11</td>\n",
       "      <td>1266</td>\n",
       "      <td>73</td>\n",
       "      <td>1437</td>\n",
       "      <td>61</td>\n",
       "      <td>N</td>\n",
       "      <td>0</td>\n",
       "      <td>24</td>\n",
       "      <td>58</td>\n",
       "      <td>...</td>\n",
       "      <td>0.4138</td>\n",
       "      <td>0.43659</td>\n",
       "      <td>0.02279</td>\n",
       "      <td>24</td>\n",
       "      <td>58</td>\n",
       "      <td>738</td>\n",
       "      <td>1517</td>\n",
       "      <td>0.413793</td>\n",
       "      <td>0.486486</td>\n",
       "      <td>1</td>\n",
       "    </tr>\n",
       "    <tr>\n",
       "      <th>3</th>\n",
       "      <td>2003</td>\n",
       "      <td>11</td>\n",
       "      <td>1296</td>\n",
       "      <td>56</td>\n",
       "      <td>1457</td>\n",
       "      <td>50</td>\n",
       "      <td>N</td>\n",
       "      <td>0</td>\n",
       "      <td>18</td>\n",
       "      <td>38</td>\n",
       "      <td>...</td>\n",
       "      <td>0.4737</td>\n",
       "      <td>0.43659</td>\n",
       "      <td>0.03711</td>\n",
       "      <td>18</td>\n",
       "      <td>38</td>\n",
       "      <td>737</td>\n",
       "      <td>1607</td>\n",
       "      <td>0.473684</td>\n",
       "      <td>0.458619</td>\n",
       "      <td>1</td>\n",
       "    </tr>\n",
       "    <tr>\n",
       "      <th>4</th>\n",
       "      <td>2003</td>\n",
       "      <td>11</td>\n",
       "      <td>1400</td>\n",
       "      <td>77</td>\n",
       "      <td>1208</td>\n",
       "      <td>71</td>\n",
       "      <td>N</td>\n",
       "      <td>0</td>\n",
       "      <td>30</td>\n",
       "      <td>61</td>\n",
       "      <td>...</td>\n",
       "      <td>0.4918</td>\n",
       "      <td>0.43659</td>\n",
       "      <td>0.05521</td>\n",
       "      <td>30</td>\n",
       "      <td>61</td>\n",
       "      <td>754</td>\n",
       "      <td>1687</td>\n",
       "      <td>0.491803</td>\n",
       "      <td>0.446947</td>\n",
       "      <td>1</td>\n",
       "    </tr>\n",
       "    <tr>\n",
       "      <th>2</th>\n",
       "      <td>2003</td>\n",
       "      <td>11</td>\n",
       "      <td>1437</td>\n",
       "      <td>61</td>\n",
       "      <td>1266</td>\n",
       "      <td>73</td>\n",
       "      <td>N</td>\n",
       "      <td>0</td>\n",
       "      <td>22</td>\n",
       "      <td>73</td>\n",
       "      <td>...</td>\n",
       "      <td>0.3014</td>\n",
       "      <td>0.43659</td>\n",
       "      <td>0.13519</td>\n",
       "      <td>22</td>\n",
       "      <td>73</td>\n",
       "      <td>723</td>\n",
       "      <td>1699</td>\n",
       "      <td>0.301370</td>\n",
       "      <td>0.425544</td>\n",
       "      <td>1</td>\n",
       "    </tr>\n",
       "  </tbody>\n",
       "</table>\n",
       "<p>10 rows × 44 columns</p>\n",
       "</div>"
      ],
      "text/plain": [
       "   Season  DayNum  TeamID  Score  OppTeamID  OppScore Loc  NumOT  FGM  FGA  \\\n",
       "0    2003      10    1104     68       1328        62   N      0   27   58   \n",
       "1    2003      10    1272     70       1393        63   N      0   26   62   \n",
       "0    2003      10    1328     62       1104        68   N      0   22   53   \n",
       "1    2003      10    1393     63       1272        70   N      0   24   67   \n",
       "5    2003      11    1186     55       1458        81   A      0   20   46   \n",
       "4    2003      11    1208     71       1400        77   N      0   24   62   \n",
       "2    2003      11    1266     73       1437        61   N      0   24   58   \n",
       "3    2003      11    1296     56       1457        50   N      0   18   38   \n",
       "4    2003      11    1400     77       1208        71   N      0   30   61   \n",
       "2    2003      11    1437     61       1266        73   N      0   22   73   \n",
       "\n",
       "   ...     FG%    Proj1   Error1  SoFar_FGM  SoFar_FGA  ToGo_FGM  ToGo_FGA  \\\n",
       "0  ...  0.4655  0.43659  0.02891         27         58       646      1543   \n",
       "1  ...  0.4194  0.43659  0.01719         26         62       736      1678   \n",
       "0  ...  0.4151  0.43659  0.02149         22         53       736      1643   \n",
       "1  ...  0.3582  0.43659  0.07839         24         67       824      1737   \n",
       "5  ...  0.4348  0.43659  0.00179         20         46       673      1439   \n",
       "4  ...  0.3871  0.43659  0.04949         24         62       746      1597   \n",
       "2  ...  0.4138  0.43659  0.02279         24         58       738      1517   \n",
       "3  ...  0.4737  0.43659  0.03711         18         38       737      1607   \n",
       "4  ...  0.4918  0.43659  0.05521         30         61       754      1687   \n",
       "2  ...  0.3014  0.43659  0.13519         22         73       723      1699   \n",
       "\n",
       "   SoFarFG%   ToGoFG%  GameNumber  \n",
       "0  0.465517  0.418665           1  \n",
       "1  0.419355  0.438617           1  \n",
       "0  0.415094  0.447961           1  \n",
       "1  0.358209  0.474381           1  \n",
       "5  0.434783  0.467686           1  \n",
       "4  0.387097  0.467126           1  \n",
       "2  0.413793  0.486486           1  \n",
       "3  0.473684  0.458619           1  \n",
       "4  0.491803  0.446947           1  \n",
       "2  0.301370  0.425544           1  \n",
       "\n",
       "[10 rows x 44 columns]"
      ]
     },
     "execution_count": 11,
     "metadata": {},
     "output_type": "execute_result"
    }
   ],
   "source": [
    "print(df.loc[(df['Season']==2010)&(df['TeamID']==1107)].FGA3.sum())\n",
    "# cumulative sum includes current game, so subract that\n",
    "df['ToGo_FGM'] = df['ToGo_FGM']-df['FGM']\n",
    "df['ToGo_FGA'] = df['ToGo_FGA']-df['FGA']\n",
    "df.head()\n",
    "\n",
    "df['SoFarFG%'] = df['SoFar_FGM']/df['SoFar_FGA']\n",
    "\n",
    "df['ToGoFG%'] = df['ToGo_FGM']/df['ToGo_FGA']\n",
    "\n",
    "df['GameNumber'] = df.groupby(['Season','TeamID'])['Score'].cumcount()\n",
    "\n",
    "df['GameNumber'] += 1\n",
    "\n",
    "df.head(10)"
   ]
  },
  {
   "cell_type": "code",
   "execution_count": null,
   "metadata": {},
   "outputs": [],
   "source": [
    "\n"
   ]
  },
  {
   "cell_type": "code",
   "execution_count": 12,
   "metadata": {},
   "outputs": [],
   "source": [
    "df['Proj1'] = base_rate\n",
    "df['Baseline'] = np.sqrt(np.square(df['ToGoFG%']-df['Proj1']))\n",
    "df['Error1'] = np.sqrt(np.square(df['SoFarFG%']-df['ToGoFG%']))\n",
    "\n",
    "# also do average\n",
    "df['Avg'] = (0.5*df['SoFarFG%']+0.5*df['Proj1'])\n",
    "df['Error2'] = np.sqrt(np.square(df['Avg']-df['ToGoFG%']))"
   ]
  },
  {
   "cell_type": "code",
   "execution_count": 13,
   "metadata": {},
   "outputs": [
    {
     "name": "stdout",
     "output_type": "stream",
     "text": [
      "0\n",
      "32\n"
     ]
    }
   ],
   "source": [
    "print(df['ToGo_FGA'].min())\n",
    "\n",
    "test = df.loc[df['ToGo_FGA'] > 0]\n",
    "print(test['ToGo_FGA'].min())"
   ]
  },
  {
   "cell_type": "code",
   "execution_count": 14,
   "metadata": {},
   "outputs": [
    {
     "data": {
      "image/png": "[encoded data removed]",
      "text/plain": [
       "<Figure size 864x360 with 1 Axes>"
      ]
     },
     "metadata": {
      "needs_background": "light"
     },
     "output_type": "display_data"
    }
   ],
   "source": [
    "\n",
    "test.groupby(['GameNumber'])['Error2'].count()\n",
    "# let's do 32 or less games because of sample size\n",
    "test = test.loc[test['GameNumber']<=32]\n",
    "\n",
    "x = test.GameNumber.unique()\n",
    "y1 = test.groupby(['GameNumber'])['Baseline'].mean().values\n",
    "y2 = test.groupby(['GameNumber'])['Error1'].mean().values\n",
    "y3 = test.groupby(['GameNumber'])['Error2'].mean().values\n",
    "\n",
    "fig, ax = plt.subplots(1,1,figsize=(12,5))\n",
    "sns.lineplot(x,y1,label='Baseline', legend='full')\n",
    "sns.lineplot(x,y2, label='So Far', legend='full')\n",
    "sns.lineplot(x,y3, label='AVG of Baseline, So Far', legend='full')\n",
    "\n",
    "    \n",
    "ax.set_title('Given FG% through X games, error predicting ROS FG%')\n",
    "ax.legend()\n",
    "plt.savefig(figs+'FGXGames.png')"
   ]
  },
  {
   "cell_type": "code",
   "execution_count": null,
   "metadata": {},
   "outputs": [],
   "source": []
  },
  {
   "cell_type": "code",
   "execution_count": 15,
   "metadata": {},
   "outputs": [
    {
     "name": "stdout",
     "output_type": "stream",
     "text": [
      "['Season', 'DayNum', 'TeamID', 'Score', 'OppTeamID', 'OppScore', 'Loc', 'NumOT', 'FGM', 'FGA', 'FGM3', 'FGA3', 'FTM', 'FTA', 'OR', 'DR', 'Ast', 'TO', 'Stl', 'Blk', 'PF', 'OppFGM', 'OppFGA', 'OppFGM3', 'OppFGA3', 'OppFTM', 'OppFTA', 'OppOR', 'OppDR', 'OppAst', 'OppTO', 'OppStl', 'OppBlk', 'OppPF', 'FG%', 'Proj1', 'GameNumber', 'Baseline', 'Avg']\n"
     ]
    }
   ],
   "source": [
    "\n",
    "df = df.drop(columns=['SoFar_FGM','SoFar_FGA','SoFarFG%','ToGo_FGM','ToGo_FGA','ToGoFG%','Error1','Error2'])\n",
    "print(list(df))\n"
   ]
  },
  {
   "cell_type": "code",
   "execution_count": 16,
   "metadata": {},
   "outputs": [],
   "source": [
    "df['SeaTID'] = df['Season'].astype(str) + df['TeamID'].astype(str)"
   ]
  },
  {
   "cell_type": "code",
   "execution_count": 17,
   "metadata": {},
   "outputs": [
    {
     "name": "stdout",
     "output_type": "stream",
     "text": [
      "['Season', 'DayNum', 'TeamID', 'Score', 'OppTeamID', 'OppScore', 'Loc', 'NumOT', 'FGM', 'FGA', 'FGM3', 'FGA3', 'FTM', 'FTA', 'OR', 'DR', 'Ast', 'TO', 'Stl', 'Blk', 'PF', 'OppFGM', 'OppFGA', 'OppFGM3', 'OppFGA3', 'OppFTM', 'OppFTA', 'OppOR', 'OppDR', 'OppAst', 'OppTO', 'OppStl', 'OppBlk', 'OppPF', 'FG%', 'Proj1', 'GameNumber', 'Baseline', 'Avg', 'SeaTID']\n"
     ]
    }
   ],
   "source": [
    "print(list(df))"
   ]
  },
  {
   "cell_type": "code",
   "execution_count": 18,
   "metadata": {},
   "outputs": [
    {
     "name": "stderr",
     "output_type": "stream",
     "text": [
      "100%|██████████| 30/30 [02:15<00:00,  4.10s/it]"
     ]
    },
    {
     "name": "stdout",
     "output_type": "stream",
     "text": [
      "[1, 2, 3, 4, 5, 6, 7, 8, 9, 10, 11, 12, 13, 14, 15, 16, 17, 18, 19, 20, 21, 22, 23, 24, 25, 26, 27, 28, 29, 30] [0.07922951908453121, 0.06865673885390829, 0.06470763384325434, 0.0626577937579863, 0.06135390158021299, 0.06038326536912285, 0.059607956092010445, 0.05913939024839233, 0.058687895788943116, 0.058329643900541794, 0.05808403062189993, 0.05786394767798518, 0.05771316822697192, 0.057533911989649696, 0.057316331449631455, 0.05719718939804952, 0.05708322918344748, 0.056903848340243555, 0.056816786707416196, 0.05669483352149869, 0.056499788738099854, 0.056414937319513775, 0.05627678472800158, 0.056109407337858484, 0.05594265203412355, 0.05593999302694955, 0.05577782758131441, 0.05509206862362931, 0.05492903325123152, 0.053942842851188]\n"
     ]
    },
    {
     "name": "stderr",
     "output_type": "stream",
     "text": [
      "\n"
     ]
    }
   ],
   "source": [
    "# Simple Moving Average\n",
    "\n",
    "test = None\n",
    "\n",
    "windows = list(range(30))\n",
    "windows = [x + 1 for x in windows]\n",
    "\n",
    "x = []\n",
    "y1 = []\n",
    "y2 = []\n",
    "y3 = []\n",
    "# windows = [20]\n",
    "for w in tqdm(windows):\n",
    "    del test\n",
    "    gc.collect()\n",
    "    test = df.copy()\n",
    "    test['SMA'] = test.groupby(['SeaTID'])['FG%'].transform(lambda x: x.rolling(w, w).mean().shift(1))\n",
    "    \n",
    "    test = test.dropna()\n",
    "    \n",
    "    test['Avg'] = 0.5*test['SMA'] + 0.5*test['Proj1']\n",
    "    test['error1'] = np.sqrt(np.square(test['FG%']-test['SMA']))\n",
    "    test['error2'] = np.sqrt(np.square(test['FG%']-test['Proj1']))\n",
    "    test['error3'] = np.sqrt(np.square(test['FG%']-test['Avg']))\n",
    "    \n",
    "    x.append(w)\n",
    "    y1.append(test['error1'].mean())\n",
    "    y2.append(test['error2'].mean())\n",
    "    y3.append(test['error3'].mean())\n",
    "\n",
    "    \n",
    "print(x,y1)\n",
    "    "
   ]
  },
  {
   "cell_type": "code",
   "execution_count": 19,
   "metadata": {},
   "outputs": [],
   "source": [
    "sma_x = x\n",
    "sma_y1 = y1\n",
    "sma_y2 = y2\n",
    "sma_y3 = y3\n"
   ]
  },
  {
   "cell_type": "code",
   "execution_count": 20,
   "metadata": {},
   "outputs": [
    {
     "data": {
      "image/png": "[encoded data removed]",
      "text/plain": [
       "<Figure size 864x432 with 1 Axes>"
      ]
     },
     "metadata": {
      "needs_background": "light"
     },
     "output_type": "display_data"
    }
   ],
   "source": [
    "\n",
    "fig, ax = plt.subplots(1,1,figsize=(12,6))\n",
    "sns.lineplot(sma_x,sma_y2,label='Baseline')\n",
    "sns.lineplot(sma_x,sma_y1,label='SMA')\n",
    "sns.lineplot(sma_x,sma_y3,label='Avg')\n",
    "ax.legend()\n",
    "# ax.axhline(base_rate,color='r')\n",
    "ax.set_title('Error Using SMA of Last X Games')\n",
    "plt.savefig(figs+'SMAXGamesFG.png')"
   ]
  },
  {
   "cell_type": "code",
   "execution_count": 21,
   "metadata": {},
   "outputs": [
    {
     "name": "stdout",
     "output_type": "stream",
     "text": [
      "0.053942842851188\n"
     ]
    }
   ],
   "source": [
    "print(np.min(sma_y1))\n"
   ]
  },
  {
   "cell_type": "code",
   "execution_count": 22,
   "metadata": {},
   "outputs": [
    {
     "name": "stderr",
     "output_type": "stream",
     "text": [
      "\r",
      "  0%|          | 0/31 [00:00<?, ?it/s]"
     ]
    },
    {
     "name": "stdout",
     "output_type": "stream",
     "text": [
      "[0.01  0.043 0.076 0.109 0.142 0.175 0.208 0.241 0.274 0.307 0.34  0.373\n",
      " 0.406 0.439 0.472 0.505 0.538 0.571 0.604 0.637 0.67  0.703 0.736 0.769\n",
      " 0.802 0.835 0.868 0.901 0.934 0.967 1.   ]\n"
     ]
    },
    {
     "name": "stderr",
     "output_type": "stream",
     "text": [
      "100%|██████████| 31/31 [01:55<00:00,  3.62s/it]\n"
     ]
    }
   ],
   "source": [
    "# Exponential Weighted Average\n",
    "\n",
    "test = None\n",
    "\n",
    "x = []\n",
    "y = []\n",
    "\n",
    "alphas = np.linspace(0.01,1,31)\n",
    "print(alphas)\n",
    "\n",
    "for a in tqdm(alphas):\n",
    "    del test\n",
    "    gc.collect()\n",
    "    test = df.copy()\n",
    "    test.reset_index(inplace=True,drop=True)\n",
    "\n",
    "    test = test.assign(\n",
    "        Proj=test.groupby('SeaTID')['FG%'].apply(\n",
    "            lambda x: x.ewm(alpha=a, adjust=False).mean().shift(1)))\n",
    "    \n",
    "    test = test.loc[test['GameNumber']>=29]\n",
    "    test = test.dropna(subset=['Proj'])\n",
    "    test['Error'] = np.sqrt(np.square(test['FG%']-test['Proj']))\n",
    "    \n",
    "    x.append(a)\n",
    "    y.append(test['Error'].mean())\n",
    "\n",
    "\n",
    "ema_x = x\n",
    "ema_y = y\n",
    "    \n",
    "    "
   ]
  },
  {
   "cell_type": "code",
   "execution_count": 27,
   "metadata": {},
   "outputs": [
    {
     "data": {
      "image/png": "[encoded data removed]",
      "text/plain": [
       "<Figure size 864x360 with 1 Axes>"
      ]
     },
     "metadata": {
      "needs_background": "light"
     },
     "output_type": "display_data"
    }
   ],
   "source": [
    "gc.collect()\n",
    "\n",
    "fig, ax = plt.subplots(1,1,figsize=(12,5))\n",
    "sns.lineplot(ema_x,ema_y)\n",
    "ax.axhline(0.05980918618226772,color='r')\n",
    "ax.set_title('Error Using EMA of Diff Alpha (29 Games)')\n",
    "plt.savefig(figs+'EMAAlphaFG.png')"
   ]
  },
  {
   "cell_type": "code",
   "execution_count": 24,
   "metadata": {},
   "outputs": [
    {
     "name": "stdout",
     "output_type": "stream",
     "text": [
      "[0.01, 0.043000000000000003, 0.076, 0.109, 0.14200000000000002, 0.17500000000000002, 0.20800000000000002, 0.24100000000000002, 0.274, 0.30700000000000005, 0.34, 0.373, 0.406, 0.43900000000000006, 0.47200000000000003, 0.505, 0.538, 0.5710000000000001, 0.6040000000000001, 0.637, 0.67, 0.7030000000000001, 0.736, 0.769, 0.802, 0.8350000000000001, 0.8680000000000001, 0.901, 0.934, 0.9670000000000001, 1.0]\n",
      "[0.07302425533792672, 0.05908563545064842, 0.05692261540449941, 0.05702031632537443, 0.057497205441909824, 0.058030267433558456, 0.058577129945353565, 0.0591231066950301, 0.059677534833525586, 0.06025284808126485, 0.060848445794638814, 0.061460289127745676, 0.06208619881906486, 0.06272740830128873, 0.06338424934510449, 0.06406717470888296, 0.06477307633309867, 0.06550217109125496, 0.06625161438609943, 0.06702129311796735, 0.06780954007232441, 0.0686282904742135, 0.06946578734324207, 0.0703323548079805, 0.07123014122958193, 0.07217286056377772, 0.0731590177459789, 0.0741923271330981, 0.07526481449861167, 0.07638071161870962, 0.07754499257290282]\n"
     ]
    }
   ],
   "source": [
    "print(list(ema_x))\n",
    "print(list(ema_y))\n",
    "# .043 - .175"
   ]
  },
  {
   "cell_type": "code",
   "execution_count": 25,
   "metadata": {},
   "outputs": [
    {
     "name": "stderr",
     "output_type": "stream",
     "text": [
      "100%|██████████| 25/25 [01:41<00:00,  4.72s/it]\n"
     ]
    }
   ],
   "source": [
    "# do again with better alphas\n",
    "test = None\n",
    "\n",
    "x = []\n",
    "y = []\n",
    "\n",
    "alphas = np.linspace(.043,.175,25)\n",
    "\n",
    "for a in tqdm(alphas):\n",
    "    del test\n",
    "    gc.collect()\n",
    "    test = df.copy()\n",
    "    test.reset_index(inplace=True,drop=True)\n",
    "\n",
    "    test = test.assign(\n",
    "        Proj=test.groupby('SeaTID')['FG%'].apply(\n",
    "            lambda x: x.ewm(alpha=a, adjust=False).mean().shift(1)))\n",
    "    \n",
    "    test = test.loc[test['GameNumber']>=29]\n",
    "    test = test.dropna(subset=['Proj'])\n",
    "    test['Error'] = np.sqrt(np.square(test['FG%']-test['Proj']))\n",
    "    \n",
    "    x.append(a)\n",
    "    y.append(test['Error'].mean())\n",
    "\n",
    "\n",
    "ema_x1 = x\n",
    "ema_y1 = y\n",
    "    "
   ]
  },
  {
   "cell_type": "code",
   "execution_count": 28,
   "metadata": {},
   "outputs": [
    {
     "data": {
      "image/png": "[encoded data removed]",
      "text/plain": [
       "<Figure size 864x360 with 1 Axes>"
      ]
     },
     "metadata": {
      "needs_background": "light"
     },
     "output_type": "display_data"
    }
   ],
   "source": [
    "gc.collect()\n",
    "\n",
    "fig, ax = plt.subplots(1,1,figsize=(12,5))\n",
    "sns.lineplot(ema_x1,ema_y1)\n",
    "ax.axhline(0.05980918618226772,color='r')\n",
    "ax.set_title('Error Using EMA of Diff Alpha (29 Games)')\n",
    "plt.savefig(figs+'EMAAlpha1FG.png')"
   ]
  },
  {
   "cell_type": "code",
   "execution_count": 50,
   "metadata": {},
   "outputs": [
    {
     "data": {
      "text/plain": [
       "0.09321076040257165"
      ]
     },
     "execution_count": 50,
     "metadata": {},
     "output_type": "execute_result"
    }
   ],
   "source": [
    "np.min(ema_y1)"
   ]
  },
  {
   "cell_type": "code",
   "execution_count": null,
   "metadata": {},
   "outputs": [],
   "source": [
    "# stopped replacing 3 pt"
   ]
  },
  {
   "cell_type": "code",
   "execution_count": 33,
   "metadata": {},
   "outputs": [
    {
     "name": "stdout",
     "output_type": "stream",
     "text": [
      "174732\n",
      "163951\n"
     ]
    }
   ],
   "source": [
    "# what if we use the previous season's 3pt average as a prior?\n",
    "\n",
    "test = df.copy()\n",
    "test['PrevYear'] = test['Season'] - 1\n",
    "test['PrevTID'] = test['PrevYear'].astype(str) + test['TeamID'].astype(str)\n",
    "\n",
    "tgb = test.groupby(['PrevTID'])['FG%'].mean().reset_index()\n",
    "tgb = tgb.rename(columns={'PrevTID':'SeaTID','FG%':'PrevFG%'})\n",
    "test = test.drop(columns=['PrevYear','PrevTID'])\n",
    "\n",
    "test = pd.merge(test, tgb, how='left', on=['SeaTID','SeaTID'])\n",
    "print(len(test))\n",
    "test = test.dropna(subset=['PrevFG%'])\n",
    "print(len(test))"
   ]
  },
  {
   "cell_type": "code",
   "execution_count": 34,
   "metadata": {},
   "outputs": [
    {
     "name": "stdout",
     "output_type": "stream",
     "text": [
      "0.05937177837492224\n",
      "0.05870192534652215\n",
      "0.06947622758294406\n",
      "0.06365137258948131\n",
      "0.05992628266982208\n"
     ]
    }
   ],
   "source": [
    "\n",
    "\n",
    "test['Avg'] = (test['PrevFG%'] + test['Proj1'])/2\n",
    "\n",
    "rand = test['PrevFG%'].copy().values\n",
    "np.random.shuffle(rand)\n",
    "test['Rand'] = rand\n",
    "\n",
    "\n",
    "test['WeightedAvg'] = ((0.5*test['PrevFG%']) + (0.5*0.34484))\n",
    "\n",
    "test['error1'] = np.sqrt(np.square(test['FG%']-test['PrevFG%']))\n",
    "test['error2'] = np.sqrt(np.square(test['FG%']-test['Avg']))\n",
    "test['error3'] = np.sqrt(np.square(test['FG%']-test['WeightedAvg']))\n",
    "test['error4'] = np.sqrt(np.square(test['FG%']-test['Rand']))\n",
    "test['error5'] = np.sqrt(np.square(test['FG%']-test['Proj1']))\n",
    "\n",
    "print(test.error1.mean())\n",
    "print(test.error2.mean())\n",
    "print(test.error3.mean())\n",
    "print(test.error4.mean())\n",
    "print(test.error5.mean())\n",
    "\n"
   ]
  },
  {
   "cell_type": "code",
   "execution_count": 36,
   "metadata": {},
   "outputs": [
    {
     "name": "stdout",
     "output_type": "stream",
     "text": [
      "17\n",
      "1 9964 0.05582531414345929 0.05925138089902162 0.0034260667555623334\n",
      "2 19895 0.05582519830248791 0.058986024339552044 0.003160826037064135\n",
      "3 29925 0.05578610396092194 0.05894339713963761 0.0031572931787156658\n",
      "4 40006 0.05573273053601956 0.05891123492728431 0.0031785043912647484\n",
      "5 50562 0.05558716477864404 0.05872972927280937 0.003142564494165327\n",
      "6 61210 0.055544191606407375 0.0586857205866874 0.0031415289802800214\n",
      "7 71789 0.05551613566446559 0.05868664286002297 0.003170507195557379\n",
      "8 82322 0.05542999580121433 0.0586313034655689 0.003201307664354572\n",
      "9 92842 0.055409161466856593 0.05867682446104155 0.003267662994184954\n",
      "10 103379 0.0552575739945487 0.05846981035217189 0.003212236357623195\n",
      "11 113971 0.05506672080427645 0.058211208573146996 0.003144487768870545\n",
      "12 124405 0.054928749569315004 0.058134098459503014 0.0032053488901880103\n",
      "13 134635 0.054353805588785525 0.057431340486764834 0.003077534897979309\n",
      "14 144841 0.05441559263280793 0.05753448316293425 0.003118890530126317\n",
      "15 154960 0.054415067815705966 0.057616568478360115 0.00320150066265415\n",
      "16 164950 0.05407920825960354 0.05741208110675411 0.0033328728471505725\n"
     ]
    }
   ],
   "source": [
    "\n",
    "\n",
    "print(len(df.Season.unique()))\n",
    "windows = list(range(16))\n",
    "windows = [x+1 for x in windows]\n",
    "for window in windows:\n",
    "    del test\n",
    "    gc.collect()\n",
    "    test = df.copy()\n",
    "    tgb = test.groupby(['Season','TeamID'])['FG%'].mean().reset_index()\n",
    "    tgb['Rolling'] = tgb.groupby(['TeamID'])['FG%'].transform(lambda x: x.rolling(window, window).mean().shift(1))\n",
    "    tgb = tgb.dropna(subset=['Rolling'])\n",
    "    tgb['SeaTID'] = tgb['Season'].astype(str) + tgb['TeamID'].astype(str)\n",
    "\n",
    "    tgb = tgb.rename(columns={'FG%':'SeaFG%'})\n",
    "    tgb = tgb[['SeaTID','SeaFG%','Rolling']]\n",
    "    \n",
    "    test = pd.merge(test,tgb,how='left',on=['SeaTID','SeaTID'])\n",
    "    \n",
    "    start = len(test)\n",
    "    test = test.dropna(subset=['Rolling'])\n",
    "    end = len(test)\n",
    "\n",
    "    test['error1'] = np.sqrt(np.square(test['FG%']-test['SeaFG%']))\n",
    "    test['error2'] = np.sqrt(np.square(test['FG%']-test['Rolling'])) \n",
    "\n",
    "    print(window, start-end, test['error1'].mean(),test['error2'].mean(), test['error2'].mean()-test['error1'].mean())\n"
   ]
  },
  {
   "cell_type": "code",
   "execution_count": 38,
   "metadata": {},
   "outputs": [
    {
     "name": "stdout",
     "output_type": "stream",
     "text": [
      "[1, 2, 3, 4, 5, 6, 7, 8, 9, 10, 11, 12, 13, 14, 15, 16]\n",
      "1 0.05582531414345929 0.05925138089902162 0.06340716721038918\n",
      "2 0.05582531414345929 0.05881794045664716 0.06255323069230645\n",
      "3 0.05582531414345929 0.05873726631154697 0.062391187798894264\n",
      "4 0.05582531414345929 0.05872733862085771 0.06219759446810908\n",
      "5 0.05582531414345929 0.058739287205793675 0.06210654968525613\n",
      "6 0.05582531414345929 0.058757728494571254 0.06202473465232013\n",
      "7 0.05582531414345929 0.058777308659726656 0.06190772067927183\n",
      "8 0.05582531414345929 0.05879624901339524 0.06192227317870355\n",
      "9 0.05582531414345929 0.058813856279576936 0.06187022989696018\n",
      "10 0.05582531414345929 0.05882967890545075 0.06176789907981027\n",
      "11 0.05582531414345929 0.05884398093801936 0.06178690315699722\n",
      "12 0.05582531414345929 0.05885686052576325 0.06176040293939248\n",
      "13 0.05582531414345929 0.05886846708204187 0.06171521618537469\n",
      "14 0.05582531414345929 0.058879015612178225 0.061847055994475236\n",
      "15 0.05582531414345929 0.05888864519553295 0.061823518741417026\n",
      "16 0.05582531414345929 0.0588973906405416 0.06180578551175716\n"
     ]
    }
   ],
   "source": [
    "\n",
    "spans = list(range(16))\n",
    "spans = [x+1 for x in spans]\n",
    "print(spans)\n",
    "for s in spans:\n",
    "    del test\n",
    "    gc.collect()\n",
    "    test = df.copy()\n",
    "    tgb = test.groupby(['Season','TeamID'])['FG%'].mean().reset_index()\n",
    "#     tgb['Rolling'] = tgb.groupby(['TeamID'])['3Pt%'].transform(lambda x: x.rolling(window, window).mean().shift(1))\n",
    "    tgb['Rolling'] = tgb.groupby(['TeamID'])['FG%'].apply(lambda x: x.ewm(span=s).mean().shift(1))\n",
    "    tgb = tgb.dropna(subset=['Rolling'])\n",
    "    tgb['SeaTID'] = tgb['Season'].astype(str) + tgb['TeamID'].astype(str)\n",
    "\n",
    "    tgb = tgb.rename(columns={'FG%':'SeaFG%'})\n",
    "    tgb = tgb[['SeaTID','SeaFG%','Rolling']]\n",
    "\n",
    "    test = pd.merge(test,tgb,how='left',on=['SeaTID','SeaTID'])\n",
    "    \n",
    "    rand = test.Rolling.copy().values\n",
    "    np.random.shuffle(rand)\n",
    "    test['Rand'] = rand\n",
    "\n",
    "    test['error1'] = np.sqrt(np.square(test['FG%']-test['SeaFG%']))\n",
    "    test['error2'] = np.sqrt(np.square(test['FG%']-test['Rolling'])) \n",
    "    test['error3'] = np.sqrt(np.square(test['FG%']-test['Rand'])) \n",
    "\n",
    "    print(s, test['error1'].mean(),test['error2'].mean(), test['error3'].mean())#test['error2'].mean()-test['error1'].mean())\n",
    "\n"
   ]
  },
  {
   "cell_type": "code",
   "execution_count": null,
   "metadata": {},
   "outputs": [],
   "source": []
  },
  {
   "cell_type": "code",
   "execution_count": 26,
   "metadata": {},
   "outputs": [
    {
     "data": {
      "text/plain": [
       "[<matplotlib.lines.Line2D at 0x11a7dc290>]"
      ]
     },
     "execution_count": 26,
     "metadata": {},
     "output_type": "execute_result"
    },
    {
     "data": {
      "image/png": "[encoded data removed]",
      "text/plain": [
       "<Figure size 432x288 with 1 Axes>"
      ]
     },
     "metadata": {
      "needs_background": "light"
     },
     "output_type": "display_data"
    }
   ],
   "source": [
    "# so, how 'sticky' the prior will be depends on how many samples you use\n",
    "# if we said the team made 633K/1.8M shots, then the prior wouldn't move\n",
    "# instead, since we expect variability, we can say the team made 35/100 shots. \n",
    "# This is a compromise between not sticky enough and too sticky, and can be adjusted\n",
    "\n",
    "from scipy.stats import beta\n",
    "import matplotlib.pyplot as plt\n",
    "import numpy as np\n",
    "a =  35\n",
    "b = 100\n",
    "x = np.linspace(0, 1.0, 100)\n",
    "y1 = beta.pdf(x, a, b)\n",
    "# y2 = beta.pdf(x, 3.25, 3.25)\n",
    "# y3 = beta.pdf(x, 3, 3)\n",
    "plt.plot(x, y1, \"-\")# x, y2, \"r--\", x, y3, \"g--\")\n",
    "\n"
   ]
  },
  {
   "cell_type": "code",
   "execution_count": 42,
   "metadata": {},
   "outputs": [
    {
     "data": {
      "text/plain": [
       "['Season',\n",
       " 'DayNum',\n",
       " 'TeamID',\n",
       " 'Score',\n",
       " 'OppTeamID',\n",
       " 'OppScore',\n",
       " 'Loc',\n",
       " 'NumOT',\n",
       " 'FGM',\n",
       " 'FGA',\n",
       " 'FGM3',\n",
       " 'FGA3',\n",
       " 'FTM',\n",
       " 'FTA',\n",
       " 'OR',\n",
       " 'DR',\n",
       " 'Ast',\n",
       " 'TO',\n",
       " 'Stl',\n",
       " 'Blk',\n",
       " 'PF',\n",
       " 'OppFGM',\n",
       " 'OppFGA',\n",
       " 'OppFGM3',\n",
       " 'OppFGA3',\n",
       " 'OppFTM',\n",
       " 'OppFTA',\n",
       " 'OppOR',\n",
       " 'OppDR',\n",
       " 'OppAst',\n",
       " 'OppTO',\n",
       " 'OppStl',\n",
       " 'OppBlk',\n",
       " 'OppPF']"
      ]
     },
     "execution_count": 42,
     "metadata": {},
     "output_type": "execute_result"
    }
   ],
   "source": []
  },
  {
   "cell_type": "code",
   "execution_count": 71,
   "metadata": {},
   "outputs": [
    {
     "data": {
      "text/plain": [
       "0.3436479095074456"
      ]
     },
     "execution_count": 71,
     "metadata": {},
     "output_type": "execute_result"
    }
   ],
   "source": [
    "# find worst and best 3pt shooting teams\n",
    "gb = df.groupby(['Season','TeamID'])['FGM3','FGA3'].sum().reset_index()\n",
    "gb['3Pt%'] = np.round(gb['FGM3']/gb['FGA3'],4)\n",
    "gb = gb.sort_values(by='3Pt%')\n",
    "\n",
    "teams = teams[['TeamID','TeamName']]\n",
    "gb = pd.merge(gb, teams, how='left', on=['TeamID','TeamID'])\n",
    "gb['3Pt%'].mean()\n"
   ]
  },
  {
   "cell_type": "code",
   "execution_count": 52,
   "metadata": {},
   "outputs": [
    {
     "data": {
      "text/plain": [
       "68"
      ]
     },
     "execution_count": 52,
     "metadata": {},
     "output_type": "execute_result"
    }
   ],
   "source": [
    "# Duke (team code 1181) was bad at 3 point shooting in 2019. \n",
    "#Let's see how the distribution evolves over the course of the season\n",
    "\n",
    "# msu = df.loc[df.TeamID==1277]\n",
    "# msu = msu.loc[msu.Season==2016]\n",
    "# len(msu)\n"
   ]
  },
  {
   "cell_type": "code",
   "execution_count": 53,
   "metadata": {},
   "outputs": [
    {
     "data": {
      "text/html": [
       "<div>\n",
       "<style scoped>\n",
       "    .dataframe tbody tr th:only-of-type {\n",
       "        vertical-align: middle;\n",
       "    }\n",
       "\n",
       "    .dataframe tbody tr th {\n",
       "        vertical-align: top;\n",
       "    }\n",
       "\n",
       "    .dataframe thead th {\n",
       "        text-align: right;\n",
       "    }\n",
       "</style>\n",
       "<table border=\"1\" class=\"dataframe\">\n",
       "  <thead>\n",
       "    <tr style=\"text-align: right;\">\n",
       "      <th></th>\n",
       "      <th>FGM3</th>\n",
       "      <th>FGMiss3</th>\n",
       "      <th>3Pt%</th>\n",
       "    </tr>\n",
       "  </thead>\n",
       "  <tbody>\n",
       "    <tr>\n",
       "      <th>65924</th>\n",
       "      <td>5</td>\n",
       "      <td>8</td>\n",
       "      <td>0.384615</td>\n",
       "    </tr>\n",
       "    <tr>\n",
       "      <th>66133</th>\n",
       "      <td>9</td>\n",
       "      <td>12</td>\n",
       "      <td>0.428571</td>\n",
       "    </tr>\n",
       "    <tr>\n",
       "      <th>66257</th>\n",
       "      <td>9</td>\n",
       "      <td>17</td>\n",
       "      <td>0.346154</td>\n",
       "    </tr>\n",
       "    <tr>\n",
       "      <th>66432</th>\n",
       "      <td>9</td>\n",
       "      <td>11</td>\n",
       "      <td>0.450000</td>\n",
       "    </tr>\n",
       "    <tr>\n",
       "      <th>66579</th>\n",
       "      <td>11</td>\n",
       "      <td>10</td>\n",
       "      <td>0.523810</td>\n",
       "    </tr>\n",
       "    <tr>\n",
       "      <th>66629</th>\n",
       "      <td>10</td>\n",
       "      <td>13</td>\n",
       "      <td>0.434783</td>\n",
       "    </tr>\n",
       "    <tr>\n",
       "      <th>66755</th>\n",
       "      <td>7</td>\n",
       "      <td>15</td>\n",
       "      <td>0.318182</td>\n",
       "    </tr>\n",
       "    <tr>\n",
       "      <th>66876</th>\n",
       "      <td>9</td>\n",
       "      <td>14</td>\n",
       "      <td>0.391304</td>\n",
       "    </tr>\n",
       "    <tr>\n",
       "      <th>67011</th>\n",
       "      <td>7</td>\n",
       "      <td>19</td>\n",
       "      <td>0.269231</td>\n",
       "    </tr>\n",
       "    <tr>\n",
       "      <th>67169</th>\n",
       "      <td>12</td>\n",
       "      <td>10</td>\n",
       "      <td>0.545455</td>\n",
       "    </tr>\n",
       "    <tr>\n",
       "      <th>67245</th>\n",
       "      <td>5</td>\n",
       "      <td>20</td>\n",
       "      <td>0.200000</td>\n",
       "    </tr>\n",
       "    <tr>\n",
       "      <th>67495</th>\n",
       "      <td>6</td>\n",
       "      <td>7</td>\n",
       "      <td>0.461538</td>\n",
       "    </tr>\n",
       "    <tr>\n",
       "      <th>67654</th>\n",
       "      <td>10</td>\n",
       "      <td>7</td>\n",
       "      <td>0.588235</td>\n",
       "    </tr>\n",
       "    <tr>\n",
       "      <th>67986</th>\n",
       "      <td>4</td>\n",
       "      <td>9</td>\n",
       "      <td>0.307692</td>\n",
       "    </tr>\n",
       "    <tr>\n",
       "      <th>68210</th>\n",
       "      <td>6</td>\n",
       "      <td>9</td>\n",
       "      <td>0.400000</td>\n",
       "    </tr>\n",
       "  </tbody>\n",
       "</table>\n",
       "</div>"
      ],
      "text/plain": [
       "       FGM3  FGMiss3      3Pt%\n",
       "65924     5        8  0.384615\n",
       "66133     9       12  0.428571\n",
       "66257     9       17  0.346154\n",
       "66432     9       11  0.450000\n",
       "66579    11       10  0.523810\n",
       "66629    10       13  0.434783\n",
       "66755     7       15  0.318182\n",
       "66876     9       14  0.391304\n",
       "67011     7       19  0.269231\n",
       "67169    12       10  0.545455\n",
       "67245     5       20  0.200000\n",
       "67495     6        7  0.461538\n",
       "67654    10        7  0.588235\n",
       "67986     4        9  0.307692\n",
       "68210     6        9  0.400000"
      ]
     },
     "execution_count": 53,
     "metadata": {},
     "output_type": "execute_result"
    }
   ],
   "source": [
    "# msu['FGMiss3'] = msu['FGA3'] - msu['FGM3']\n",
    "# msu['3Pt%'] = msu['FGM3']/msu['FGA3']\n",
    "\n",
    "# msu[['FGM3','FGMiss3','3Pt%']].head(15)"
   ]
  },
  {
   "cell_type": "code",
   "execution_count": 54,
   "metadata": {},
   "outputs": [
    {
     "name": "stdout",
     "output_type": "stream",
     "text": [
      "0.4326241134751773\n"
     ]
    }
   ],
   "source": [
    "# made = msu.FGM3.values\n",
    "# missed = msu.FGMiss3.values\n",
    "# attempts = msu.FGA3.values\n",
    "\n",
    "# sample_games = 20\n",
    "# sample_made = made[:sample_games]\n",
    "# sample_missed = missed[:sample_games]\n",
    "# sample_attempts = attempts[:sample_games]\n",
    "\n",
    "# print(np.sum(sample_made)/np.sum(sample_attempts))\n",
    "# print(sample_made)\n",
    "\n",
    "\n"
   ]
  },
  {
   "cell_type": "code",
   "execution_count": 60,
   "metadata": {},
   "outputs": [
    {
     "name": "stdout",
     "output_type": "stream",
     "text": [
      "0.43\n",
      "0.41\n",
      "0.4\n",
      "0.43\n",
      "0.45\n",
      "0.44\n"
     ]
    },
    {
     "data": {
      "image/png": "[encoded data removed]",
      "text/plain": [
       "<Figure size 1080x504 with 6 Axes>"
      ]
     },
     "metadata": {
      "needs_background": "light"
     },
     "output_type": "display_data"
    }
   ],
   "source": [
    "\n",
    "# a =  35\n",
    "# b = 100\n",
    "# x = np.linspace(0, 1.0, 100)\n",
    "# y1 = beta.pdf(x, a, b)\n",
    "# # y2 = beta.pdf(x, 3.25, 3.25)\n",
    "# # y3 = beta.pdf(x, 3, 3)\n",
    "# # plt.plot(x, y1, \"-\")# x, y2, \"r--\", x, y3, \"g--\")\n",
    "\n",
    "# fig, axs = plt.subplots(2,3, figsize=(15,7))\n",
    "# fig.tight_layout()\n",
    "\n",
    "# sample = 0\n",
    "# grid = {\n",
    "#     1:[0,0],\n",
    "#     2:[0,1],\n",
    "#     3:[0,2],\n",
    "#     4:[1,0],\n",
    "#     5:[1,1],\n",
    "#     6:[1,2]\n",
    "# }\n",
    "\n",
    "# for i in range(6):\n",
    "#     idx = i+1\n",
    "#     sample += 5\n",
    "#     low_bound = max(0, sample-25)\n",
    "#     sample_made = made[low_bound:sample]\n",
    "#     sample_attempts = attempts[low_bound:sample]\n",
    "#     pltx, plty = grid[idx]\n",
    "    \n",
    "#     c = sample_made.sum()\n",
    "#     d = sample_attempts.sum()\n",
    "#     print(np.round(c/d,2))\n",
    "    \n",
    "#     y1 = beta.pdf(x, a, b)\n",
    "#     y2 = beta.pdf(x, c, d)\n",
    "    \n",
    "#     axs[pltx,plty].plot(x, y1, \"-\", x, y2, \"g--\")\n",
    "#     axs[pltx,plty].set_title('After {} games'.format(sample))\n",
    "    \n",
    "    "
   ]
  },
  {
   "cell_type": "code",
   "execution_count": null,
   "metadata": {},
   "outputs": [],
   "source": [
    "df['3Pt%'] = df['FGM3']/df['FGA3']\n",
    "df['FG%'] = df['FGM']/df['FGA']\n"
   ]
  },
  {
   "cell_type": "code",
   "execution_count": 69,
   "metadata": {},
   "outputs": [
    {
     "name": "stdout",
     "output_type": "stream",
     "text": [
      "0.3436479095074456\n",
      "0.02859023293520763\n",
      "Statistics=0.736, p=0.692\n"
     ]
    },
    {
     "data": {
      "image/png": "[encoded data removed]",
      "text/plain": [
       "<Figure size 432x288 with 1 Axes>"
      ]
     },
     "metadata": {
      "needs_background": "light"
     },
     "output_type": "display_data"
    }
   ],
   "source": [
    "sns.distplot(data)\n",
    "\n",
    "print(gb['3Pt%'].mean())\n",
    "print(gb['3Pt%'].std())\n",
    "\n",
    "from scipy.stats import normaltest\n",
    "stat, p = normaltest(gb['3Pt%'].values)\n",
    "print('Statistics=%.3f, p=%.3f' % (stat, p))"
   ]
  },
  {
   "cell_type": "code",
   "execution_count": 63,
   "metadata": {},
   "outputs": [
    {
     "data": {
      "text/plain": [
       "<matplotlib.axes._subplots.AxesSubplot at 0x11fb9c990>"
      ]
     },
     "execution_count": 63,
     "metadata": {},
     "output_type": "execute_result"
    },
    {
     "data": {
      "image/png": "[encoded data removed]",
      "text/plain": [
       "<Figure size 864x360 with 1 Axes>"
      ]
     },
     "metadata": {
      "needs_background": "light"
     },
     "output_type": "display_data"
    }
   ],
   "source": [
    "import seaborn as sns\n",
    "\n",
    "fig, ax = plt.subplots(1,1,figsize=(12, 5))\n",
    "\n",
    "sns.lineplot(msu['DayNum'].values,msu['3Pt%'])\n"
   ]
  },
  {
   "cell_type": "code",
   "execution_count": null,
   "metadata": {},
   "outputs": [],
   "source": []
  }
 ],
 "metadata": {
  "kernelspec": {
   "display_name": "Python 3",
   "language": "python",
   "name": "python3"
  },
  "language_info": {
   "codemirror_mode": {
    "name": "ipython",
    "version": 3
   },
   "file_extension": ".py",
   "mimetype": "text/x-python",
   "name": "python",
   "nbconvert_exporter": "python",
   "pygments_lexer": "ipython3",
   "version": "3.7.4"
  }
 },
 "nbformat": 4,
 "nbformat_minor": 2
}
