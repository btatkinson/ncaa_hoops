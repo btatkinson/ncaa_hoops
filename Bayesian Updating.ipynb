{
 "cells": [
  {
   "cell_type": "code",
   "execution_count": 1,
   "metadata": {},
   "outputs": [],
   "source": [
    "import pandas as pd\n",
    "import numpy as np\n",
    "from scipy.stats import beta\n",
    "import seaborn as sns\n",
    "import matplotlib.pyplot as plt\n",
    "import gc\n",
    "from tqdm import tqdm\n",
    "\n",
    "\n",
    "path = './data/'\n",
    "output = './output/'\n",
    "figs = './figs/'\n"
   ]
  },
  {
   "cell_type": "code",
   "execution_count": 2,
   "metadata": {},
   "outputs": [
    {
     "data": {
      "text/plain": [
       "7"
      ]
     },
     "execution_count": 2,
     "metadata": {},
     "output_type": "execute_result"
    }
   ],
   "source": [
    "df = pd.read_csv(path+'RegularSeasonDetailedResults.csv')\n",
    "df2 = pd.read_csv(path+'Prelim2019_RegularSeasonDetailedResults.csv')\n",
    "df = pd.concat([df,df2],axis=0)\n",
    "del df2\n",
    "gc.collect()"
   ]
  },
  {
   "cell_type": "code",
   "execution_count": 3,
   "metadata": {},
   "outputs": [
    {
     "name": "stdout",
     "output_type": "stream",
     "text": [
      "169407\n",
      "87366\n"
     ]
    }
   ],
   "source": [
    "print(len(df))\n",
    "# for some reason df has duplicate rows\n",
    "df = df.drop_duplicates()\n",
    "print(len(df))\n",
    "teams = pd.read_csv(path+'Teams.csv')"
   ]
  },
  {
   "cell_type": "markdown",
   "metadata": {},
   "source": [
    "### This is an experiment on bayesian updating and graphing. I'll probably end up making a medium post about it.\n",
    "### Ultimately I want it to be the basis for a college basketball model and compare it to my Elo model\n",
    "\n",
    "First goal:\n",
    "\n",
    "College basketball can be thought of as a combination of three stats. Offensive efficiency, defensive efficiency, and pace. Let's say Kentucky is playing Louisville in December. The Vegas line looks off to me, and I want to predict the final score.\n",
    "\n",
    "If I know both team's pace stats, I can predict how many possessions will happen in a game. In further work I will explore how scoring differential impacts pace and efficiency.\n",
    "\n",
    "Let's say I know that both teams will have 70 possessions. If I also know how efficient the teams will be on those possessions, I can predict the final score. If Kentucky scores 1.1 points per possession, and Louisville scores 1.05, the final score will be somewhere around 77-74.\n",
    "\n",
    "To start, I'm going to assume every team is average in terms of shooting efficiency, pace, etc. Then, game by game, I'll use bayesian updating to adjust those priors and hopefully by the end of the season we can be relatively certain how efficient teams are.\n"
   ]
  },
  {
   "cell_type": "code",
   "execution_count": 4,
   "metadata": {},
   "outputs": [
    {
     "data": {
      "text/html": [
       "<div>\n",
       "<style scoped>\n",
       "    .dataframe tbody tr th:only-of-type {\n",
       "        vertical-align: middle;\n",
       "    }\n",
       "\n",
       "    .dataframe tbody tr th {\n",
       "        vertical-align: top;\n",
       "    }\n",
       "\n",
       "    .dataframe thead th {\n",
       "        text-align: right;\n",
       "    }\n",
       "</style>\n",
       "<table border=\"1\" class=\"dataframe\">\n",
       "  <thead>\n",
       "    <tr style=\"text-align: right;\">\n",
       "      <th></th>\n",
       "      <th>Season</th>\n",
       "      <th>DayNum</th>\n",
       "      <th>WTeamID</th>\n",
       "      <th>WScore</th>\n",
       "      <th>LTeamID</th>\n",
       "      <th>LScore</th>\n",
       "      <th>WLoc</th>\n",
       "      <th>NumOT</th>\n",
       "      <th>WFGM</th>\n",
       "      <th>WFGA</th>\n",
       "      <th>...</th>\n",
       "      <th>LFGA3</th>\n",
       "      <th>LFTM</th>\n",
       "      <th>LFTA</th>\n",
       "      <th>LOR</th>\n",
       "      <th>LDR</th>\n",
       "      <th>LAst</th>\n",
       "      <th>LTO</th>\n",
       "      <th>LStl</th>\n",
       "      <th>LBlk</th>\n",
       "      <th>LPF</th>\n",
       "    </tr>\n",
       "  </thead>\n",
       "  <tbody>\n",
       "    <tr>\n",
       "      <th>0</th>\n",
       "      <td>2003</td>\n",
       "      <td>10</td>\n",
       "      <td>1104</td>\n",
       "      <td>68</td>\n",
       "      <td>1328</td>\n",
       "      <td>62</td>\n",
       "      <td>N</td>\n",
       "      <td>0</td>\n",
       "      <td>27</td>\n",
       "      <td>58</td>\n",
       "      <td>...</td>\n",
       "      <td>10</td>\n",
       "      <td>16</td>\n",
       "      <td>22</td>\n",
       "      <td>10</td>\n",
       "      <td>22</td>\n",
       "      <td>8</td>\n",
       "      <td>18</td>\n",
       "      <td>9</td>\n",
       "      <td>2</td>\n",
       "      <td>20</td>\n",
       "    </tr>\n",
       "    <tr>\n",
       "      <th>1</th>\n",
       "      <td>2003</td>\n",
       "      <td>10</td>\n",
       "      <td>1272</td>\n",
       "      <td>70</td>\n",
       "      <td>1393</td>\n",
       "      <td>63</td>\n",
       "      <td>N</td>\n",
       "      <td>0</td>\n",
       "      <td>26</td>\n",
       "      <td>62</td>\n",
       "      <td>...</td>\n",
       "      <td>24</td>\n",
       "      <td>9</td>\n",
       "      <td>20</td>\n",
       "      <td>20</td>\n",
       "      <td>25</td>\n",
       "      <td>7</td>\n",
       "      <td>12</td>\n",
       "      <td>8</td>\n",
       "      <td>6</td>\n",
       "      <td>16</td>\n",
       "    </tr>\n",
       "    <tr>\n",
       "      <th>2</th>\n",
       "      <td>2003</td>\n",
       "      <td>11</td>\n",
       "      <td>1266</td>\n",
       "      <td>73</td>\n",
       "      <td>1437</td>\n",
       "      <td>61</td>\n",
       "      <td>N</td>\n",
       "      <td>0</td>\n",
       "      <td>24</td>\n",
       "      <td>58</td>\n",
       "      <td>...</td>\n",
       "      <td>26</td>\n",
       "      <td>14</td>\n",
       "      <td>23</td>\n",
       "      <td>31</td>\n",
       "      <td>22</td>\n",
       "      <td>9</td>\n",
       "      <td>12</td>\n",
       "      <td>2</td>\n",
       "      <td>5</td>\n",
       "      <td>23</td>\n",
       "    </tr>\n",
       "    <tr>\n",
       "      <th>3</th>\n",
       "      <td>2003</td>\n",
       "      <td>11</td>\n",
       "      <td>1296</td>\n",
       "      <td>56</td>\n",
       "      <td>1457</td>\n",
       "      <td>50</td>\n",
       "      <td>N</td>\n",
       "      <td>0</td>\n",
       "      <td>18</td>\n",
       "      <td>38</td>\n",
       "      <td>...</td>\n",
       "      <td>22</td>\n",
       "      <td>8</td>\n",
       "      <td>15</td>\n",
       "      <td>17</td>\n",
       "      <td>20</td>\n",
       "      <td>9</td>\n",
       "      <td>19</td>\n",
       "      <td>4</td>\n",
       "      <td>3</td>\n",
       "      <td>23</td>\n",
       "    </tr>\n",
       "    <tr>\n",
       "      <th>4</th>\n",
       "      <td>2003</td>\n",
       "      <td>11</td>\n",
       "      <td>1400</td>\n",
       "      <td>77</td>\n",
       "      <td>1208</td>\n",
       "      <td>71</td>\n",
       "      <td>N</td>\n",
       "      <td>0</td>\n",
       "      <td>30</td>\n",
       "      <td>61</td>\n",
       "      <td>...</td>\n",
       "      <td>16</td>\n",
       "      <td>17</td>\n",
       "      <td>27</td>\n",
       "      <td>21</td>\n",
       "      <td>15</td>\n",
       "      <td>12</td>\n",
       "      <td>10</td>\n",
       "      <td>7</td>\n",
       "      <td>1</td>\n",
       "      <td>14</td>\n",
       "    </tr>\n",
       "  </tbody>\n",
       "</table>\n",
       "<p>5 rows × 34 columns</p>\n",
       "</div>"
      ],
      "text/plain": [
       "   Season  DayNum  WTeamID  WScore  LTeamID  LScore WLoc  NumOT  WFGM  WFGA  \\\n",
       "0    2003      10     1104      68     1328      62    N      0    27    58   \n",
       "1    2003      10     1272      70     1393      63    N      0    26    62   \n",
       "2    2003      11     1266      73     1437      61    N      0    24    58   \n",
       "3    2003      11     1296      56     1457      50    N      0    18    38   \n",
       "4    2003      11     1400      77     1208      71    N      0    30    61   \n",
       "\n",
       "   ...  LFGA3  LFTM  LFTA  LOR  LDR  LAst  LTO  LStl  LBlk  LPF  \n",
       "0  ...     10    16    22   10   22     8   18     9     2   20  \n",
       "1  ...     24     9    20   20   25     7   12     8     6   16  \n",
       "2  ...     26    14    23   31   22     9   12     2     5   23  \n",
       "3  ...     22     8    15   17   20     9   19     4     3   23  \n",
       "4  ...     16    17    27   21   15    12   10     7     1   14  \n",
       "\n",
       "[5 rows x 34 columns]"
      ]
     },
     "execution_count": 4,
     "metadata": {},
     "output_type": "execute_result"
    }
   ],
   "source": [
    "df.head()"
   ]
  },
  {
   "cell_type": "code",
   "execution_count": 5,
   "metadata": {},
   "outputs": [],
   "source": [
    "def team_by_team(df):\n",
    "    # preprocessing \n",
    "    df = df.loc[df.Season>=2009]\n",
    "    print(len(df))\n",
    "    new_cols = []\n",
    "    for column in list(df):\n",
    "        if column == 'WLoc':\n",
    "            new_cols.append('WLoc')\n",
    "        else:\n",
    "            column = column.replace(\"W\",\"\")\n",
    "            column = column.replace(\"L\",\"Opp\")\n",
    "            new_cols.append(column)\n",
    "\n",
    "    print(new_cols)\n",
    "    df.columns=new_cols\n",
    "    opp_df = df.copy()\n",
    "    opp_cols = list(opp_df)\n",
    "\n",
    "    static_cols = ['Season','DayNum','WLoc','NumOT']\n",
    "    new_oc = []\n",
    "\n",
    "    for col in opp_cols:\n",
    "        if col in static_cols:\n",
    "            new_oc.append(col)\n",
    "        elif \"Opp\" in col:\n",
    "            new_oc.append(col.replace(\"Opp\",\"\"))\n",
    "        else:\n",
    "            new_oc.append('Opp'+col)\n",
    "\n",
    "    print(new_oc)\n",
    "\n",
    "    opp_df.columns=new_oc\n",
    "    # adjust location\n",
    "    reverse = {\n",
    "        'H':'A',\n",
    "        'A':'H',\n",
    "        'N':'N'\n",
    "    }\n",
    "\n",
    "    opp_df['WLoc'] = opp_df['WLoc'].replace(reverse)\n",
    "    opp_df = opp_df[new_cols]\n",
    "    df = pd.concat([opp_df,df],axis=0)\n",
    "\n",
    "    df = df.rename(columns={'WLoc':'Loc'})\n",
    "    return df\n",
    "\n"
   ]
  },
  {
   "cell_type": "code",
   "execution_count": 6,
   "metadata": {},
   "outputs": [
    {
     "name": "stdout",
     "output_type": "stream",
     "text": [
      "58541\n",
      "['Season', 'DayNum', 'TeamID', 'Score', 'OppTeamID', 'OppScore', 'WLoc', 'NumOT', 'FGM', 'FGA', 'FGM3', 'FGA3', 'FTM', 'FTA', 'OR', 'DR', 'Ast', 'TO', 'Stl', 'Blk', 'PF', 'OppFGM', 'OppFGA', 'OppFGM3', 'OppFGA3', 'OppFTM', 'OppFTA', 'OppOR', 'OppDR', 'OppAst', 'OppTO', 'OppStl', 'OppBlk', 'OppPF']\n",
      "['Season', 'DayNum', 'OppTeamID', 'OppScore', 'TeamID', 'Score', 'WLoc', 'NumOT', 'OppFGM', 'OppFGA', 'OppFGM3', 'OppFGA3', 'OppFTM', 'OppFTA', 'OppOR', 'OppDR', 'OppAst', 'OppTO', 'OppStl', 'OppBlk', 'OppPF', 'FGM', 'FGA', 'FGM3', 'FGA3', 'FTM', 'FTA', 'OR', 'DR', 'Ast', 'TO', 'Stl', 'Blk', 'PF']\n"
     ]
    }
   ],
   "source": [
    "df = team_by_team(df)\n"
   ]
  },
  {
   "cell_type": "code",
   "execution_count": 7,
   "metadata": {},
   "outputs": [],
   "source": [
    "df = df.sort_values(by=['Season','DayNum','TeamID'])\n",
    "# df.groupby(['Season','TeamID'])['Score'].cumcount()"
   ]
  },
  {
   "cell_type": "code",
   "execution_count": 8,
   "metadata": {},
   "outputs": [
    {
     "name": "stdout",
     "output_type": "stream",
     "text": [
      "780597\n",
      "2263669\n",
      "0.34484\n"
     ]
    }
   ],
   "source": [
    "# let's start with a binomial 3 point distribution\n",
    "\n",
    "# total 3 pointers made \n",
    "FGM3 = df.FGM3.sum()\n",
    "FGA3 = df.FGA3.sum()\n",
    "\n",
    "base_rate = np.round(FGM3/FGA3, 5)\n",
    "# team by team average\n",
    "#34.3\n",
    "\n",
    "print(FGM3)\n",
    "print(FGA3)\n",
    "print(base_rate)\n"
   ]
  },
  {
   "cell_type": "code",
   "execution_count": 9,
   "metadata": {},
   "outputs": [
    {
     "name": "stdout",
     "output_type": "stream",
     "text": [
      "0.09274460121965801\n"
     ]
    }
   ],
   "source": [
    "# Method 1: let's see per game error if we predict 34.51% every game\n",
    "df['3Pt%'] = np.round(df['FGM3']/df['FGA3'],4)\n",
    "df['Proj1'] = 0.3451\n",
    "df['Error1'] = np.sqrt(np.square(df['3Pt%']-df['Proj1']))\n",
    "\n",
    "print(df['Error1'].mean())\n"
   ]
  },
  {
   "cell_type": "code",
   "execution_count": 10,
   "metadata": {},
   "outputs": [
    {
     "name": "stdout",
     "output_type": "stream",
     "text": [
      "117082\n",
      "117082\n"
     ]
    }
   ],
   "source": [
    "# X games in, predict Total - X games\n",
    "print(len(df))\n",
    "df = df.sort_values(by=['Season','DayNum'])\n",
    "df['SoFar_3M'] = df.groupby(['Season','TeamID'])['FGM3'].cumsum()\n",
    "df['SoFar_3A'] = df.groupby(['Season','TeamID'])['FGA3'].cumsum()\n",
    "\n",
    "print(len(df))\n",
    "\n",
    "# get reverse\n",
    "df = df.sort_values(by=['Season','DayNum'], ascending=False)\n",
    "df['ToGo_3M'] = df.groupby(['Season','TeamID'])['FGM3'].cumsum()\n",
    "df['ToGo_3A'] = df.groupby(['Season','TeamID'])['FGA3'].cumsum()\n",
    "df = df.sort_values(by=['Season','DayNum'])\n"
   ]
  },
  {
   "cell_type": "code",
   "execution_count": 11,
   "metadata": {},
   "outputs": [
    {
     "data": {
      "text/html": [
       "<div>\n",
       "<style scoped>\n",
       "    .dataframe tbody tr th:only-of-type {\n",
       "        vertical-align: middle;\n",
       "    }\n",
       "\n",
       "    .dataframe tbody tr th {\n",
       "        vertical-align: top;\n",
       "    }\n",
       "\n",
       "    .dataframe thead th {\n",
       "        text-align: right;\n",
       "    }\n",
       "</style>\n",
       "<table border=\"1\" class=\"dataframe\">\n",
       "  <thead>\n",
       "    <tr style=\"text-align: right;\">\n",
       "      <th></th>\n",
       "      <th>Season</th>\n",
       "      <th>DayNum</th>\n",
       "      <th>TeamID</th>\n",
       "      <th>Score</th>\n",
       "      <th>OppTeamID</th>\n",
       "      <th>OppScore</th>\n",
       "      <th>Loc</th>\n",
       "      <th>NumOT</th>\n",
       "      <th>FGM</th>\n",
       "      <th>FGA</th>\n",
       "      <th>...</th>\n",
       "      <th>3Pt%</th>\n",
       "      <th>Proj1</th>\n",
       "      <th>Error1</th>\n",
       "      <th>SoFar_3M</th>\n",
       "      <th>SoFar_3A</th>\n",
       "      <th>ToGo_3M</th>\n",
       "      <th>ToGo_3A</th>\n",
       "      <th>SoFar3Pt%</th>\n",
       "      <th>ToGo3Pt%</th>\n",
       "      <th>GameNumber</th>\n",
       "    </tr>\n",
       "  </thead>\n",
       "  <tbody>\n",
       "    <tr>\n",
       "      <th>28825</th>\n",
       "      <td>2009</td>\n",
       "      <td>7</td>\n",
       "      <td>1181</td>\n",
       "      <td>80</td>\n",
       "      <td>1342</td>\n",
       "      <td>49</td>\n",
       "      <td>H</td>\n",
       "      <td>0</td>\n",
       "      <td>30</td>\n",
       "      <td>63</td>\n",
       "      <td>...</td>\n",
       "      <td>0.2727</td>\n",
       "      <td>0.3451</td>\n",
       "      <td>0.0724</td>\n",
       "      <td>3</td>\n",
       "      <td>11</td>\n",
       "      <td>246</td>\n",
       "      <td>705</td>\n",
       "      <td>0.272727</td>\n",
       "      <td>0.348936</td>\n",
       "      <td>1</td>\n",
       "    </tr>\n",
       "    <tr>\n",
       "      <th>28826</th>\n",
       "      <td>2009</td>\n",
       "      <td>7</td>\n",
       "      <td>1204</td>\n",
       "      <td>65</td>\n",
       "      <td>1222</td>\n",
       "      <td>63</td>\n",
       "      <td>N</td>\n",
       "      <td>0</td>\n",
       "      <td>24</td>\n",
       "      <td>62</td>\n",
       "      <td>...</td>\n",
       "      <td>0.3571</td>\n",
       "      <td>0.3451</td>\n",
       "      <td>0.0120</td>\n",
       "      <td>5</td>\n",
       "      <td>14</td>\n",
       "      <td>204</td>\n",
       "      <td>598</td>\n",
       "      <td>0.357143</td>\n",
       "      <td>0.341137</td>\n",
       "      <td>1</td>\n",
       "    </tr>\n",
       "    <tr>\n",
       "      <th>28826</th>\n",
       "      <td>2009</td>\n",
       "      <td>7</td>\n",
       "      <td>1222</td>\n",
       "      <td>63</td>\n",
       "      <td>1204</td>\n",
       "      <td>65</td>\n",
       "      <td>N</td>\n",
       "      <td>0</td>\n",
       "      <td>20</td>\n",
       "      <td>57</td>\n",
       "      <td>...</td>\n",
       "      <td>0.3500</td>\n",
       "      <td>0.3451</td>\n",
       "      <td>0.0049</td>\n",
       "      <td>7</td>\n",
       "      <td>20</td>\n",
       "      <td>187</td>\n",
       "      <td>571</td>\n",
       "      <td>0.350000</td>\n",
       "      <td>0.327496</td>\n",
       "      <td>1</td>\n",
       "    </tr>\n",
       "    <tr>\n",
       "      <th>28825</th>\n",
       "      <td>2009</td>\n",
       "      <td>7</td>\n",
       "      <td>1342</td>\n",
       "      <td>49</td>\n",
       "      <td>1181</td>\n",
       "      <td>80</td>\n",
       "      <td>A</td>\n",
       "      <td>0</td>\n",
       "      <td>16</td>\n",
       "      <td>53</td>\n",
       "      <td>...</td>\n",
       "      <td>0.1765</td>\n",
       "      <td>0.3451</td>\n",
       "      <td>0.1686</td>\n",
       "      <td>3</td>\n",
       "      <td>17</td>\n",
       "      <td>165</td>\n",
       "      <td>525</td>\n",
       "      <td>0.176471</td>\n",
       "      <td>0.314286</td>\n",
       "      <td>1</td>\n",
       "    </tr>\n",
       "    <tr>\n",
       "      <th>28827</th>\n",
       "      <td>2009</td>\n",
       "      <td>8</td>\n",
       "      <td>1181</td>\n",
       "      <td>97</td>\n",
       "      <td>1204</td>\n",
       "      <td>54</td>\n",
       "      <td>H</td>\n",
       "      <td>0</td>\n",
       "      <td>32</td>\n",
       "      <td>66</td>\n",
       "      <td>...</td>\n",
       "      <td>0.4211</td>\n",
       "      <td>0.3451</td>\n",
       "      <td>0.0760</td>\n",
       "      <td>11</td>\n",
       "      <td>30</td>\n",
       "      <td>243</td>\n",
       "      <td>694</td>\n",
       "      <td>0.366667</td>\n",
       "      <td>0.350144</td>\n",
       "      <td>2</td>\n",
       "    </tr>\n",
       "    <tr>\n",
       "      <th>28827</th>\n",
       "      <td>2009</td>\n",
       "      <td>8</td>\n",
       "      <td>1204</td>\n",
       "      <td>54</td>\n",
       "      <td>1181</td>\n",
       "      <td>97</td>\n",
       "      <td>A</td>\n",
       "      <td>0</td>\n",
       "      <td>18</td>\n",
       "      <td>64</td>\n",
       "      <td>...</td>\n",
       "      <td>0.2632</td>\n",
       "      <td>0.3451</td>\n",
       "      <td>0.0819</td>\n",
       "      <td>10</td>\n",
       "      <td>33</td>\n",
       "      <td>199</td>\n",
       "      <td>584</td>\n",
       "      <td>0.303030</td>\n",
       "      <td>0.340753</td>\n",
       "      <td>2</td>\n",
       "    </tr>\n",
       "    <tr>\n",
       "      <th>28828</th>\n",
       "      <td>2009</td>\n",
       "      <td>8</td>\n",
       "      <td>1222</td>\n",
       "      <td>76</td>\n",
       "      <td>1342</td>\n",
       "      <td>57</td>\n",
       "      <td>N</td>\n",
       "      <td>0</td>\n",
       "      <td>30</td>\n",
       "      <td>56</td>\n",
       "      <td>...</td>\n",
       "      <td>0.4000</td>\n",
       "      <td>0.3451</td>\n",
       "      <td>0.0549</td>\n",
       "      <td>13</td>\n",
       "      <td>35</td>\n",
       "      <td>180</td>\n",
       "      <td>551</td>\n",
       "      <td>0.371429</td>\n",
       "      <td>0.326679</td>\n",
       "      <td>2</td>\n",
       "    </tr>\n",
       "    <tr>\n",
       "      <th>28829</th>\n",
       "      <td>2009</td>\n",
       "      <td>8</td>\n",
       "      <td>1237</td>\n",
       "      <td>60</td>\n",
       "      <td>1318</td>\n",
       "      <td>73</td>\n",
       "      <td>N</td>\n",
       "      <td>0</td>\n",
       "      <td>20</td>\n",
       "      <td>51</td>\n",
       "      <td>...</td>\n",
       "      <td>0.1176</td>\n",
       "      <td>0.3451</td>\n",
       "      <td>0.2275</td>\n",
       "      <td>2</td>\n",
       "      <td>17</td>\n",
       "      <td>137</td>\n",
       "      <td>399</td>\n",
       "      <td>0.117647</td>\n",
       "      <td>0.343358</td>\n",
       "      <td>1</td>\n",
       "    </tr>\n",
       "    <tr>\n",
       "      <th>28829</th>\n",
       "      <td>2009</td>\n",
       "      <td>8</td>\n",
       "      <td>1318</td>\n",
       "      <td>73</td>\n",
       "      <td>1237</td>\n",
       "      <td>60</td>\n",
       "      <td>N</td>\n",
       "      <td>0</td>\n",
       "      <td>21</td>\n",
       "      <td>50</td>\n",
       "      <td>...</td>\n",
       "      <td>0.3182</td>\n",
       "      <td>0.3451</td>\n",
       "      <td>0.0269</td>\n",
       "      <td>7</td>\n",
       "      <td>22</td>\n",
       "      <td>165</td>\n",
       "      <td>492</td>\n",
       "      <td>0.318182</td>\n",
       "      <td>0.335366</td>\n",
       "      <td>1</td>\n",
       "    </tr>\n",
       "    <tr>\n",
       "      <th>28828</th>\n",
       "      <td>2009</td>\n",
       "      <td>8</td>\n",
       "      <td>1342</td>\n",
       "      <td>57</td>\n",
       "      <td>1222</td>\n",
       "      <td>76</td>\n",
       "      <td>N</td>\n",
       "      <td>0</td>\n",
       "      <td>16</td>\n",
       "      <td>40</td>\n",
       "      <td>...</td>\n",
       "      <td>0.2857</td>\n",
       "      <td>0.3451</td>\n",
       "      <td>0.0594</td>\n",
       "      <td>9</td>\n",
       "      <td>38</td>\n",
       "      <td>162</td>\n",
       "      <td>508</td>\n",
       "      <td>0.236842</td>\n",
       "      <td>0.318898</td>\n",
       "      <td>2</td>\n",
       "    </tr>\n",
       "  </tbody>\n",
       "</table>\n",
       "<p>10 rows × 44 columns</p>\n",
       "</div>"
      ],
      "text/plain": [
       "       Season  DayNum  TeamID  Score  OppTeamID  OppScore Loc  NumOT  FGM  \\\n",
       "28825    2009       7    1181     80       1342        49   H      0   30   \n",
       "28826    2009       7    1204     65       1222        63   N      0   24   \n",
       "28826    2009       7    1222     63       1204        65   N      0   20   \n",
       "28825    2009       7    1342     49       1181        80   A      0   16   \n",
       "28827    2009       8    1181     97       1204        54   H      0   32   \n",
       "28827    2009       8    1204     54       1181        97   A      0   18   \n",
       "28828    2009       8    1222     76       1342        57   N      0   30   \n",
       "28829    2009       8    1237     60       1318        73   N      0   20   \n",
       "28829    2009       8    1318     73       1237        60   N      0   21   \n",
       "28828    2009       8    1342     57       1222        76   N      0   16   \n",
       "\n",
       "       FGA  ...    3Pt%   Proj1  Error1  SoFar_3M  SoFar_3A  ToGo_3M  ToGo_3A  \\\n",
       "28825   63  ...  0.2727  0.3451  0.0724         3        11      246      705   \n",
       "28826   62  ...  0.3571  0.3451  0.0120         5        14      204      598   \n",
       "28826   57  ...  0.3500  0.3451  0.0049         7        20      187      571   \n",
       "28825   53  ...  0.1765  0.3451  0.1686         3        17      165      525   \n",
       "28827   66  ...  0.4211  0.3451  0.0760        11        30      243      694   \n",
       "28827   64  ...  0.2632  0.3451  0.0819        10        33      199      584   \n",
       "28828   56  ...  0.4000  0.3451  0.0549        13        35      180      551   \n",
       "28829   51  ...  0.1176  0.3451  0.2275         2        17      137      399   \n",
       "28829   50  ...  0.3182  0.3451  0.0269         7        22      165      492   \n",
       "28828   40  ...  0.2857  0.3451  0.0594         9        38      162      508   \n",
       "\n",
       "       SoFar3Pt%  ToGo3Pt%  GameNumber  \n",
       "28825   0.272727  0.348936           1  \n",
       "28826   0.357143  0.341137           1  \n",
       "28826   0.350000  0.327496           1  \n",
       "28825   0.176471  0.314286           1  \n",
       "28827   0.366667  0.350144           2  \n",
       "28827   0.303030  0.340753           2  \n",
       "28828   0.371429  0.326679           2  \n",
       "28829   0.117647  0.343358           1  \n",
       "28829   0.318182  0.335366           1  \n",
       "28828   0.236842  0.318898           2  \n",
       "\n",
       "[10 rows x 44 columns]"
      ]
     },
     "execution_count": 11,
     "metadata": {},
     "output_type": "execute_result"
    }
   ],
   "source": [
    "df['SoFar3Pt%'] = df['SoFar_3M']/df['SoFar_3A']\n",
    "\n",
    "df['ToGo3Pt%'] = df['ToGo_3M']/df['ToGo_3A']\n",
    "\n",
    "df['GameNumber'] = df.groupby(['Season','TeamID'])['Score'].cumcount()\n",
    "\n",
    "df['GameNumber'] += 1\n",
    "\n",
    "df.head(10)"
   ]
  },
  {
   "cell_type": "code",
   "execution_count": 12,
   "metadata": {},
   "outputs": [
    {
     "name": "stdout",
     "output_type": "stream",
     "text": [
      "585\n"
     ]
    },
    {
     "data": {
      "text/html": [
       "<div>\n",
       "<style scoped>\n",
       "    .dataframe tbody tr th:only-of-type {\n",
       "        vertical-align: middle;\n",
       "    }\n",
       "\n",
       "    .dataframe tbody tr th {\n",
       "        vertical-align: top;\n",
       "    }\n",
       "\n",
       "    .dataframe thead th {\n",
       "        text-align: right;\n",
       "    }\n",
       "</style>\n",
       "<table border=\"1\" class=\"dataframe\">\n",
       "  <thead>\n",
       "    <tr style=\"text-align: right;\">\n",
       "      <th></th>\n",
       "      <th>Season</th>\n",
       "      <th>DayNum</th>\n",
       "      <th>TeamID</th>\n",
       "      <th>Score</th>\n",
       "      <th>OppTeamID</th>\n",
       "      <th>OppScore</th>\n",
       "      <th>Loc</th>\n",
       "      <th>NumOT</th>\n",
       "      <th>FGM</th>\n",
       "      <th>FGA</th>\n",
       "      <th>...</th>\n",
       "      <th>3Pt%</th>\n",
       "      <th>Proj1</th>\n",
       "      <th>Error1</th>\n",
       "      <th>SoFar_3M</th>\n",
       "      <th>SoFar_3A</th>\n",
       "      <th>ToGo_3M</th>\n",
       "      <th>ToGo_3A</th>\n",
       "      <th>SoFar3Pt%</th>\n",
       "      <th>ToGo3Pt%</th>\n",
       "      <th>GameNumber</th>\n",
       "    </tr>\n",
       "  </thead>\n",
       "  <tbody>\n",
       "    <tr>\n",
       "      <th>28825</th>\n",
       "      <td>2009</td>\n",
       "      <td>7</td>\n",
       "      <td>1181</td>\n",
       "      <td>80</td>\n",
       "      <td>1342</td>\n",
       "      <td>49</td>\n",
       "      <td>H</td>\n",
       "      <td>0</td>\n",
       "      <td>30</td>\n",
       "      <td>63</td>\n",
       "      <td>...</td>\n",
       "      <td>0.2727</td>\n",
       "      <td>0.3451</td>\n",
       "      <td>0.0724</td>\n",
       "      <td>3</td>\n",
       "      <td>11</td>\n",
       "      <td>243</td>\n",
       "      <td>694</td>\n",
       "      <td>0.272727</td>\n",
       "      <td>0.348936</td>\n",
       "      <td>1</td>\n",
       "    </tr>\n",
       "    <tr>\n",
       "      <th>28826</th>\n",
       "      <td>2009</td>\n",
       "      <td>7</td>\n",
       "      <td>1204</td>\n",
       "      <td>65</td>\n",
       "      <td>1222</td>\n",
       "      <td>63</td>\n",
       "      <td>N</td>\n",
       "      <td>0</td>\n",
       "      <td>24</td>\n",
       "      <td>62</td>\n",
       "      <td>...</td>\n",
       "      <td>0.3571</td>\n",
       "      <td>0.3451</td>\n",
       "      <td>0.0120</td>\n",
       "      <td>5</td>\n",
       "      <td>14</td>\n",
       "      <td>199</td>\n",
       "      <td>584</td>\n",
       "      <td>0.357143</td>\n",
       "      <td>0.341137</td>\n",
       "      <td>1</td>\n",
       "    </tr>\n",
       "    <tr>\n",
       "      <th>28826</th>\n",
       "      <td>2009</td>\n",
       "      <td>7</td>\n",
       "      <td>1222</td>\n",
       "      <td>63</td>\n",
       "      <td>1204</td>\n",
       "      <td>65</td>\n",
       "      <td>N</td>\n",
       "      <td>0</td>\n",
       "      <td>20</td>\n",
       "      <td>57</td>\n",
       "      <td>...</td>\n",
       "      <td>0.3500</td>\n",
       "      <td>0.3451</td>\n",
       "      <td>0.0049</td>\n",
       "      <td>7</td>\n",
       "      <td>20</td>\n",
       "      <td>180</td>\n",
       "      <td>551</td>\n",
       "      <td>0.350000</td>\n",
       "      <td>0.327496</td>\n",
       "      <td>1</td>\n",
       "    </tr>\n",
       "    <tr>\n",
       "      <th>28825</th>\n",
       "      <td>2009</td>\n",
       "      <td>7</td>\n",
       "      <td>1342</td>\n",
       "      <td>49</td>\n",
       "      <td>1181</td>\n",
       "      <td>80</td>\n",
       "      <td>A</td>\n",
       "      <td>0</td>\n",
       "      <td>16</td>\n",
       "      <td>53</td>\n",
       "      <td>...</td>\n",
       "      <td>0.1765</td>\n",
       "      <td>0.3451</td>\n",
       "      <td>0.1686</td>\n",
       "      <td>3</td>\n",
       "      <td>17</td>\n",
       "      <td>162</td>\n",
       "      <td>508</td>\n",
       "      <td>0.176471</td>\n",
       "      <td>0.314286</td>\n",
       "      <td>1</td>\n",
       "    </tr>\n",
       "    <tr>\n",
       "      <th>28827</th>\n",
       "      <td>2009</td>\n",
       "      <td>8</td>\n",
       "      <td>1181</td>\n",
       "      <td>97</td>\n",
       "      <td>1204</td>\n",
       "      <td>54</td>\n",
       "      <td>H</td>\n",
       "      <td>0</td>\n",
       "      <td>32</td>\n",
       "      <td>66</td>\n",
       "      <td>...</td>\n",
       "      <td>0.4211</td>\n",
       "      <td>0.3451</td>\n",
       "      <td>0.0760</td>\n",
       "      <td>11</td>\n",
       "      <td>30</td>\n",
       "      <td>235</td>\n",
       "      <td>675</td>\n",
       "      <td>0.366667</td>\n",
       "      <td>0.350144</td>\n",
       "      <td>2</td>\n",
       "    </tr>\n",
       "  </tbody>\n",
       "</table>\n",
       "<p>5 rows × 44 columns</p>\n",
       "</div>"
      ],
      "text/plain": [
       "       Season  DayNum  TeamID  Score  OppTeamID  OppScore Loc  NumOT  FGM  \\\n",
       "28825    2009       7    1181     80       1342        49   H      0   30   \n",
       "28826    2009       7    1204     65       1222        63   N      0   24   \n",
       "28826    2009       7    1222     63       1204        65   N      0   20   \n",
       "28825    2009       7    1342     49       1181        80   A      0   16   \n",
       "28827    2009       8    1181     97       1204        54   H      0   32   \n",
       "\n",
       "       FGA  ...    3Pt%   Proj1  Error1  SoFar_3M  SoFar_3A  ToGo_3M  ToGo_3A  \\\n",
       "28825   63  ...  0.2727  0.3451  0.0724         3        11      243      694   \n",
       "28826   62  ...  0.3571  0.3451  0.0120         5        14      199      584   \n",
       "28826   57  ...  0.3500  0.3451  0.0049         7        20      180      551   \n",
       "28825   53  ...  0.1765  0.3451  0.1686         3        17      162      508   \n",
       "28827   66  ...  0.4211  0.3451  0.0760        11        30      235      675   \n",
       "\n",
       "       SoFar3Pt%  ToGo3Pt%  GameNumber  \n",
       "28825   0.272727  0.348936           1  \n",
       "28826   0.357143  0.341137           1  \n",
       "28826   0.350000  0.327496           1  \n",
       "28825   0.176471  0.314286           1  \n",
       "28827   0.366667  0.350144           2  \n",
       "\n",
       "[5 rows x 44 columns]"
      ]
     },
     "execution_count": 12,
     "metadata": {},
     "output_type": "execute_result"
    }
   ],
   "source": [
    "print(df.loc[(df['Season']==2010)&(df['TeamID']==1107)].FGA3.sum())\n",
    "# cumulative sum includes current game, so subract that\n",
    "df['ToGo_3M'] = df['ToGo_3M']-df['FGM3']\n",
    "df['ToGo_3A'] = df['ToGo_3A']-df['FGA3']\n",
    "df.head()"
   ]
  },
  {
   "cell_type": "code",
   "execution_count": 13,
   "metadata": {},
   "outputs": [],
   "source": [
    "df['Error2'] = np.sqrt(np.square(df['SoFar3Pt%']-df['ToGo3Pt%']))\n"
   ]
  },
  {
   "cell_type": "code",
   "execution_count": 14,
   "metadata": {},
   "outputs": [
    {
     "name": "stdout",
     "output_type": "stream",
     "text": [
      "0\n",
      "2\n"
     ]
    }
   ],
   "source": [
    "print(df['ToGo_3A'].min())\n",
    "\n",
    "test = df.loc[df['ToGo_3A'] > 0]\n",
    "print(test['ToGo_3A'].min())"
   ]
  },
  {
   "cell_type": "code",
   "execution_count": 15,
   "metadata": {},
   "outputs": [
    {
     "name": "stdout",
     "output_type": "stream",
     "text": [
      "0.031517701565159054\n"
     ]
    },
    {
     "data": {
      "image/png": "[encoded data removed]",
      "text/plain": [
       "<Figure size 864x360 with 1 Axes>"
      ]
     },
     "metadata": {
      "needs_background": "light"
     },
     "output_type": "display_data"
    }
   ],
   "source": [
    "\n",
    "test.groupby(['GameNumber'])['Error2'].count()\n",
    "# let's do 32 or less games because of sample size\n",
    "test = test.loc[test['GameNumber']<=32]\n",
    "\n",
    "x = test.GameNumber.unique()\n",
    "y = test.groupby(['GameNumber'])['Error2'].mean().values\n",
    "print(np.min(y))\n",
    "\n",
    "fig, ax = plt.subplots(1,1,figsize=(12,5))\n",
    "sns.lineplot(x,y)\n",
    "ax.axhline(0.09245,color='r')\n",
    "ax.set_title('Given 3Pt% through X games, error predicting ROS 3Pt%')\n",
    "plt.savefig(figs+'3PTXGames.png')"
   ]
  },
  {
   "cell_type": "code",
   "execution_count": 16,
   "metadata": {},
   "outputs": [
    {
     "name": "stdout",
     "output_type": "stream",
     "text": [
      "['Season', 'DayNum', 'TeamID', 'Score', 'OppTeamID', 'OppScore', 'Loc', 'NumOT', 'FGM', 'FGA', 'FGM3', 'FGA3', 'FTM', 'FTA', 'OR', 'DR', 'Ast', 'TO', 'Stl', 'Blk', 'PF', 'OppFGM', 'OppFGA', 'OppFGM3', 'OppFGA3', 'OppFTM', 'OppFTA', 'OppOR', 'OppDR', 'OppAst', 'OppTO', 'OppStl', 'OppBlk', 'OppPF', '3Pt%', 'GameNumber']\n"
     ]
    }
   ],
   "source": [
    "\n",
    "df = df.drop(columns=['SoFar_3M','SoFar_3A','SoFar3Pt%','ToGo_3M','ToGo_3A','ToGo3Pt%','Error1','Proj1','Error2'])\n",
    "print(list(df))\n"
   ]
  },
  {
   "cell_type": "code",
   "execution_count": 17,
   "metadata": {},
   "outputs": [],
   "source": [
    "df['SeaTID'] = df['Season'].astype(str) + df['TeamID'].astype(str)"
   ]
  },
  {
   "cell_type": "code",
   "execution_count": 18,
   "metadata": {},
   "outputs": [],
   "source": [
    "test = df.copy()"
   ]
  },
  {
   "cell_type": "code",
   "execution_count": 19,
   "metadata": {},
   "outputs": [
    {
     "name": "stderr",
     "output_type": "stream",
     "text": [
      "100%|██████████| 30/30 [01:06<00:00,  2.09s/it]"
     ]
    },
    {
     "name": "stdout",
     "output_type": "stream",
     "text": [
      "[1, 2, 3, 4, 5, 6, 7, 8, 9, 10, 11, 12, 13, 14, 15, 16, 17, 18, 19, 20, 21, 22, 23, 24, 25, 26, 27, 28, 29, 30] [0.1292787779400586, 0.11221828694300702, 0.10570636393273797, 0.10223978629078095, 0.10014952941754732, 0.09867422903513613, 0.09767682329048241, 0.09692081785983506, 0.09635185489649707, 0.09585406797528173, 0.09552734920592744, 0.09508893004417605, 0.09493322490248265, 0.09459304375564889, 0.09437362689528503, 0.09425970163364089, 0.09407108185710014, 0.09377581648272491, 0.09365257444342213, 0.09352799039811585, 0.09341897747120574, 0.09321721338023958, 0.09283510601612378, 0.09276275586316958, 0.09287398735797728, 0.09276686535828056, 0.0928861772144347, 0.09293895633352155, 0.09271155305749862, 0.0943424262342974]\n"
     ]
    },
    {
     "name": "stderr",
     "output_type": "stream",
     "text": [
      "\n"
     ]
    }
   ],
   "source": [
    "# Simple Moving Average\n",
    "\n",
    "test = None\n",
    "\n",
    "windows = list(range(30))\n",
    "windows = [x + 1 for x in windows]\n",
    "\n",
    "x = []\n",
    "y = []\n",
    "\n",
    "for w in tqdm(windows):\n",
    "    del test\n",
    "    gc.collect()\n",
    "    test = df.copy()\n",
    "\n",
    "    SMA = test.groupby(['SeaTID']).rolling(w)['3Pt%'].mean().shift(1).reset_index()\n",
    "    try:\n",
    "        SMA = SMA.drop(columns=['level_1'])\n",
    "    except:\n",
    "        pass\n",
    "    SMA = SMA.rename(columns={'3Pt%':'Proj'})\n",
    "    SMA['GameNumber'] = SMA.groupby(['SeaTID'])['Proj'].cumcount()\n",
    "\n",
    "    SMA['GameNumber'] += 1\n",
    "\n",
    "    test = pd.merge(test, SMA,  how='left', left_on=['SeaTID','GameNumber'], right_on = ['SeaTID','GameNumber'])\n",
    "    \n",
    "    test = test.dropna(subset=['Proj'])\n",
    "    test['Error'] = np.sqrt(np.square(test['3Pt%']-test['Proj']))\n",
    "    \n",
    "    x.append(w)\n",
    "    y.append(test['Error'].mean())\n",
    "\n",
    "    \n",
    "print(x,y)\n",
    "    "
   ]
  },
  {
   "cell_type": "code",
   "execution_count": 20,
   "metadata": {},
   "outputs": [],
   "source": [
    "sma_x = x\n",
    "sma_y = y\n"
   ]
  },
  {
   "cell_type": "code",
   "execution_count": 21,
   "metadata": {},
   "outputs": [
    {
     "data": {
      "image/png": "[encoded data removed]",
      "text/plain": [
       "<Figure size 864x360 with 1 Axes>"
      ]
     },
     "metadata": {
      "needs_background": "light"
     },
     "output_type": "display_data"
    }
   ],
   "source": [
    "\n",
    "fig, ax = plt.subplots(1,1,figsize=(12,5))\n",
    "sns.lineplot(sma_x,sma_y)\n",
    "ax.axhline(0.09245,color='r')\n",
    "ax.set_title('Error Using SMA of Last X Games')\n",
    "plt.savefig(figs+'SMAXGames.png')"
   ]
  },
  {
   "cell_type": "code",
   "execution_count": 23,
   "metadata": {},
   "outputs": [
    {
     "name": "stdout",
     "output_type": "stream",
     "text": [
      "0.09271155305749862\n"
     ]
    }
   ],
   "source": [
    "print(np.min(sma_y))\n"
   ]
  },
  {
   "cell_type": "code",
   "execution_count": 24,
   "metadata": {},
   "outputs": [
    {
     "name": "stderr",
     "output_type": "stream",
     "text": [
      "\r",
      "  0%|          | 0/31 [00:00<?, ?it/s]"
     ]
    },
    {
     "name": "stdout",
     "output_type": "stream",
     "text": [
      "[0.01  0.043 0.076 0.109 0.142 0.175 0.208 0.241 0.274 0.307 0.34  0.373\n",
      " 0.406 0.439 0.472 0.505 0.538 0.571 0.604 0.637 0.67  0.703 0.736 0.769\n",
      " 0.802 0.835 0.868 0.901 0.934 0.967 1.   ]\n"
     ]
    },
    {
     "name": "stderr",
     "output_type": "stream",
     "text": [
      "100%|██████████| 31/31 [01:22<00:00,  2.48s/it]\n"
     ]
    }
   ],
   "source": [
    "# Exponential Weighted Average\n",
    "\n",
    "test = None\n",
    "\n",
    "x = []\n",
    "y = []\n",
    "\n",
    "alphas = np.linspace(0.01,1,31)\n",
    "print(alphas)\n",
    "\n",
    "for a in tqdm(alphas):\n",
    "    del test\n",
    "    gc.collect()\n",
    "    test = df.copy()\n",
    "    test.reset_index(inplace=True,drop=True)\n",
    "\n",
    "    test = test.assign(\n",
    "        Proj=test.groupby('SeaTID')['3Pt%'].apply(\n",
    "            lambda x: x.ewm(alpha=a, adjust=False).mean().shift(1)))\n",
    "    \n",
    "    test = test.loc[test['GameNumber']>=29]\n",
    "    test = test.dropna(subset=['Proj'])\n",
    "    test['Error'] = np.sqrt(np.square(test['3Pt%']-test['Proj']))\n",
    "    \n",
    "    x.append(a)\n",
    "    y.append(test['Error'].mean())\n",
    "\n",
    "\n",
    "ema_x = x\n",
    "ema_y = y\n",
    "    \n",
    "    "
   ]
  },
  {
   "cell_type": "code",
   "execution_count": 25,
   "metadata": {},
   "outputs": [
    {
     "data": {
      "image/png": "[encoded data removed]",
      "text/plain": [
       "<Figure size 864x360 with 1 Axes>"
      ]
     },
     "metadata": {
      "needs_background": "light"
     },
     "output_type": "display_data"
    }
   ],
   "source": [
    "gc.collect()\n",
    "\n",
    "fig, ax = plt.subplots(1,1,figsize=(12,5))\n",
    "sns.lineplot(ema_x,ema_y)\n",
    "ax.axhline(0.09245,color='r')\n",
    "ax.set_title('Error Using EMA of Diff Alpha (29 Games)')\n",
    "plt.savefig(figs+'EMAAlpha.png')"
   ]
  },
  {
   "cell_type": "code",
   "execution_count": 26,
   "metadata": {},
   "outputs": [
    {
     "name": "stdout",
     "output_type": "stream",
     "text": [
      "[0.01, 0.043000000000000003, 0.076, 0.109, 0.14200000000000002, 0.17500000000000002, 0.20800000000000002, 0.24100000000000002, 0.274, 0.30700000000000005, 0.34, 0.373, 0.406, 0.43900000000000006, 0.47200000000000003, 0.505, 0.538, 0.5710000000000001, 0.6040000000000001, 0.637, 0.67, 0.7030000000000001, 0.736, 0.769, 0.802, 0.8350000000000001, 0.8680000000000001, 0.901, 0.934, 0.9670000000000001, 1.0]\n",
      "[0.11404247522235422, 0.09592581774038515, 0.09351139270499974, 0.09384564056934872, 0.09465280322489465, 0.0955542781668956, 0.09647283604371357, 0.0974108286502875, 0.09837040413726883, 0.09934496234593619, 0.10034577356940919, 0.10139054901837254, 0.102473088631049, 0.10359839798499836, 0.1047609848330181, 0.10597243592000714, 0.1072196516188443, 0.10850230852584848, 0.10982761143547665, 0.11118597152476817, 0.11259965609933119, 0.11406168593229518, 0.11556099878161277, 0.11711650427820378, 0.11873708707321799, 0.12041888437397337, 0.1221768429716754, 0.1240120963211571, 0.12592994832910584, 0.12791309815137408, 0.12997105184891444]\n"
     ]
    }
   ],
   "source": [
    "print(list(ema_x))\n",
    "print(list(ema_y))\n",
    "# .043 - .175"
   ]
  },
  {
   "cell_type": "code",
   "execution_count": 27,
   "metadata": {},
   "outputs": [
    {
     "name": "stderr",
     "output_type": "stream",
     "text": [
      "100%|██████████| 25/25 [01:05<00:00,  2.59s/it]\n"
     ]
    }
   ],
   "source": [
    "# do again with better alphas\n",
    "test = None\n",
    "\n",
    "x = []\n",
    "y = []\n",
    "\n",
    "alphas = np.linspace(.043,.175,25)\n",
    "\n",
    "for a in tqdm(alphas):\n",
    "    del test\n",
    "    gc.collect()\n",
    "    test = df.copy()\n",
    "    test.reset_index(inplace=True,drop=True)\n",
    "\n",
    "    test = test.assign(\n",
    "        Proj=test.groupby('SeaTID')['3Pt%'].apply(\n",
    "            lambda x: x.ewm(alpha=a, adjust=False).mean().shift(1)))\n",
    "    \n",
    "    test = test.loc[test['GameNumber']>=29]\n",
    "    test = test.dropna(subset=['Proj'])\n",
    "    test['Error'] = np.sqrt(np.square(test['3Pt%']-test['Proj']))\n",
    "    \n",
    "    x.append(a)\n",
    "    y.append(test['Error'].mean())\n",
    "\n",
    "\n",
    "ema_x1 = x\n",
    "ema_y1 = y\n",
    "    "
   ]
  },
  {
   "cell_type": "code",
   "execution_count": 28,
   "metadata": {},
   "outputs": [
    {
     "data": {
      "image/png": "[encoded data removed]",
      "text/plain": [
       "<Figure size 864x360 with 1 Axes>"
      ]
     },
     "metadata": {
      "needs_background": "light"
     },
     "output_type": "display_data"
    }
   ],
   "source": [
    "gc.collect()\n",
    "\n",
    "fig, ax = plt.subplots(1,1,figsize=(12,5))\n",
    "sns.lineplot(ema_x1,ema_y1)\n",
    "ax.axhline(0.09245,color='r')\n",
    "ax.set_title('Error Using EMA of Diff Alpha (29 Games)')\n",
    "plt.savefig(figs+'EMAAlpha1.png')"
   ]
  },
  {
   "cell_type": "code",
   "execution_count": 29,
   "metadata": {},
   "outputs": [
    {
     "data": {
      "text/plain": [
       "0.09348742869247553"
      ]
     },
     "execution_count": 29,
     "metadata": {},
     "output_type": "execute_result"
    }
   ],
   "source": [
    "np.min(ema_y1)"
   ]
  },
  {
   "cell_type": "code",
   "execution_count": 30,
   "metadata": {},
   "outputs": [
    {
     "ename": "KeyError",
     "evalue": "'Prev'",
     "output_type": "error",
     "traceback": [
      "\u001b[0;31m---------------------------------------------------------------------------\u001b[0m",
      "\u001b[0;31mKeyError\u001b[0m                                  Traceback (most recent call last)",
      "\u001b[0;32m/usr/local/lib/python3.7/site-packages/pandas/core/indexes/base.py\u001b[0m in \u001b[0;36mget_loc\u001b[0;34m(self, key, method, tolerance)\u001b[0m\n\u001b[1;32m   2656\u001b[0m             \u001b[0;32mtry\u001b[0m\u001b[0;34m:\u001b[0m\u001b[0;34m\u001b[0m\u001b[0;34m\u001b[0m\u001b[0m\n\u001b[0;32m-> 2657\u001b[0;31m                 \u001b[0;32mreturn\u001b[0m \u001b[0mself\u001b[0m\u001b[0;34m.\u001b[0m\u001b[0m_engine\u001b[0m\u001b[0;34m.\u001b[0m\u001b[0mget_loc\u001b[0m\u001b[0;34m(\u001b[0m\u001b[0mkey\u001b[0m\u001b[0;34m)\u001b[0m\u001b[0;34m\u001b[0m\u001b[0;34m\u001b[0m\u001b[0m\n\u001b[0m\u001b[1;32m   2658\u001b[0m             \u001b[0;32mexcept\u001b[0m \u001b[0mKeyError\u001b[0m\u001b[0;34m:\u001b[0m\u001b[0;34m\u001b[0m\u001b[0;34m\u001b[0m\u001b[0m\n",
      "\u001b[0;32mpandas/_libs/index.pyx\u001b[0m in \u001b[0;36mpandas._libs.index.IndexEngine.get_loc\u001b[0;34m()\u001b[0m\n",
      "\u001b[0;32mpandas/_libs/index.pyx\u001b[0m in \u001b[0;36mpandas._libs.index.IndexEngine.get_loc\u001b[0;34m()\u001b[0m\n",
      "\u001b[0;32mpandas/_libs/hashtable_class_helper.pxi\u001b[0m in \u001b[0;36mpandas._libs.hashtable.PyObjectHashTable.get_item\u001b[0;34m()\u001b[0m\n",
      "\u001b[0;32mpandas/_libs/hashtable_class_helper.pxi\u001b[0m in \u001b[0;36mpandas._libs.hashtable.PyObjectHashTable.get_item\u001b[0;34m()\u001b[0m\n",
      "\u001b[0;31mKeyError\u001b[0m: 'Prev'",
      "\nDuring handling of the above exception, another exception occurred:\n",
      "\u001b[0;31mKeyError\u001b[0m                                  Traceback (most recent call last)",
      "\u001b[0;32m<ipython-input-30-8f9b301a5082>\u001b[0m in \u001b[0;36m<module>\u001b[0;34m\u001b[0m\n\u001b[1;32m      3\u001b[0m \u001b[0mtest\u001b[0m \u001b[0;34m=\u001b[0m \u001b[0mdf\u001b[0m\u001b[0;34m.\u001b[0m\u001b[0mcopy\u001b[0m\u001b[0;34m(\u001b[0m\u001b[0;34m)\u001b[0m\u001b[0;34m\u001b[0m\u001b[0;34m\u001b[0m\u001b[0m\n\u001b[1;32m      4\u001b[0m \u001b[0mtest\u001b[0m\u001b[0;34m[\u001b[0m\u001b[0;34m'PrevYear'\u001b[0m\u001b[0;34m]\u001b[0m \u001b[0;34m=\u001b[0m \u001b[0mtest\u001b[0m\u001b[0;34m[\u001b[0m\u001b[0;34m'Season'\u001b[0m\u001b[0;34m]\u001b[0m \u001b[0;34m-\u001b[0m \u001b[0;36m1\u001b[0m\u001b[0;34m\u001b[0m\u001b[0;34m\u001b[0m\u001b[0m\n\u001b[0;32m----> 5\u001b[0;31m \u001b[0mtest\u001b[0m\u001b[0;34m[\u001b[0m\u001b[0;34m'PrevTID'\u001b[0m\u001b[0;34m]\u001b[0m \u001b[0;34m=\u001b[0m \u001b[0mtest\u001b[0m\u001b[0;34m[\u001b[0m\u001b[0;34m'Prev'\u001b[0m\u001b[0;34m]\u001b[0m\u001b[0;34m.\u001b[0m\u001b[0mastype\u001b[0m\u001b[0;34m(\u001b[0m\u001b[0mstr\u001b[0m\u001b[0;34m)\u001b[0m \u001b[0;34m+\u001b[0m \u001b[0mtest\u001b[0m\u001b[0;34m[\u001b[0m\u001b[0;34m'TeamID'\u001b[0m\u001b[0;34m]\u001b[0m\u001b[0;34m.\u001b[0m\u001b[0mastype\u001b[0m\u001b[0;34m(\u001b[0m\u001b[0mstr\u001b[0m\u001b[0;34m)\u001b[0m\u001b[0;34m\u001b[0m\u001b[0;34m\u001b[0m\u001b[0m\n\u001b[0m\u001b[1;32m      6\u001b[0m \u001b[0;34m\u001b[0m\u001b[0m\n\u001b[1;32m      7\u001b[0m \u001b[0mtgb\u001b[0m \u001b[0;34m=\u001b[0m \u001b[0mtest\u001b[0m\u001b[0;34m.\u001b[0m\u001b[0mgroupby\u001b[0m\u001b[0;34m(\u001b[0m\u001b[0;34m[\u001b[0m\u001b[0;34m'PrevTID'\u001b[0m\u001b[0;34m]\u001b[0m\u001b[0;34m)\u001b[0m\u001b[0;34m[\u001b[0m\u001b[0;34m'3Pt%'\u001b[0m\u001b[0;34m]\u001b[0m\u001b[0;34m.\u001b[0m\u001b[0mmean\u001b[0m\u001b[0;34m(\u001b[0m\u001b[0;34m)\u001b[0m\u001b[0;34m.\u001b[0m\u001b[0mreset_index\u001b[0m\u001b[0;34m(\u001b[0m\u001b[0;34m)\u001b[0m\u001b[0;34m\u001b[0m\u001b[0;34m\u001b[0m\u001b[0m\n",
      "\u001b[0;32m/usr/local/lib/python3.7/site-packages/pandas/core/frame.py\u001b[0m in \u001b[0;36m__getitem__\u001b[0;34m(self, key)\u001b[0m\n\u001b[1;32m   2925\u001b[0m             \u001b[0;32mif\u001b[0m \u001b[0mself\u001b[0m\u001b[0;34m.\u001b[0m\u001b[0mcolumns\u001b[0m\u001b[0;34m.\u001b[0m\u001b[0mnlevels\u001b[0m \u001b[0;34m>\u001b[0m \u001b[0;36m1\u001b[0m\u001b[0;34m:\u001b[0m\u001b[0;34m\u001b[0m\u001b[0;34m\u001b[0m\u001b[0m\n\u001b[1;32m   2926\u001b[0m                 \u001b[0;32mreturn\u001b[0m \u001b[0mself\u001b[0m\u001b[0;34m.\u001b[0m\u001b[0m_getitem_multilevel\u001b[0m\u001b[0;34m(\u001b[0m\u001b[0mkey\u001b[0m\u001b[0;34m)\u001b[0m\u001b[0;34m\u001b[0m\u001b[0;34m\u001b[0m\u001b[0m\n\u001b[0;32m-> 2927\u001b[0;31m             \u001b[0mindexer\u001b[0m \u001b[0;34m=\u001b[0m \u001b[0mself\u001b[0m\u001b[0;34m.\u001b[0m\u001b[0mcolumns\u001b[0m\u001b[0;34m.\u001b[0m\u001b[0mget_loc\u001b[0m\u001b[0;34m(\u001b[0m\u001b[0mkey\u001b[0m\u001b[0;34m)\u001b[0m\u001b[0;34m\u001b[0m\u001b[0;34m\u001b[0m\u001b[0m\n\u001b[0m\u001b[1;32m   2928\u001b[0m             \u001b[0;32mif\u001b[0m \u001b[0mis_integer\u001b[0m\u001b[0;34m(\u001b[0m\u001b[0mindexer\u001b[0m\u001b[0;34m)\u001b[0m\u001b[0;34m:\u001b[0m\u001b[0;34m\u001b[0m\u001b[0;34m\u001b[0m\u001b[0m\n\u001b[1;32m   2929\u001b[0m                 \u001b[0mindexer\u001b[0m \u001b[0;34m=\u001b[0m \u001b[0;34m[\u001b[0m\u001b[0mindexer\u001b[0m\u001b[0;34m]\u001b[0m\u001b[0;34m\u001b[0m\u001b[0;34m\u001b[0m\u001b[0m\n",
      "\u001b[0;32m/usr/local/lib/python3.7/site-packages/pandas/core/indexes/base.py\u001b[0m in \u001b[0;36mget_loc\u001b[0;34m(self, key, method, tolerance)\u001b[0m\n\u001b[1;32m   2657\u001b[0m                 \u001b[0;32mreturn\u001b[0m \u001b[0mself\u001b[0m\u001b[0;34m.\u001b[0m\u001b[0m_engine\u001b[0m\u001b[0;34m.\u001b[0m\u001b[0mget_loc\u001b[0m\u001b[0;34m(\u001b[0m\u001b[0mkey\u001b[0m\u001b[0;34m)\u001b[0m\u001b[0;34m\u001b[0m\u001b[0;34m\u001b[0m\u001b[0m\n\u001b[1;32m   2658\u001b[0m             \u001b[0;32mexcept\u001b[0m \u001b[0mKeyError\u001b[0m\u001b[0;34m:\u001b[0m\u001b[0;34m\u001b[0m\u001b[0;34m\u001b[0m\u001b[0m\n\u001b[0;32m-> 2659\u001b[0;31m                 \u001b[0;32mreturn\u001b[0m \u001b[0mself\u001b[0m\u001b[0;34m.\u001b[0m\u001b[0m_engine\u001b[0m\u001b[0;34m.\u001b[0m\u001b[0mget_loc\u001b[0m\u001b[0;34m(\u001b[0m\u001b[0mself\u001b[0m\u001b[0;34m.\u001b[0m\u001b[0m_maybe_cast_indexer\u001b[0m\u001b[0;34m(\u001b[0m\u001b[0mkey\u001b[0m\u001b[0;34m)\u001b[0m\u001b[0;34m)\u001b[0m\u001b[0;34m\u001b[0m\u001b[0;34m\u001b[0m\u001b[0m\n\u001b[0m\u001b[1;32m   2660\u001b[0m         \u001b[0mindexer\u001b[0m \u001b[0;34m=\u001b[0m \u001b[0mself\u001b[0m\u001b[0;34m.\u001b[0m\u001b[0mget_indexer\u001b[0m\u001b[0;34m(\u001b[0m\u001b[0;34m[\u001b[0m\u001b[0mkey\u001b[0m\u001b[0;34m]\u001b[0m\u001b[0;34m,\u001b[0m \u001b[0mmethod\u001b[0m\u001b[0;34m=\u001b[0m\u001b[0mmethod\u001b[0m\u001b[0;34m,\u001b[0m \u001b[0mtolerance\u001b[0m\u001b[0;34m=\u001b[0m\u001b[0mtolerance\u001b[0m\u001b[0;34m)\u001b[0m\u001b[0;34m\u001b[0m\u001b[0;34m\u001b[0m\u001b[0m\n\u001b[1;32m   2661\u001b[0m         \u001b[0;32mif\u001b[0m \u001b[0mindexer\u001b[0m\u001b[0;34m.\u001b[0m\u001b[0mndim\u001b[0m \u001b[0;34m>\u001b[0m \u001b[0;36m1\u001b[0m \u001b[0;32mor\u001b[0m \u001b[0mindexer\u001b[0m\u001b[0;34m.\u001b[0m\u001b[0msize\u001b[0m \u001b[0;34m>\u001b[0m \u001b[0;36m1\u001b[0m\u001b[0;34m:\u001b[0m\u001b[0;34m\u001b[0m\u001b[0;34m\u001b[0m\u001b[0m\n",
      "\u001b[0;32mpandas/_libs/index.pyx\u001b[0m in \u001b[0;36mpandas._libs.index.IndexEngine.get_loc\u001b[0;34m()\u001b[0m\n",
      "\u001b[0;32mpandas/_libs/index.pyx\u001b[0m in \u001b[0;36mpandas._libs.index.IndexEngine.get_loc\u001b[0;34m()\u001b[0m\n",
      "\u001b[0;32mpandas/_libs/hashtable_class_helper.pxi\u001b[0m in \u001b[0;36mpandas._libs.hashtable.PyObjectHashTable.get_item\u001b[0;34m()\u001b[0m\n",
      "\u001b[0;32mpandas/_libs/hashtable_class_helper.pxi\u001b[0m in \u001b[0;36mpandas._libs.hashtable.PyObjectHashTable.get_item\u001b[0;34m()\u001b[0m\n",
      "\u001b[0;31mKeyError\u001b[0m: 'Prev'"
     ]
    }
   ],
   "source": [
    "# what if we use the previous season's 3pt average as a prior?\n",
    "\n",
    "test = df.copy()\n",
    "test['PrevYear'] = test['Season'] - 1\n",
    "test['PrevTID'] = test['PrevY'].astype(str) + test['TeamID'].astype(str)\n",
    "\n",
    "tgb = test.groupby(['PrevTID'])['3Pt%'].mean().reset_index()\n",
    "\n",
    "# ny = test[['PrevTID', '3Pt%']]\n",
    "tgb"
   ]
  },
  {
   "cell_type": "code",
   "execution_count": 26,
   "metadata": {},
   "outputs": [
    {
     "data": {
      "text/plain": [
       "[<matplotlib.lines.Line2D at 0x11a7dc290>]"
      ]
     },
     "execution_count": 26,
     "metadata": {},
     "output_type": "execute_result"
    },
    {
     "data": {
      "image/png": "[encoded data removed]",
      "text/plain": [
       "<Figure size 432x288 with 1 Axes>"
      ]
     },
     "metadata": {
      "needs_background": "light"
     },
     "output_type": "display_data"
    }
   ],
   "source": [
    "# so, how 'sticky' the prior will be depends on how many samples you use\n",
    "# if we said the team made 633K/1.8M shots, then the prior wouldn't move\n",
    "# instead, since we expect variability, we can say the team made 35/100 shots. \n",
    "# This is a compromise between not sticky enough and too sticky, and can be adjusted\n",
    "\n",
    "from scipy.stats import beta\n",
    "import matplotlib.pyplot as plt\n",
    "import numpy as np\n",
    "a =  35\n",
    "b = 100\n",
    "x = np.linspace(0, 1.0, 100)\n",
    "y1 = beta.pdf(x, a, b)\n",
    "# y2 = beta.pdf(x, 3.25, 3.25)\n",
    "# y3 = beta.pdf(x, 3, 3)\n",
    "plt.plot(x, y1, \"-\")# x, y2, \"r--\", x, y3, \"g--\")\n",
    "\n"
   ]
  },
  {
   "cell_type": "code",
   "execution_count": 42,
   "metadata": {},
   "outputs": [
    {
     "data": {
      "text/plain": [
       "['Season',\n",
       " 'DayNum',\n",
       " 'TeamID',\n",
       " 'Score',\n",
       " 'OppTeamID',\n",
       " 'OppScore',\n",
       " 'Loc',\n",
       " 'NumOT',\n",
       " 'FGM',\n",
       " 'FGA',\n",
       " 'FGM3',\n",
       " 'FGA3',\n",
       " 'FTM',\n",
       " 'FTA',\n",
       " 'OR',\n",
       " 'DR',\n",
       " 'Ast',\n",
       " 'TO',\n",
       " 'Stl',\n",
       " 'Blk',\n",
       " 'PF',\n",
       " 'OppFGM',\n",
       " 'OppFGA',\n",
       " 'OppFGM3',\n",
       " 'OppFGA3',\n",
       " 'OppFTM',\n",
       " 'OppFTA',\n",
       " 'OppOR',\n",
       " 'OppDR',\n",
       " 'OppAst',\n",
       " 'OppTO',\n",
       " 'OppStl',\n",
       " 'OppBlk',\n",
       " 'OppPF']"
      ]
     },
     "execution_count": 42,
     "metadata": {},
     "output_type": "execute_result"
    }
   ],
   "source": []
  },
  {
   "cell_type": "code",
   "execution_count": 71,
   "metadata": {},
   "outputs": [
    {
     "data": {
      "text/plain": [
       "0.3436479095074456"
      ]
     },
     "execution_count": 71,
     "metadata": {},
     "output_type": "execute_result"
    }
   ],
   "source": [
    "# find worst and best 3pt shooting teams\n",
    "gb = df.groupby(['Season','TeamID'])['FGM3','FGA3'].sum().reset_index()\n",
    "gb['3Pt%'] = np.round(gb['FGM3']/gb['FGA3'],4)\n",
    "gb = gb.sort_values(by='3Pt%')\n",
    "\n",
    "teams = teams[['TeamID','TeamName']]\n",
    "gb = pd.merge(gb, teams, how='left', on=['TeamID','TeamID'])\n",
    "gb['3Pt%'].mean()\n"
   ]
  },
  {
   "cell_type": "code",
   "execution_count": 52,
   "metadata": {},
   "outputs": [
    {
     "data": {
      "text/plain": [
       "68"
      ]
     },
     "execution_count": 52,
     "metadata": {},
     "output_type": "execute_result"
    }
   ],
   "source": [
    "# Duke (team code 1181) was bad at 3 point shooting in 2019. \n",
    "#Let's see how the distribution evolves over the course of the season\n",
    "\n",
    "# msu = df.loc[df.TeamID==1277]\n",
    "# msu = msu.loc[msu.Season==2016]\n",
    "# len(msu)\n"
   ]
  },
  {
   "cell_type": "code",
   "execution_count": 53,
   "metadata": {},
   "outputs": [
    {
     "data": {
      "text/html": [
       "<div>\n",
       "<style scoped>\n",
       "    .dataframe tbody tr th:only-of-type {\n",
       "        vertical-align: middle;\n",
       "    }\n",
       "\n",
       "    .dataframe tbody tr th {\n",
       "        vertical-align: top;\n",
       "    }\n",
       "\n",
       "    .dataframe thead th {\n",
       "        text-align: right;\n",
       "    }\n",
       "</style>\n",
       "<table border=\"1\" class=\"dataframe\">\n",
       "  <thead>\n",
       "    <tr style=\"text-align: right;\">\n",
       "      <th></th>\n",
       "      <th>FGM3</th>\n",
       "      <th>FGMiss3</th>\n",
       "      <th>3Pt%</th>\n",
       "    </tr>\n",
       "  </thead>\n",
       "  <tbody>\n",
       "    <tr>\n",
       "      <th>65924</th>\n",
       "      <td>5</td>\n",
       "      <td>8</td>\n",
       "      <td>0.384615</td>\n",
       "    </tr>\n",
       "    <tr>\n",
       "      <th>66133</th>\n",
       "      <td>9</td>\n",
       "      <td>12</td>\n",
       "      <td>0.428571</td>\n",
       "    </tr>\n",
       "    <tr>\n",
       "      <th>66257</th>\n",
       "      <td>9</td>\n",
       "      <td>17</td>\n",
       "      <td>0.346154</td>\n",
       "    </tr>\n",
       "    <tr>\n",
       "      <th>66432</th>\n",
       "      <td>9</td>\n",
       "      <td>11</td>\n",
       "      <td>0.450000</td>\n",
       "    </tr>\n",
       "    <tr>\n",
       "      <th>66579</th>\n",
       "      <td>11</td>\n",
       "      <td>10</td>\n",
       "      <td>0.523810</td>\n",
       "    </tr>\n",
       "    <tr>\n",
       "      <th>66629</th>\n",
       "      <td>10</td>\n",
       "      <td>13</td>\n",
       "      <td>0.434783</td>\n",
       "    </tr>\n",
       "    <tr>\n",
       "      <th>66755</th>\n",
       "      <td>7</td>\n",
       "      <td>15</td>\n",
       "      <td>0.318182</td>\n",
       "    </tr>\n",
       "    <tr>\n",
       "      <th>66876</th>\n",
       "      <td>9</td>\n",
       "      <td>14</td>\n",
       "      <td>0.391304</td>\n",
       "    </tr>\n",
       "    <tr>\n",
       "      <th>67011</th>\n",
       "      <td>7</td>\n",
       "      <td>19</td>\n",
       "      <td>0.269231</td>\n",
       "    </tr>\n",
       "    <tr>\n",
       "      <th>67169</th>\n",
       "      <td>12</td>\n",
       "      <td>10</td>\n",
       "      <td>0.545455</td>\n",
       "    </tr>\n",
       "    <tr>\n",
       "      <th>67245</th>\n",
       "      <td>5</td>\n",
       "      <td>20</td>\n",
       "      <td>0.200000</td>\n",
       "    </tr>\n",
       "    <tr>\n",
       "      <th>67495</th>\n",
       "      <td>6</td>\n",
       "      <td>7</td>\n",
       "      <td>0.461538</td>\n",
       "    </tr>\n",
       "    <tr>\n",
       "      <th>67654</th>\n",
       "      <td>10</td>\n",
       "      <td>7</td>\n",
       "      <td>0.588235</td>\n",
       "    </tr>\n",
       "    <tr>\n",
       "      <th>67986</th>\n",
       "      <td>4</td>\n",
       "      <td>9</td>\n",
       "      <td>0.307692</td>\n",
       "    </tr>\n",
       "    <tr>\n",
       "      <th>68210</th>\n",
       "      <td>6</td>\n",
       "      <td>9</td>\n",
       "      <td>0.400000</td>\n",
       "    </tr>\n",
       "  </tbody>\n",
       "</table>\n",
       "</div>"
      ],
      "text/plain": [
       "       FGM3  FGMiss3      3Pt%\n",
       "65924     5        8  0.384615\n",
       "66133     9       12  0.428571\n",
       "66257     9       17  0.346154\n",
       "66432     9       11  0.450000\n",
       "66579    11       10  0.523810\n",
       "66629    10       13  0.434783\n",
       "66755     7       15  0.318182\n",
       "66876     9       14  0.391304\n",
       "67011     7       19  0.269231\n",
       "67169    12       10  0.545455\n",
       "67245     5       20  0.200000\n",
       "67495     6        7  0.461538\n",
       "67654    10        7  0.588235\n",
       "67986     4        9  0.307692\n",
       "68210     6        9  0.400000"
      ]
     },
     "execution_count": 53,
     "metadata": {},
     "output_type": "execute_result"
    }
   ],
   "source": [
    "# msu['FGMiss3'] = msu['FGA3'] - msu['FGM3']\n",
    "# msu['3Pt%'] = msu['FGM3']/msu['FGA3']\n",
    "\n",
    "# msu[['FGM3','FGMiss3','3Pt%']].head(15)"
   ]
  },
  {
   "cell_type": "code",
   "execution_count": 54,
   "metadata": {},
   "outputs": [
    {
     "name": "stdout",
     "output_type": "stream",
     "text": [
      "0.4326241134751773\n"
     ]
    }
   ],
   "source": [
    "# made = msu.FGM3.values\n",
    "# missed = msu.FGMiss3.values\n",
    "# attempts = msu.FGA3.values\n",
    "\n",
    "# sample_games = 20\n",
    "# sample_made = made[:sample_games]\n",
    "# sample_missed = missed[:sample_games]\n",
    "# sample_attempts = attempts[:sample_games]\n",
    "\n",
    "# print(np.sum(sample_made)/np.sum(sample_attempts))\n",
    "# print(sample_made)\n",
    "\n",
    "\n"
   ]
  },
  {
   "cell_type": "code",
   "execution_count": 60,
   "metadata": {},
   "outputs": [
    {
     "name": "stdout",
     "output_type": "stream",
     "text": [
      "0.43\n",
      "0.41\n",
      "0.4\n",
      "0.43\n",
      "0.45\n",
      "0.44\n"
     ]
    },
    {
     "data": {
      "image/png": "[encoded data removed]",
      "text/plain": [
       "<Figure size 1080x504 with 6 Axes>"
      ]
     },
     "metadata": {
      "needs_background": "light"
     },
     "output_type": "display_data"
    }
   ],
   "source": [
    "\n",
    "# a =  35\n",
    "# b = 100\n",
    "# x = np.linspace(0, 1.0, 100)\n",
    "# y1 = beta.pdf(x, a, b)\n",
    "# # y2 = beta.pdf(x, 3.25, 3.25)\n",
    "# # y3 = beta.pdf(x, 3, 3)\n",
    "# # plt.plot(x, y1, \"-\")# x, y2, \"r--\", x, y3, \"g--\")\n",
    "\n",
    "# fig, axs = plt.subplots(2,3, figsize=(15,7))\n",
    "# fig.tight_layout()\n",
    "\n",
    "# sample = 0\n",
    "# grid = {\n",
    "#     1:[0,0],\n",
    "#     2:[0,1],\n",
    "#     3:[0,2],\n",
    "#     4:[1,0],\n",
    "#     5:[1,1],\n",
    "#     6:[1,2]\n",
    "# }\n",
    "\n",
    "# for i in range(6):\n",
    "#     idx = i+1\n",
    "#     sample += 5\n",
    "#     low_bound = max(0, sample-25)\n",
    "#     sample_made = made[low_bound:sample]\n",
    "#     sample_attempts = attempts[low_bound:sample]\n",
    "#     pltx, plty = grid[idx]\n",
    "    \n",
    "#     c = sample_made.sum()\n",
    "#     d = sample_attempts.sum()\n",
    "#     print(np.round(c/d,2))\n",
    "    \n",
    "#     y1 = beta.pdf(x, a, b)\n",
    "#     y2 = beta.pdf(x, c, d)\n",
    "    \n",
    "#     axs[pltx,plty].plot(x, y1, \"-\", x, y2, \"g--\")\n",
    "#     axs[pltx,plty].set_title('After {} games'.format(sample))\n",
    "    \n",
    "    "
   ]
  },
  {
   "cell_type": "code",
   "execution_count": null,
   "metadata": {},
   "outputs": [],
   "source": [
    "df['3Pt%'] = df['FGM3']/df['FGA3']\n",
    "df['FG%'] = df['FGM']/df['FGA']\n"
   ]
  },
  {
   "cell_type": "code",
   "execution_count": 69,
   "metadata": {},
   "outputs": [
    {
     "name": "stdout",
     "output_type": "stream",
     "text": [
      "0.3436479095074456\n",
      "0.02859023293520763\n",
      "Statistics=0.736, p=0.692\n"
     ]
    },
    {
     "data": {
      "image/png": "[encoded data removed]",
      "text/plain": [
       "<Figure size 432x288 with 1 Axes>"
      ]
     },
     "metadata": {
      "needs_background": "light"
     },
     "output_type": "display_data"
    }
   ],
   "source": [
    "sns.distplot(data)\n",
    "\n",
    "print(gb['3Pt%'].mean())\n",
    "print(gb['3Pt%'].std())\n",
    "\n",
    "from scipy.stats import normaltest\n",
    "stat, p = normaltest(gb['3Pt%'].values)\n",
    "print('Statistics=%.3f, p=%.3f' % (stat, p))"
   ]
  },
  {
   "cell_type": "code",
   "execution_count": 63,
   "metadata": {},
   "outputs": [
    {
     "data": {
      "text/plain": [
       "<matplotlib.axes._subplots.AxesSubplot at 0x11fb9c990>"
      ]
     },
     "execution_count": 63,
     "metadata": {},
     "output_type": "execute_result"
    },
    {
     "data": {
      "image/png": "[encoded data removed]",
      "text/plain": [
       "<Figure size 864x360 with 1 Axes>"
      ]
     },
     "metadata": {
      "needs_background": "light"
     },
     "output_type": "display_data"
    }
   ],
   "source": [
    "import seaborn as sns\n",
    "\n",
    "fig, ax = plt.subplots(1,1,figsize=(12, 5))\n",
    "\n",
    "sns.lineplot(msu['DayNum'].values,msu['3Pt%'])\n"
   ]
  },
  {
   "cell_type": "code",
   "execution_count": null,
   "metadata": {},
   "outputs": [],
   "source": []
  }
 ],
 "metadata": {
  "kernelspec": {
   "display_name": "Python 3",
   "language": "python",
   "name": "python3"
  },
  "language_info": {
   "codemirror_mode": {
    "name": "ipython",
    "version": 3
   },
   "file_extension": ".py",
   "mimetype": "text/x-python",
   "name": "python",
   "nbconvert_exporter": "python",
   "pygments_lexer": "ipython3",
   "version": "3.7.4"
  }
 },
 "nbformat": 4,
 "nbformat_minor": 2
}
